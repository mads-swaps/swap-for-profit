{
 "cells": [
  {
   "cell_type": "code",
   "execution_count": 1,
   "metadata": {},
   "outputs": [],
   "source": [
    "import requests\n",
    "import xml.etree.ElementTree as ET\n",
    "from tqdm import tqdm\n",
    "import pandas as pd\n",
    "import os\n",
    "from zipfile import ZipFile\n",
    "import io"
   ]
  },
  {
   "cell_type": "code",
   "execution_count": 2,
   "metadata": {},
   "outputs": [],
   "source": [
    "config = {\n",
    "    'symbol':'ETHBTC',\n",
    "    'dfreq':'15m',\n",
    "    'pair_id':0, # this is the pair_id foreign key in the database\n",
    "}"
   ]
  },
  {
   "cell_type": "code",
   "execution_count": 3,
   "metadata": {},
   "outputs": [],
   "source": [
    "def download_files(config):\n",
    "    ns = '{http://s3.amazonaws.com/doc/2006-03-01/}'\n",
    "    file_list = []\n",
    "    for ufreq in ['daily','monthly']:\n",
    "        url = f\"https://s3-ap-northeast-1.amazonaws.com/data.binance.vision?delimiter=/&prefix=data/spot/{ufreq}/klines/{config['symbol']}/{config['dfreq']}/\"\n",
    "        req = requests.get(url)\n",
    "        root = ET.fromstring(req.content)\n",
    "        file_list += [item.text for item in root.findall(f\"{ns}Contents/{ns}Key\",) if item.text.endswith('.zip')]\n",
    "    \n",
    "    ret_list = []\n",
    "    for f in tqdm(file_list):\n",
    "        f_ = 'temp/' + str(config['pair_id']) + \"_\" + f.replace(\"/\",\"_\")\n",
    "        ret_list.append(f_)\n",
    "        if not os.path.exists(f_):\n",
    "            furl = f'https://data.binance.vision/{f}'\n",
    "            r = requests.get(furl, allow_redirects=True)\n",
    "            open(f_, 'wb').write(r.content)\n",
    "\n",
    "    return ret_list"
   ]
  },
  {
   "cell_type": "code",
   "execution_count": 4,
   "metadata": {},
   "outputs": [
    {
     "name": "stderr",
     "output_type": "stream",
     "text": [
      "100%|██████████| 167/167 [00:00<00:00, 75773.34it/s]\n"
     ]
    },
    {
     "name": "stdout",
     "output_type": "stream",
     "text": [
      "0_klines_ETHBTC_15m.csv\n"
     ]
    }
   ],
   "source": [
    "columns = ['open_time','open','high','low','close','volume','close_time','quote_asset_volume',\n",
    "         'number_of_trades','taker_buy_base_asset_volume','taker_buy_quote_asset_volume','pair_id']\n",
    "dfs = []\n",
    "for f in download_files(config):\n",
    "    input_zip=ZipFile(f)\n",
    "    data = [input_zip.read(name) for name in input_zip.namelist()][0]\n",
    "    df = pd.read_csv(io.BytesIO(data), names=columns)\n",
    "    df['pair_id'] = config['pair_id']\n",
    "    df['open_time'] = pd.to_datetime(df['open_time'], unit='ms')\n",
    "    df['close_time'] = pd.to_datetime(df['close_time'], unit='ms')\n",
    "    df.set_index('open_time', inplace=True)\n",
    "    dfs.append(df)\n",
    "df = pd.concat(dfs)\n",
    "df = df[~df.index.duplicated(keep='first')].sort_index()\n",
    "\n",
    "df.to_csv(f\"{config['pair_id']}_klines_{config['symbol']}_{config['dfreq']}.csv\")\n",
    "\n",
    "print(f\"{config['pair_id']}_klines_{config['symbol']}_{config['dfreq']}.csv\")"
   ]
  },
  {
   "cell_type": "code",
   "execution_count": 5,
   "metadata": {},
   "outputs": [
    {
     "data": {
      "text/plain": [
       "138309"
      ]
     },
     "execution_count": 5,
     "metadata": {},
     "output_type": "execute_result"
    }
   ],
   "source": [
    "len(df)"
   ]
  }
 ],
 "metadata": {
  "kernelspec": {
   "display_name": "Python 3",
   "language": "python",
   "name": "python3"
  },
  "language_info": {
   "codemirror_mode": {
    "name": "ipython",
    "version": 3
   },
   "file_extension": ".py",
   "mimetype": "text/x-python",
   "name": "python",
   "nbconvert_exporter": "python",
   "pygments_lexer": "ipython3",
   "version": "3.8.5"
  }
 },
 "nbformat": 4,
 "nbformat_minor": 4
}
