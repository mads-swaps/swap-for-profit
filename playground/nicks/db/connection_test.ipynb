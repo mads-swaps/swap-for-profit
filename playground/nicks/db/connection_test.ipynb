{
 "cells": [
  {
   "cell_type": "code",
   "execution_count": 5,
   "metadata": {},
   "outputs": [],
   "source": [
    "import json\n",
    "import boto3\n",
    "import psycopg2\n",
    "\n",
    "aws_endpoint = None\n",
    "aws_user = None\n",
    "aws_db = None\n",
    "aws_port = None\n",
    "aws_region = None\n",
    "\n",
    "try:\n",
    "    with open('aws.config') as k:\n",
    "        j=json.load(k)\n",
    "        aws_endpoint = j['endpoint']\n",
    "        aws_port = j['port']\n",
    "        aws_user = j['user']\n",
    "        aws_db = j['dbname']\n",
    "        aws_region = j['region']\n",
    "except Exception as e:\n",
    "    print(e)"
   ]
  },
  {
   "cell_type": "code",
   "execution_count": 7,
   "metadata": {},
   "outputs": [],
   "source": [
    "# Stored credentials in C:\\users\\mille\\.aws\\credentials\n",
    "session = boto3.Session(profile_name='default')\n",
    "client = session.client('rds')"
   ]
  },
  {
   "cell_type": "code",
   "execution_count": 8,
   "metadata": {},
   "outputs": [],
   "source": [
    "token = client.generate_db_auth_token(DBHostname=aws_endpoint, Port=aws_port, DBUsername=aws_db, Region=aws_region)"
   ]
  },
  {
   "cell_type": "code",
   "execution_count": 9,
   "metadata": {},
   "outputs": [
    {
     "name": "stdout",
     "output_type": "stream",
     "text": [
      "Database connection failed due to could not initiate GSSAPI security context: Unspecified GSS failure.  Minor code may provide more information\n",
      "could not initiate GSSAPI security context: Credential cache is empty\n",
      "FATAL:  password authentication failed for user \"nick\"\n",
      "FATAL:  password authentication failed for user \"nick\"\n",
      "\n"
     ]
    }
   ],
   "source": [
    "try:\n",
    "    conn = psycopg2.connect(host=aws_endpoint, port=aws_port, database=aws_db, user=aws_user, password=token)\n",
    "    cur = conn.cursor()\n",
    "    cur.execute(\"\"\"SELECT now()\"\"\")\n",
    "    query_results = cur.fetchall()\n",
    "    print(query_results)\n",
    "except Exception as e:\n",
    "    print(\"Database connection failed due to {}\".format(e))"
   ]
  }
 ],
 "metadata": {
  "kernelspec": {
   "display_name": "Python 3",
   "language": "python",
   "name": "python3"
  },
  "language_info": {
   "codemirror_mode": {
    "name": "ipython",
    "version": 3
   },
   "file_extension": ".py",
   "mimetype": "text/x-python",
   "name": "python",
   "nbconvert_exporter": "python",
   "pygments_lexer": "ipython3",
   "version": "3.8.5"
  }
 },
 "nbformat": 4,
 "nbformat_minor": 4
}
