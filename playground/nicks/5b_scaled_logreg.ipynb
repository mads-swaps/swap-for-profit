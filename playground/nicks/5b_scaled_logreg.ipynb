{
 "cells": [
  {
   "cell_type": "code",
   "execution_count": 1,
   "metadata": {},
   "outputs": [],
   "source": [
    "import pandas as pd\n",
    "import numpy as np\n",
    "\n",
    "pd.set_option('display.max_columns', 500)"
   ]
  },
  {
   "cell_type": "markdown",
   "metadata": {},
   "source": [
    "# Simulator Code"
   ]
  },
  {
   "cell_type": "code",
   "execution_count": 2,
   "metadata": {},
   "outputs": [],
   "source": [
    "def get_target_stoploss(df, threshold_ratio=(0.04,0.02), use_atr=True, atr_ratio=(2,1), reverse=False):\n",
    "    if not reverse:\n",
    "        if use_atr:\n",
    "            stop_losses = df.low-(df.atr*atr_ratio[1])\n",
    "            targets = df.close+(df.atr*atr_ratio[0])\n",
    "        else:\n",
    "            stop_losses = df.close-df.close*threshold_ratio[1]\n",
    "            targets = df.close+df.close*threshold_ratio[0]\n",
    "    else:\n",
    "        if use_atr:\n",
    "            stop_losses = df.high+(df.atr*atr_ratio[1])\n",
    "            targets = df.close-(df.atr*atr_ratio[0])\n",
    "        else:\n",
    "            stop_losses = df.close+df.close*threshold_ratio[1]\n",
    "            targets = df.close-df.close*threshold_ratio[0]\n",
    "\n",
    "    return targets, stop_losses\n",
    "\n",
    "def get_decisions_and_prices(x_data, pred, info_dict):\n",
    "    next_action = 1\n",
    "    target = -1\n",
    "    stoploss = -1\n",
    "    \n",
    "    if type(x_data.index) != pd.RangeIndex:\n",
    "        x_data = x_data.reset_index(drop=True)\n",
    "    \n",
    "    if type(pred) in (pd.DataFrame, pd.Series):\n",
    "        pred = pred.to_numpy().ravel()\n",
    "\n",
    "    use_atr = info_dict['model_use_atr']\n",
    "    atr_ratio = info_dict['model_ratio']\n",
    "    threshold_ratio = info_dict['model_ratio']\n",
    "    reverse = info_dict['model_reverse']\n",
    "        \n",
    "    targets, stop_losses = get_target_stoploss(x_data,\n",
    "                                               use_atr=use_atr,\n",
    "                                               atr_ratio=atr_ratio,\n",
    "                                               threshold_ratio=threshold_ratio,\n",
    "                                               reverse=reverse)\n",
    "    low_prices = x_data['low'].to_numpy()\n",
    "    high_prices = x_data['high'].to_numpy()\n",
    "    \n",
    "    # Decisions:\n",
    "    # 1 = buy\n",
    "    # 0 = hold (default)\n",
    "    # -1 = sell\n",
    "    decision = pd.Series(0, index=x_data.index)\n",
    "    execution_price = pd.Series(0.0, index=x_data.index)\n",
    "\n",
    "    i = 0\n",
    "    while True:\n",
    "        if i>=len(x_data):\n",
    "            break\n",
    "        if next_action == 1:\n",
    "            # Find next buy opportunity\n",
    "            try:\n",
    "                next_buy_idx = np.where(pred[i:]==1)[0][0] + i\n",
    "                target = targets.iloc[next_buy_idx]\n",
    "                stoploss = stop_losses.iloc[next_buy_idx]\n",
    "                decision.at[next_buy_idx] = 1\n",
    "                execution_price.at[next_buy_idx] = x_data.loc[next_buy_idx, 'close']\n",
    "                i = next_buy_idx+1\n",
    "                next_action = -1\n",
    "            except:\n",
    "                # No more buy opportunties\n",
    "                break\n",
    "        else:\n",
    "            # Find next sell opportunity\n",
    "            try:\n",
    "                if not reverse:\n",
    "                    next_sell_idx = np.where((high_prices[i:]>=target) | (low_prices[i:]<=stoploss))[0][0] + i\n",
    "                else:\n",
    "                    next_sell_idx = np.where((low_prices[i:]<=target) | (high_prices[i:]>=stoploss))[0][0] + i\n",
    "                if x_data.loc[next_sell_idx, 'low'] <= target <= x_data.loc[next_sell_idx, 'high']:\n",
    "                    execution_price.at[next_sell_idx] = target\n",
    "                else:\n",
    "                    execution_price.at[next_sell_idx] = stoploss\n",
    "                decision.at[next_sell_idx] = -1\n",
    "                i = next_sell_idx+1\n",
    "                next_action = 1\n",
    "            except:\n",
    "                # No more sell opportunties\n",
    "                break\n",
    "\n",
    "    return decision, execution_price\n",
    "\n",
    "def simulate(in_df, starting_value, trading_fees_percent, trading_fees_buy, trading_fees_sell):\n",
    "    df = in_df.copy()\n",
    "    df['value'] = 0.0\n",
    "    value = starting_value\n",
    "    fee_multiplier = 1.0 - trading_fees_percent / 100\n",
    "\n",
    "    for x,r in df.iterrows():\n",
    "        if r.decision == 1 and value > 0:\n",
    "            value = ((value-trading_fees_buy) * r.price) * fee_multiplier\n",
    "            if value < 0:\n",
    "                break\n",
    "        elif r.decision == -1 and value > 0:\n",
    "            value = ((value-trading_fees_sell) / r.price) * fee_multiplier\n",
    "            if value < 0:\n",
    "                break\n",
    "        else:\n",
    "            break # value is below zero\n",
    "        df.loc[x,'value'] = value\n",
    "    return df.value\n",
    "\n",
    "def run_simulator(X, y, model_use_atr, model_ratio, model_reverse,\n",
    "                  starting_value=1, trading_fees_percent=0.1,\n",
    "                  trading_fees_buy=0, trading_fees_sell=0):\n",
    "    df = X.copy()\n",
    "    d = dict(model_use_atr=model_use_atr, model_ratio=model_ratio, model_reverse=model_reverse)\n",
    "    \n",
    "    decision, execution_price = get_decisions_and_prices(X, y, d)\n",
    "    \n",
    "    df['decision'] = decision.values\n",
    "    df['price'] = execution_price.values\n",
    "    \n",
    "    sim_df = df[df['decision']!=0][['decision','price']].copy()\n",
    "    if len(sim_df) == 0:\n",
    "        return starting_value\n",
    "    else:\n",
    "        sim_df['value'] = simulate(sim_df, starting_value, trading_fees_percent, trading_fees_buy, trading_fees_sell)\n",
    "        return sim_df[sim_df.decision==-1].value.to_numpy()[-1]"
   ]
  },
  {
   "cell_type": "markdown",
   "metadata": {},
   "source": [
    "# Custom Scaler"
   ]
  },
  {
   "cell_type": "code",
   "execution_count": 3,
   "metadata": {},
   "outputs": [],
   "source": [
    "from trade_models.n1_custom_scalers import CustomScaler1"
   ]
  },
  {
   "cell_type": "markdown",
   "metadata": {},
   "source": [
    "# Load Data"
   ]
  },
  {
   "cell_type": "code",
   "execution_count": 4,
   "metadata": {},
   "outputs": [],
   "source": [
    "def train_test_split(X, y, train_idx=None, test_idx=None):\n",
    "    X_train = X.loc[train_idx]\n",
    "    y_train = y.loc[train_idx]\n",
    "    X_test = X.loc[test_idx]\n",
    "    y_test = y.loc[test_idx]\n",
    "    return (X_train, y_train, X_test, y_test)\n",
    "\n",
    "def load_split_data(suffix, split=False):\n",
    "    X = pd.read_pickle(f'data/X_{suffix}.pkl')\n",
    "    y = pd.read_pickle(f'data/y_{suffix}.pkl')\n",
    "    if split:\n",
    "        X_train, y_train, X_test, y_test = train_test_split(X, y, X.loc['2018':'2020'].index, X.loc['2021':].index)\n",
    "        return X_train, y_train, X_test, y_test\n",
    "    else:\n",
    "        return X, y\n",
    "\n",
    "X_train, y_train, X_test, y_test = load_split_data(suffix='20210806i', split=True)"
   ]
  },
  {
   "cell_type": "markdown",
   "metadata": {},
   "source": [
    "# Build Model Pipeline"
   ]
  },
  {
   "cell_type": "code",
   "execution_count": 5,
   "metadata": {},
   "outputs": [],
   "source": [
    "from sklearn.pipeline import make_pipeline\n",
    "from sklearn.linear_model import LogisticRegression\n",
    "\n",
    "clf = make_pipeline(CustomScaler1(),LogisticRegression(random_state=42, max_iter=10000)).fit(X_train, y_train.buy)"
   ]
  },
  {
   "cell_type": "markdown",
   "metadata": {},
   "source": [
    "# Evaluate"
   ]
  },
  {
   "cell_type": "code",
   "execution_count": 6,
   "metadata": {},
   "outputs": [
    {
     "name": "stdout",
     "output_type": "stream",
     "text": [
      "Precision: 0.5623529411764706\n",
      "Recall: 0.05825716026812919\n",
      "Profit: 1.1390253129535695\n"
     ]
    }
   ],
   "source": [
    "from sklearn.metrics import f1_score, precision_score, recall_score\n",
    "\n",
    "pred = clf.predict(X_test)\n",
    "\n",
    "prec = precision_score(y_test, pred)\n",
    "recall = recall_score(y_test, pred)\n",
    "profit = run_simulator(X_test, pred, model_use_atr=True, model_ratio=(2,1), model_reverse=True)\n",
    "\n",
    "print(\"Precision:\", prec)\n",
    "print(\"Recall:\", recall)\n",
    "print(\"Profit:\", profit)"
   ]
  },
  {
   "cell_type": "markdown",
   "metadata": {},
   "source": [
    "# Save Model"
   ]
  },
  {
   "cell_type": "code",
   "execution_count": 7,
   "metadata": {},
   "outputs": [
    {
     "name": "stdout",
     "output_type": "stream",
     "text": [
      "Saving model to models/nm_lrc_scaled_2108171514.pkl...\n"
     ]
    }
   ],
   "source": [
    "import pickle\n",
    "import datetime\n",
    "\n",
    "timestamp = datetime.datetime.now().strftime('%y%m%d%H%M')\n",
    "filename = f\"models/nm_lrc_scaled_{timestamp}.pkl\"\n",
    "print(f'Saving model to {filename}...')\n",
    "pickle.dump(clf, open(filename, 'wb'))"
   ]
  }
 ],
 "metadata": {
  "kernelspec": {
   "display_name": "Python 3",
   "language": "python",
   "name": "python3"
  },
  "language_info": {
   "codemirror_mode": {
    "name": "ipython",
    "version": 3
   },
   "file_extension": ".py",
   "mimetype": "text/x-python",
   "name": "python",
   "nbconvert_exporter": "python",
   "pygments_lexer": "ipython3",
   "version": "3.8.5"
  }
 },
 "nbformat": 4,
 "nbformat_minor": 4
}
