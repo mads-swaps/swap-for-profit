{
 "cells": [
  {
   "cell_type": "code",
   "execution_count": 1,
   "metadata": {},
   "outputs": [
    {
     "data": {
      "text/html": [
       "<div>\n",
       "<style scoped>\n",
       "    .dataframe tbody tr th:only-of-type {\n",
       "        vertical-align: middle;\n",
       "    }\n",
       "\n",
       "    .dataframe tbody tr th {\n",
       "        vertical-align: top;\n",
       "    }\n",
       "\n",
       "    .dataframe thead th {\n",
       "        text-align: right;\n",
       "    }\n",
       "</style>\n",
       "<table border=\"1\" class=\"dataframe\">\n",
       "  <thead>\n",
       "    <tr style=\"text-align: right;\">\n",
       "      <th></th>\n",
       "      <th>pair_id</th>\n",
       "      <th>open</th>\n",
       "      <th>high</th>\n",
       "      <th>low</th>\n",
       "      <th>close</th>\n",
       "      <th>volume</th>\n",
       "      <th>close_time</th>\n",
       "      <th>quote_asset_volume</th>\n",
       "      <th>number_of_trades</th>\n",
       "      <th>taker_buy_base_asset_volume</th>\n",
       "      <th>taker_buy_quote_asset_volume</th>\n",
       "      <th>created_at</th>\n",
       "      <th>updated_at</th>\n",
       "    </tr>\n",
       "    <tr>\n",
       "      <th>open_time</th>\n",
       "      <th></th>\n",
       "      <th></th>\n",
       "      <th></th>\n",
       "      <th></th>\n",
       "      <th></th>\n",
       "      <th></th>\n",
       "      <th></th>\n",
       "      <th></th>\n",
       "      <th></th>\n",
       "      <th></th>\n",
       "      <th></th>\n",
       "      <th></th>\n",
       "      <th></th>\n",
       "    </tr>\n",
       "  </thead>\n",
       "  <tbody>\n",
       "    <tr>\n",
       "      <th>2021-07-02 03:00:00</th>\n",
       "      <td>0</td>\n",
       "      <td>0.062944</td>\n",
       "      <td>0.063175</td>\n",
       "      <td>0.062896</td>\n",
       "      <td>0.063087</td>\n",
       "      <td>1210.511</td>\n",
       "      <td>2021-07-02 03:14:59</td>\n",
       "      <td>76.283867</td>\n",
       "      <td>1829</td>\n",
       "      <td>715.191</td>\n",
       "      <td>45.064299</td>\n",
       "      <td>2021-07-02 03:00:12.340782+00:00</td>\n",
       "      <td>2021-07-02 03:15:33.157623+00:00</td>\n",
       "    </tr>\n",
       "    <tr>\n",
       "      <th>2021-07-02 03:15:00</th>\n",
       "      <td>0</td>\n",
       "      <td>0.063087</td>\n",
       "      <td>0.063201</td>\n",
       "      <td>0.062751</td>\n",
       "      <td>0.062783</td>\n",
       "      <td>1650.940</td>\n",
       "      <td>2021-07-02 03:29:59</td>\n",
       "      <td>104.022572</td>\n",
       "      <td>2608</td>\n",
       "      <td>746.156</td>\n",
       "      <td>47.023885</td>\n",
       "      <td>2021-07-02 03:15:33.157623+00:00</td>\n",
       "      <td>2021-07-02 03:30:21.555569+00:00</td>\n",
       "    </tr>\n",
       "    <tr>\n",
       "      <th>2021-07-02 03:30:00</th>\n",
       "      <td>0</td>\n",
       "      <td>0.062785</td>\n",
       "      <td>0.062785</td>\n",
       "      <td>0.062267</td>\n",
       "      <td>0.062326</td>\n",
       "      <td>2269.186</td>\n",
       "      <td>2021-07-02 03:44:59</td>\n",
       "      <td>141.858378</td>\n",
       "      <td>4303</td>\n",
       "      <td>1050.212</td>\n",
       "      <td>65.659002</td>\n",
       "      <td>2021-07-02 03:30:21.555569+00:00</td>\n",
       "      <td>2021-07-02 03:45:21.613905+00:00</td>\n",
       "    </tr>\n",
       "    <tr>\n",
       "      <th>2021-07-02 03:45:00</th>\n",
       "      <td>0</td>\n",
       "      <td>0.062334</td>\n",
       "      <td>0.062367</td>\n",
       "      <td>0.061986</td>\n",
       "      <td>0.062038</td>\n",
       "      <td>2196.710</td>\n",
       "      <td>2021-07-02 03:59:59</td>\n",
       "      <td>136.456879</td>\n",
       "      <td>3911</td>\n",
       "      <td>1281.412</td>\n",
       "      <td>79.591470</td>\n",
       "      <td>2021-07-02 03:45:21.613905+00:00</td>\n",
       "      <td>2021-07-02 04:00:21.599261+00:00</td>\n",
       "    </tr>\n",
       "    <tr>\n",
       "      <th>2021-07-02 04:00:00</th>\n",
       "      <td>0</td>\n",
       "      <td>0.062028</td>\n",
       "      <td>0.062098</td>\n",
       "      <td>0.061952</td>\n",
       "      <td>0.062070</td>\n",
       "      <td>1109.910</td>\n",
       "      <td>NaT</td>\n",
       "      <td>68.858576</td>\n",
       "      <td>1528</td>\n",
       "      <td>499.305</td>\n",
       "      <td>30.978440</td>\n",
       "      <td>2021-07-02 04:00:21.599261+00:00</td>\n",
       "      <td>2021-07-02 04:10:21.669405+00:00</td>\n",
       "    </tr>\n",
       "  </tbody>\n",
       "</table>\n",
       "</div>"
      ],
      "text/plain": [
       "                     pair_id      open      high       low     close  \\\n",
       "open_time                                                              \n",
       "2021-07-02 03:00:00        0  0.062944  0.063175  0.062896  0.063087   \n",
       "2021-07-02 03:15:00        0  0.063087  0.063201  0.062751  0.062783   \n",
       "2021-07-02 03:30:00        0  0.062785  0.062785  0.062267  0.062326   \n",
       "2021-07-02 03:45:00        0  0.062334  0.062367  0.061986  0.062038   \n",
       "2021-07-02 04:00:00        0  0.062028  0.062098  0.061952  0.062070   \n",
       "\n",
       "                       volume          close_time  quote_asset_volume  \\\n",
       "open_time                                                               \n",
       "2021-07-02 03:00:00  1210.511 2021-07-02 03:14:59           76.283867   \n",
       "2021-07-02 03:15:00  1650.940 2021-07-02 03:29:59          104.022572   \n",
       "2021-07-02 03:30:00  2269.186 2021-07-02 03:44:59          141.858378   \n",
       "2021-07-02 03:45:00  2196.710 2021-07-02 03:59:59          136.456879   \n",
       "2021-07-02 04:00:00  1109.910                 NaT           68.858576   \n",
       "\n",
       "                     number_of_trades  taker_buy_base_asset_volume  \\\n",
       "open_time                                                            \n",
       "2021-07-02 03:00:00              1829                      715.191   \n",
       "2021-07-02 03:15:00              2608                      746.156   \n",
       "2021-07-02 03:30:00              4303                     1050.212   \n",
       "2021-07-02 03:45:00              3911                     1281.412   \n",
       "2021-07-02 04:00:00              1528                      499.305   \n",
       "\n",
       "                     taker_buy_quote_asset_volume  \\\n",
       "open_time                                           \n",
       "2021-07-02 03:00:00                     45.064299   \n",
       "2021-07-02 03:15:00                     47.023885   \n",
       "2021-07-02 03:30:00                     65.659002   \n",
       "2021-07-02 03:45:00                     79.591470   \n",
       "2021-07-02 04:00:00                     30.978440   \n",
       "\n",
       "                                          created_at  \\\n",
       "open_time                                              \n",
       "2021-07-02 03:00:00 2021-07-02 03:00:12.340782+00:00   \n",
       "2021-07-02 03:15:00 2021-07-02 03:15:33.157623+00:00   \n",
       "2021-07-02 03:30:00 2021-07-02 03:30:21.555569+00:00   \n",
       "2021-07-02 03:45:00 2021-07-02 03:45:21.613905+00:00   \n",
       "2021-07-02 04:00:00 2021-07-02 04:00:21.599261+00:00   \n",
       "\n",
       "                                          updated_at  \n",
       "open_time                                             \n",
       "2021-07-02 03:00:00 2021-07-02 03:15:33.157623+00:00  \n",
       "2021-07-02 03:15:00 2021-07-02 03:30:21.555569+00:00  \n",
       "2021-07-02 03:30:00 2021-07-02 03:45:21.613905+00:00  \n",
       "2021-07-02 03:45:00 2021-07-02 04:00:21.599261+00:00  \n",
       "2021-07-02 04:00:00 2021-07-02 04:10:21.669405+00:00  "
      ]
     },
     "execution_count": 1,
     "metadata": {},
     "output_type": "execute_result"
    }
   ],
   "source": [
    "import pandas as pd\n",
    "import matplotlib.pyplot as plt\n",
    "import mplfinance as mpf\n",
    "import numpy as np\n",
    "\n",
    "pd.set_option('display.max_columns', 500)\n",
    "\n",
    "df = pd.read_pickle('data/candlestick_15m_ETHBTC_2107021313.pkl')\n",
    "df.set_index('open_time', inplace=True)\n",
    "df.sort_index(inplace=True)\n",
    "df.tail()"
   ]
  },
  {
   "cell_type": "code",
   "execution_count": 2,
   "metadata": {},
   "outputs": [],
   "source": [
    "def add_lookback_trades(df, levels=1, cols=['open','high','low','close']):\n",
    "    '''\n",
    "    Adds [cols] columns for previous records to each row. New columns are\n",
    "    suffixed with the record backstep. For example: open_1 means the open\n",
    "    price 1 record back.\n",
    "    '''\n",
    "    new_df = df.copy()\n",
    "    for l in range(1,levels+1):\n",
    "        new_cols={c:f'{c}_{l}' for c in cols}\n",
    "        new_df = new_df.merge(df[cols].shift(l).bfill().rename(columns=new_cols),\n",
    "                              how='left', left_index=True, right_index=True)\n",
    "    return new_df\n",
    "\n",
    "def add_lookforward_trades(df, levels=1, cols=['open','high','low','close']):\n",
    "    '''\n",
    "    Adds [cols] columns for future records to each row. New columns are\n",
    "    suffixed with the record forwardstep. For example: open_1 means the open\n",
    "    price 1 record forward.\n",
    "    '''\n",
    "    new_df = df.copy()\n",
    "    for l in range(1,levels+1):\n",
    "        new_cols={c:f'{c}_{l}' for c in cols}\n",
    "        new_df = new_df.merge(df[cols].shift(-l).ffill().rename(columns=new_cols),\n",
    "                              how='left', left_index=True, right_index=True)\n",
    "    return new_df\n",
    "\n",
    "def calculate_ma(df, period=14, field='close'):\n",
    "    '''\n",
    "    Calculate Moving Average\n",
    "    '''\n",
    "    df2=df[[field]].copy()\n",
    "    return df2.rolling(period, min_periods=1).mean()\n",
    "\n",
    "def calculate_atr(df, period=14):\n",
    "    '''\n",
    "    Calculate the Average True Range (ATR)\n",
    "    '''\n",
    "    df2=df[['high','low','close']].copy()\n",
    "    df2=add_lookback_trades(df2,1,['high','low','close'])\n",
    "    #df2['tr_calc'] = np.max([df2.high-df2.low, np.abs(df2.high-df2.close_1), np.abs(df2.low-df2.close_1)], axis=0)\n",
    "    df2['tr_calc'] = np.max([df2.high, df2.close_1], axis=0) - np.min([df2.low, df2.close_1], axis=0)\n",
    "    return df2.tr_calc.rolling(period, min_periods=1).mean()\n",
    "\n",
    "def calculate_rsi(df, period=14, field='close'):\n",
    "    '''\n",
    "    Calculate Relative Stength Indicator (RSI)\n",
    "    Source: https://www.learnpythonwithrune.org/pandas-calculate-the-relative-strength-index-rsi-on-a-stock/\n",
    "    '''\n",
    "    df2=df[[field]].copy()\n",
    "    delta = df2.close.diff()\n",
    "    up = delta.clip(lower=0)\n",
    "    down = -1*delta.clip(upper=0)\n",
    "    ema_up = up.ewm(com=period-1, adjust=False).mean()\n",
    "    ema_down = down.ewm(com=period-1, adjust=False).mean()\n",
    "    rs = ema_up/ema_down\n",
    "    rs[0] = 0 # backfill with 0\n",
    "    return 100 - (100/(1 + rs))\n",
    "\n",
    "def calculate_upward_trend(df, period):\n",
    "    '''\n",
    "    Calculates if trend is going up based on moving average being\n",
    "    negative or positive\n",
    "    '''\n",
    "    trend = calculate_ma(df, period).diff()\n",
    "    return np.where(trend.close.to_numpy()>0,True,False)\n",
    "\n",
    "def cs_shooting_star(x):\n",
    "    '''\n",
    "    Source: https://en.wikipedia.org/wiki/Shooting_star_(candlestick_pattern)\n",
    "    '''\n",
    "    if x.open > x.close: return False\n",
    "    s=x.high-x.low\n",
    "    t=x.low+s*0.382  # Fibonacci Ratio - Retracement Level\n",
    "    if t>=x.close: return True\n",
    "    else: return False\n",
    "\n",
    "def cs_shooting_star_R(x):\n",
    "    '''\n",
    "    Source: https://en.wikipedia.org/wiki/Shooting_star_(candlestick_pattern)\n",
    "    '''\n",
    "    if x.open <= x.close: return False\n",
    "    s=x.high-x.low\n",
    "    t=x.low+s*0.382  # Fibonacci Ratio - Retracement Level\n",
    "    if t>=x.open: return True\n",
    "    else: return False\n",
    "\n",
    "def cs_hammer(x):\n",
    "    '''\n",
    "    Source: https://en.wikipedia.org/wiki/Hammer_(candlestick_pattern)\n",
    "    '''\n",
    "    if x.open < x.close: return False\n",
    "    s=x.high-x.low\n",
    "    t=x.high-s*0.382  # Fibonacci Ratio - Retracement Level\n",
    "    if t<=x.close: return True\n",
    "    else: return False\n",
    "    \n",
    "def cs_hammer_R(x):\n",
    "    '''\n",
    "    Source: https://en.wikipedia.org/wiki/Hammer_(candlestick_pattern)\n",
    "    '''\n",
    "    if x.open >= x.close: return False\n",
    "    s=x.high-x.low\n",
    "    t=x.high-s*0.382  # Fibonacci Ratio - Retracement Level\n",
    "    if t<=x.open: return True\n",
    "    else: return False\n",
    "    \n",
    "def cs_bearish_harami(x, complete=False):\n",
    "    '''\n",
    "    The body of the right candle stick must fit inside\n",
    "    the body of the left candle stick.\n",
    "    Source: https://www.investopedia.com/terms/b/bearishharami.asp\n",
    "    '''\n",
    "    if x.open > x.close and \\\n",
    "       x.open_1 < x.close_1 and \\\n",
    "       x.close_1 >= x.open and x.open_1 <= x.close and \\\n",
    "       x.high_1 >= x.high and x.low_1 <= x.low:\n",
    "        return True\n",
    "    else:\n",
    "        return False\n",
    "\n",
    "def cs_bullish_harami(x):\n",
    "    '''\n",
    "    The body of the right candle stick must fit inside\n",
    "    the body of the left candle stick.\n",
    "    Source: https://www.investopedia.com/terms/b/bullishharami.asp\n",
    "    '''\n",
    "    if x.open < x.close and \\\n",
    "       x.open_1 > x.close_1 and \\\n",
    "       x.close_1 <= x.open and x.open_1 >= x.close and \\\n",
    "       x.high_1 >= x.high and x.low_1 <= x.low:\n",
    "        return True\n",
    "    else:\n",
    "        return False\n",
    "\n",
    "def cs_engulfing_bullish(x):\n",
    "    '''\n",
    "    The body of the left candle stick must fit inside\n",
    "    the body of the right candle stick.\n",
    "    Source: https://animasmarketing.com/candlesticks-different-types/\n",
    "    '''\n",
    "    if x.open < x.close and \\\n",
    "       x.open_1 > x.close_1 and \\\n",
    "       x.close_1 >= x.open and x.open_1 <= x.close and \\\n",
    "       x.high_1 <= x.high and x.low_1 >= x.low:\n",
    "        return True\n",
    "    else:\n",
    "        return False\n",
    "    \n",
    "def cs_engulfing_bearish(x):\n",
    "    '''\n",
    "    The body of the left candle stick must fit inside\n",
    "    the body of the right candle stick.\n",
    "    Source: https://animasmarketing.com/candlesticks-different-types/\n",
    "    '''\n",
    "    if x.open > x.close and \\\n",
    "       x.open_1 < x.close_1 and \\\n",
    "       x.close_1 <= x.open and x.open_1 >= x.close and \\\n",
    "       x.high_1 <= x.high and x.low_1 >= x.low:\n",
    "        return True\n",
    "    else:\n",
    "        return False"
   ]
  },
  {
   "cell_type": "code",
   "execution_count": 3,
   "metadata": {},
   "outputs": [],
   "source": [
    "def add_features(df, skip_lookback=False):\n",
    "    df2 = df.copy()\n",
    "    \n",
    "    # this adds the past 3 records of price of data to each row\n",
    "    if not skip_lookback:\n",
    "        df2 = add_lookback_trades(df2, 3)\n",
    "    \n",
    "    df2['ma14'] = calculate_ma(df2)\n",
    "    df2['ma30'] = calculate_ma(df2,30)\n",
    "    df2['ma90'] = calculate_ma(df2,90)\n",
    "    \n",
    "    df2['atr'] = calculate_atr(df2)\n",
    "    df2['atr_diff'] = df2.atr.diff().fillna(0)\n",
    "    df2['atr_ma14'] = calculate_ma(df2, field='atr')\n",
    "    df2['rsi'] = calculate_rsi(df2)\n",
    "    df2['rsi_diff'] = df2.rsi.diff().fillna(0)\n",
    "    df2['rsi_ma14'] = calculate_ma(df2, field='rsi')\n",
    "    \n",
    "    # The below are booleans\n",
    "    df2['trend_up'] = calculate_upward_trend(df2,1)\n",
    "    df2['trend_up3'] = calculate_upward_trend(df2,3)\n",
    "    df2['trend_up14'] = calculate_upward_trend(df2,14)\n",
    "    df2['trend_up30'] = calculate_upward_trend(df2,30)\n",
    "\n",
    "    df2['cs_ss'] = df2.apply(cs_shooting_star, axis=1)\n",
    "    df2['cs_ssR'] = df2.apply(cs_shooting_star_R, axis=1)\n",
    "    df2['cs_hm'] = df2.apply(cs_hammer, axis=1)\n",
    "    df2['cs_hmR'] = df2.apply(cs_hammer_R, axis=1)\n",
    "\n",
    "    df2['cs_brh'] = df2.apply(cs_bearish_harami, axis=1)\n",
    "    df2['cs_buh'] = df2.apply(cs_bullish_harami, axis=1)\n",
    "    df2['cs_ebu'] = df2.apply(cs_engulfing_bullish, axis=1)\n",
    "    df2['cs_ebr'] = df2.apply(cs_engulfing_bearish, axis=1)\n",
    "    \n",
    "    # This adds the past record's candlesticks to each row\n",
    "    candlestick_cols = ['cs_ss','cs_ssR','cs_hm','cs_hmR','cs_brh','cs_buh','cs_ebu','cs_ebr']\n",
    "    df2 = add_lookback_trades(df2, levels=1, cols=candlestick_cols)\n",
    "    \n",
    "    # Other ideas:\n",
    "    # - Evening star\n",
    "    # - areas of resistence and support\n",
    "    # - wedge shapes\n",
    "    # - double top / double bottom\n",
    "    \n",
    "    return df2"
   ]
  },
  {
   "cell_type": "code",
   "execution_count": 4,
   "metadata": {},
   "outputs": [],
   "source": [
    "def to_buy(x, reverse=False):\n",
    "    high_col = x.pass_high_col\n",
    "    high_col_num = int(high_col[high_col.find('_')+1:])\n",
    "    low_col = x.pass_low_col\n",
    "    low_col_num = int(low_col[low_col.find('_')+1:])\n",
    "    \n",
    "    if not reverse:\n",
    "        if high_col_num < low_col_num and high_col_num > 1:\n",
    "            return True\n",
    "        elif low_col_num == 1:\n",
    "            if not x[low_col] and x[high_col]:\n",
    "                return True\n",
    "            else:\n",
    "                return False\n",
    "        else:\n",
    "            return False\n",
    "    else:\n",
    "        if low_col_num < high_col_num and low_col_num > 1:\n",
    "            return True\n",
    "        elif high_col_num == 1:\n",
    "            if not x[high_col] and x[low_col]:\n",
    "                return True\n",
    "            else:\n",
    "                return False\n",
    "        else:\n",
    "            return False\n",
    "            \n",
    "def build_Xy(df, window=14, threshold_ratio=(0.04,0.02),\n",
    "             use_atr=True, atr_ratio=(2,1), reverse=False):\n",
    "    '''\n",
    "    \n",
    "    \n",
    "    window : int\n",
    "    number of records to look into the future to determine if this was a buy\n",
    "    \n",
    "    threshold_ratio : tuple(float,float)\n",
    "    The high/low percentage to calculate target/stop-loss. Ignore if use_atr is True.\n",
    "    \n",
    "    use_atr : boolean\n",
    "    Use the ATR to calculate stop-loss\n",
    "    \n",
    "    atr_ratio : tuple(int,int)\n",
    "    The high/low multiplier for ATR to calculate target/stop-loss. Only used when use_atr is True.\n",
    "    \n",
    "    reverse : boolean\n",
    "    buying the other currency thus reverse logic\n",
    "    \n",
    "    '''\n",
    "    if use_atr==False and (not type(threshold_ratio) == tuple or len(threshold_ratio) != 2):\n",
    "        raise Exception(\"Parameter 'threshold_ratio' must be a tuple of size 2\")\n",
    "    if use_atr==True and (not type(atr_ratio) == tuple or len(atr_ratio) != 2):\n",
    "        raise Exception(\"Parameter 'atr_ratio' must be a tuple of size 2\")\n",
    "    \n",
    "    df2 = df.copy()\n",
    "    df2 = add_lookforward_trades(df2, levels=window, cols=['high','low'])\n",
    "    \n",
    "    high_cols = [f'high_{i}' for i in range(1,window+1)]\n",
    "    low_cols = [f'low_{i}' for i in range(1,window+1)]\n",
    "    \n",
    "    # Calculate target and stop-loss\n",
    "    if not reverse:\n",
    "        if use_atr:\n",
    "            df2['atr'] = calculate_atr(df2)\n",
    "            df2['low_pip'] = (df2.close-df2.low)/df2.close\n",
    "            df2['stop_loss'] = df2.close-df2.close*(df2.atr*atr_ratio[1] + df2.low_pip)\n",
    "            df2['target'] = df2.close+df2.close*(df2.atr*atr_ratio[0])\n",
    "        else:\n",
    "            df2['stop_loss'] = df2.close-df2.close*threshold_ratio[1]\n",
    "            df2['target'] = df2.close+df2.close*threshold_ratio[0]\n",
    "    else:  # reverse\n",
    "        if use_atr:\n",
    "            df2['atr'] = calculate_atr(df2)\n",
    "            df2['high_pip'] = (df2.high-df2.close)/df2.close\n",
    "            df2['stop_loss'] = df2.close+df2.close*(df2.atr*atr_ratio[1] + df2.high_pip)\n",
    "            df2['target'] = df2.close-df2.close*(df2.atr*atr_ratio[0])\n",
    "        else:\n",
    "            df2['stop_loss'] = df2.close+df2.close*threshold_ratio[1]\n",
    "            df2['target'] = df2.close-df2.close*threshold_ratio[0]\n",
    "            \n",
    "    # Determine if price crossed the target and/or stop-loss\n",
    "    for h,l in zip(high_cols, low_cols):\n",
    "        if not reverse:\n",
    "            df2[h] = df2[h]>=df2.target\n",
    "            df2[l] = df2[l]<=df2.stop_loss\n",
    "        else:  # reverse\n",
    "            df2[l] = df2[l]<=df2.target\n",
    "            df2[h] = df2[h]>=df2.stop_loss\n",
    "    \n",
    "    # Identify the first column that pass the target/stop-loss\n",
    "    # WARNING: this is assuming idxmax() will continue to\n",
    "    # return the FIRST column with a True value.\n",
    "    df2['pass_high_col'] = df2[high_cols].idxmax(axis=1)\n",
    "    df2['pass_low_col'] = df2[low_cols].idxmax(axis=1)\n",
    "    df2['buy'] = df2.apply(to_buy,reverse=reverse,axis=1)\n",
    "    \n",
    "    # Build X\n",
    "    X = add_features(df)\n",
    "    columns_to_drop = ['pair_id','close_time','created_at','updated_at']\n",
    "    X.drop(columns=columns_to_drop, inplace=True)\n",
    "    \n",
    "    return X, df2.buy, df2\n",
    "\n",
    "\n",
    "window=14"
   ]
  },
  {
   "cell_type": "code",
   "execution_count": 6,
   "metadata": {},
   "outputs": [
    {
     "data": {
      "application/vnd.jupyter.widget-view+json": {
       "model_id": "cbf82e9211d94478b3accd76734ff191",
       "version_major": 2,
       "version_minor": 0
      },
      "text/plain": [
       "  0%|          | 0/19 [00:00<?, ?it/s]"
      ]
     },
     "metadata": {},
     "output_type": "display_data"
    },
    {
     "data": {
      "text/plain": [
       "[<matplotlib.lines.Line2D at 0x1c7d305cb20>]"
      ]
     },
     "execution_count": 6,
     "metadata": {},
     "output_type": "execute_result"
    },
    {
     "data": {
      "image/png": "[encoded data removed]",
      "text/plain": [
       "<Figure size 432x288 with 1 Axes>"
      ]
     },
     "metadata": {
      "needs_background": "light"
     },
     "output_type": "display_data"
    }
   ],
   "source": [
    "from tqdm.notebook import tqdm\n",
    "\n",
    "# y-axis is the ratio of buys/not-buys for all data in the \n",
    "# x-axis is the ratio denominator\n",
    "\n",
    "rng=range(1,20)\n",
    "\n",
    "results2=[]\n",
    "for i in tqdm(rng):\n",
    "    _, y, _ = build_Xy(df, window=window, use_atr=True, atr_ratio=(i*2,i), reverse=False)\n",
    "    results2.append(y.sum() / len(y))\n",
    "    \n",
    "plt.plot(rng, results2)"
   ]
  },
  {
   "cell_type": "code",
   "execution_count": 7,
   "metadata": {},
   "outputs": [
    {
     "data": {
      "application/vnd.jupyter.widget-view+json": {
       "model_id": "3f64f7feef2f48319628f80de664dd95",
       "version_major": 2,
       "version_minor": 0
      },
      "text/plain": [
       "  0%|          | 0/19 [00:00<?, ?it/s]"
      ]
     },
     "metadata": {},
     "output_type": "display_data"
    },
    {
     "data": {
      "text/plain": [
       "[<matplotlib.lines.Line2D at 0x1c7d63398b0>]"
      ]
     },
     "execution_count": 7,
     "metadata": {},
     "output_type": "execute_result"
    },
    {
     "data": {
      "image/png": "[encoded data removed]",
      "text/plain": [
       "<Figure size 432x288 with 1 Axes>"
      ]
     },
     "metadata": {
      "needs_background": "light"
     },
     "output_type": "display_data"
    }
   ],
   "source": [
    "results3=[]\n",
    "rng = range(1,20)\n",
    "for i in tqdm(rng):\n",
    "    _, y, _ = build_Xy(df, window=window, use_atr=True, atr_ratio=(i*3,i), reverse=False)\n",
    "    results3.append(y.sum() / len(y))\n",
    "plt.plot(rng, results3)"
   ]
  },
  {
   "cell_type": "code",
   "execution_count": 8,
   "metadata": {},
   "outputs": [
    {
     "data": {
      "application/vnd.jupyter.widget-view+json": {
       "model_id": "2eebf0fdb32646b6b0fab9b9c24f304c",
       "version_major": 2,
       "version_minor": 0
      },
      "text/plain": [
       "  0%|          | 0/9 [00:00<?, ?it/s]"
      ]
     },
     "metadata": {},
     "output_type": "display_data"
    },
    {
     "data": {
      "text/plain": [
       "[<matplotlib.lines.Line2D at 0x1c7dd444190>]"
      ]
     },
     "execution_count": 8,
     "metadata": {},
     "output_type": "execute_result"
    },
    {
     "data": {
      "image/png": "[encoded data removed]",
      "text/plain": [
       "<Figure size 432x288 with 1 Axes>"
      ]
     },
     "metadata": {
      "needs_background": "light"
     },
     "output_type": "display_data"
    }
   ],
   "source": [
    "results4=[]\n",
    "rng = range(1,10)\n",
    "for i in tqdm(rng):\n",
    "    _, y, _ = build_Xy(df, window=window, use_atr=True, atr_ratio=(i*4,i), reverse=False)\n",
    "    results4.append(y.sum() / len(y))\n",
    "plt.plot(rng, results4)"
   ]
  },
  {
   "cell_type": "code",
   "execution_count": 16,
   "metadata": {},
   "outputs": [
    {
     "data": {
      "text/plain": [
       "[0.0025, 0.005, 0.01, 0.02, 0.04, 0.08]"
      ]
     },
     "execution_count": 16,
     "metadata": {},
     "output_type": "execute_result"
    }
   ],
   "source": [
    "[0.0025*2**i for i in range(6)]"
   ]
  },
  {
   "cell_type": "code",
   "execution_count": 17,
   "metadata": {},
   "outputs": [
    {
     "data": {
      "application/vnd.jupyter.widget-view+json": {
       "model_id": "375a59d652db46f38c47930a86e73422",
       "version_major": 2,
       "version_minor": 0
      },
      "text/plain": [
       "  0%|          | 0/6 [00:00<?, ?it/s]"
      ]
     },
     "metadata": {},
     "output_type": "display_data"
    },
    {
     "data": {
      "text/plain": [
       "[<matplotlib.lines.Line2D at 0x1c7cd70bee0>]"
      ]
     },
     "execution_count": 17,
     "metadata": {},
     "output_type": "execute_result"
    },
    {
     "data": {
      "image/png": "[encoded data removed]",
      "text/plain": [
       "<Figure size 432x288 with 1 Axes>"
      ]
     },
     "metadata": {
      "needs_background": "light"
     },
     "output_type": "display_data"
    }
   ],
   "source": [
    "results_p1=[]\n",
    "rng = [0.0025*2**i for i in range(6)]\n",
    "for i in tqdm(rng):\n",
    "    _, y, _ = build_Xy(df, window=window, use_atr=True, atr_ratio=(i,i/2), reverse=False)\n",
    "    results_p1.append(y.sum() / len(y))\n",
    "plt.plot(rng, results_p1)"
   ]
  },
  {
   "cell_type": "code",
   "execution_count": 23,
   "metadata": {},
   "outputs": [
    {
     "name": "stderr",
     "output_type": "stream",
     "text": [
      "<ipython-input-23-dd825a4f7d69>:1: MatplotlibDeprecationWarning: The 'basex' parameter of __init__() has been renamed 'base' since Matplotlib 3.3; support for the old name will be dropped two minor releases later.\n",
      "  plt.xscale('log', basex=2)\n"
     ]
    },
    {
     "data": {
      "text/plain": [
       "[0.0025, 0.005, 0.01, 0.02, 0.04, 0.08]"
      ]
     },
     "execution_count": 23,
     "metadata": {},
     "output_type": "execute_result"
    },
    {
     "data": {
      "image/png": "[encoded data removed]",
      "text/plain": [
       "<Figure size 432x288 with 1 Axes>"
      ]
     },
     "metadata": {
      "needs_background": "light"
     },
     "output_type": "display_data"
    }
   ],
   "source": [
    "plt.xscale('log', basex=2)\n",
    "#rng2=[2**i for i in range(6)]\n",
    "plt.plot(rng, results_p1)\n",
    "rng"
   ]
  },
  {
   "cell_type": "code",
   "execution_count": 12,
   "metadata": {},
   "outputs": [
    {
     "data": {
      "application/vnd.jupyter.widget-view+json": {
       "model_id": "2179cd0bbac24d6081b76fabd67e8b79",
       "version_major": 2,
       "version_minor": 0
      },
      "text/plain": [
       "  0%|          | 0/9 [00:00<?, ?it/s]"
      ]
     },
     "metadata": {},
     "output_type": "display_data"
    },
    {
     "ename": "KeyboardInterrupt",
     "evalue": "",
     "output_type": "error",
     "traceback": [
      "\u001b[1;31m---------------------------------------------------------------------------\u001b[0m",
      "\u001b[1;31mKeyboardInterrupt\u001b[0m                         Traceback (most recent call last)",
      "\u001b[1;32m<ipython-input-12-cce1a842b8c8>\u001b[0m in \u001b[0;36m<module>\u001b[1;34m\u001b[0m\n\u001b[0;32m      2\u001b[0m \u001b[0mrng\u001b[0m \u001b[1;33m=\u001b[0m \u001b[1;33m[\u001b[0m\u001b[1;36m0.0025\u001b[0m\u001b[1;33m*\u001b[0m\u001b[0mi\u001b[0m \u001b[1;32mfor\u001b[0m \u001b[0mi\u001b[0m \u001b[1;32min\u001b[0m \u001b[0mrange\u001b[0m\u001b[1;33m(\u001b[0m\u001b[1;36m1\u001b[0m\u001b[1;33m,\u001b[0m\u001b[1;36m10\u001b[0m\u001b[1;33m)\u001b[0m\u001b[1;33m]\u001b[0m\u001b[1;33m\u001b[0m\u001b[1;33m\u001b[0m\u001b[0m\n\u001b[0;32m      3\u001b[0m \u001b[1;32mfor\u001b[0m \u001b[0mi\u001b[0m \u001b[1;32min\u001b[0m \u001b[0mtqdm\u001b[0m\u001b[1;33m(\u001b[0m\u001b[0mrng\u001b[0m\u001b[1;33m)\u001b[0m\u001b[1;33m:\u001b[0m\u001b[1;33m\u001b[0m\u001b[1;33m\u001b[0m\u001b[0m\n\u001b[1;32m----> 4\u001b[1;33m     \u001b[0m_\u001b[0m\u001b[1;33m,\u001b[0m \u001b[0my\u001b[0m\u001b[1;33m,\u001b[0m \u001b[0m_\u001b[0m \u001b[1;33m=\u001b[0m \u001b[0mbuild_Xy\u001b[0m\u001b[1;33m(\u001b[0m\u001b[0mdf\u001b[0m\u001b[1;33m,\u001b[0m \u001b[0mwindow\u001b[0m\u001b[1;33m=\u001b[0m\u001b[0mwindow\u001b[0m\u001b[1;33m,\u001b[0m \u001b[0muse_atr\u001b[0m\u001b[1;33m=\u001b[0m\u001b[1;32mTrue\u001b[0m\u001b[1;33m,\u001b[0m \u001b[0matr_ratio\u001b[0m\u001b[1;33m=\u001b[0m\u001b[1;33m(\u001b[0m\u001b[0mi\u001b[0m\u001b[1;33m,\u001b[0m\u001b[0mi\u001b[0m\u001b[1;33m/\u001b[0m\u001b[1;36m3\u001b[0m\u001b[1;33m)\u001b[0m\u001b[1;33m,\u001b[0m \u001b[0mreverse\u001b[0m\u001b[1;33m=\u001b[0m\u001b[1;32mFalse\u001b[0m\u001b[1;33m)\u001b[0m\u001b[1;33m\u001b[0m\u001b[1;33m\u001b[0m\u001b[0m\n\u001b[0m\u001b[0;32m      5\u001b[0m     \u001b[0mresults_p2\u001b[0m\u001b[1;33m.\u001b[0m\u001b[0mappend\u001b[0m\u001b[1;33m(\u001b[0m\u001b[0my\u001b[0m\u001b[1;33m.\u001b[0m\u001b[0msum\u001b[0m\u001b[1;33m(\u001b[0m\u001b[1;33m)\u001b[0m \u001b[1;33m/\u001b[0m \u001b[0mlen\u001b[0m\u001b[1;33m(\u001b[0m\u001b[0my\u001b[0m\u001b[1;33m)\u001b[0m\u001b[1;33m)\u001b[0m\u001b[1;33m\u001b[0m\u001b[1;33m\u001b[0m\u001b[0m\n\u001b[0;32m      6\u001b[0m \u001b[0mplt\u001b[0m\u001b[1;33m.\u001b[0m\u001b[0mplot\u001b[0m\u001b[1;33m(\u001b[0m\u001b[0mrng\u001b[0m\u001b[1;33m,\u001b[0m \u001b[0mresults_p2\u001b[0m\u001b[1;33m)\u001b[0m\u001b[1;33m\u001b[0m\u001b[1;33m\u001b[0m\u001b[0m\n",
      "\u001b[1;32m<ipython-input-4-81277f401e80>\u001b[0m in \u001b[0;36mbuild_Xy\u001b[1;34m(df, window, threshold_ratio, use_atr, atr_ratio, reverse)\u001b[0m\n\u001b[0;32m     95\u001b[0m \u001b[1;33m\u001b[0m\u001b[0m\n\u001b[0;32m     96\u001b[0m     \u001b[1;31m# Build X\u001b[0m\u001b[1;33m\u001b[0m\u001b[1;33m\u001b[0m\u001b[1;33m\u001b[0m\u001b[0m\n\u001b[1;32m---> 97\u001b[1;33m     \u001b[0mX\u001b[0m \u001b[1;33m=\u001b[0m \u001b[0madd_features\u001b[0m\u001b[1;33m(\u001b[0m\u001b[0mdf\u001b[0m\u001b[1;33m)\u001b[0m\u001b[1;33m\u001b[0m\u001b[1;33m\u001b[0m\u001b[0m\n\u001b[0m\u001b[0;32m     98\u001b[0m     \u001b[0mcolumns_to_drop\u001b[0m \u001b[1;33m=\u001b[0m \u001b[1;33m[\u001b[0m\u001b[1;34m'pair_id'\u001b[0m\u001b[1;33m,\u001b[0m\u001b[1;34m'close_time'\u001b[0m\u001b[1;33m,\u001b[0m\u001b[1;34m'created_at'\u001b[0m\u001b[1;33m,\u001b[0m\u001b[1;34m'updated_at'\u001b[0m\u001b[1;33m]\u001b[0m\u001b[1;33m\u001b[0m\u001b[1;33m\u001b[0m\u001b[0m\n\u001b[0;32m     99\u001b[0m     \u001b[0mX\u001b[0m\u001b[1;33m.\u001b[0m\u001b[0mdrop\u001b[0m\u001b[1;33m(\u001b[0m\u001b[0mcolumns\u001b[0m\u001b[1;33m=\u001b[0m\u001b[0mcolumns_to_drop\u001b[0m\u001b[1;33m,\u001b[0m \u001b[0minplace\u001b[0m\u001b[1;33m=\u001b[0m\u001b[1;32mTrue\u001b[0m\u001b[1;33m)\u001b[0m\u001b[1;33m\u001b[0m\u001b[1;33m\u001b[0m\u001b[0m\n",
      "\u001b[1;32m<ipython-input-3-dec0fa8bea44>\u001b[0m in \u001b[0;36madd_features\u001b[1;34m(df, skip_lookback)\u001b[0m\n\u001b[0;32m     25\u001b[0m     \u001b[0mdf2\u001b[0m\u001b[1;33m[\u001b[0m\u001b[1;34m'cs_ss'\u001b[0m\u001b[1;33m]\u001b[0m \u001b[1;33m=\u001b[0m \u001b[0mdf2\u001b[0m\u001b[1;33m.\u001b[0m\u001b[0mapply\u001b[0m\u001b[1;33m(\u001b[0m\u001b[0mcs_shooting_star\u001b[0m\u001b[1;33m,\u001b[0m \u001b[0maxis\u001b[0m\u001b[1;33m=\u001b[0m\u001b[1;36m1\u001b[0m\u001b[1;33m)\u001b[0m\u001b[1;33m\u001b[0m\u001b[1;33m\u001b[0m\u001b[0m\n\u001b[0;32m     26\u001b[0m     \u001b[0mdf2\u001b[0m\u001b[1;33m[\u001b[0m\u001b[1;34m'cs_ssR'\u001b[0m\u001b[1;33m]\u001b[0m \u001b[1;33m=\u001b[0m \u001b[0mdf2\u001b[0m\u001b[1;33m.\u001b[0m\u001b[0mapply\u001b[0m\u001b[1;33m(\u001b[0m\u001b[0mcs_shooting_star_R\u001b[0m\u001b[1;33m,\u001b[0m \u001b[0maxis\u001b[0m\u001b[1;33m=\u001b[0m\u001b[1;36m1\u001b[0m\u001b[1;33m)\u001b[0m\u001b[1;33m\u001b[0m\u001b[1;33m\u001b[0m\u001b[0m\n\u001b[1;32m---> 27\u001b[1;33m     \u001b[0mdf2\u001b[0m\u001b[1;33m[\u001b[0m\u001b[1;34m'cs_hm'\u001b[0m\u001b[1;33m]\u001b[0m \u001b[1;33m=\u001b[0m \u001b[0mdf2\u001b[0m\u001b[1;33m.\u001b[0m\u001b[0mapply\u001b[0m\u001b[1;33m(\u001b[0m\u001b[0mcs_hammer\u001b[0m\u001b[1;33m,\u001b[0m \u001b[0maxis\u001b[0m\u001b[1;33m=\u001b[0m\u001b[1;36m1\u001b[0m\u001b[1;33m)\u001b[0m\u001b[1;33m\u001b[0m\u001b[1;33m\u001b[0m\u001b[0m\n\u001b[0m\u001b[0;32m     28\u001b[0m     \u001b[0mdf2\u001b[0m\u001b[1;33m[\u001b[0m\u001b[1;34m'cs_hmR'\u001b[0m\u001b[1;33m]\u001b[0m \u001b[1;33m=\u001b[0m \u001b[0mdf2\u001b[0m\u001b[1;33m.\u001b[0m\u001b[0mapply\u001b[0m\u001b[1;33m(\u001b[0m\u001b[0mcs_hammer_R\u001b[0m\u001b[1;33m,\u001b[0m \u001b[0maxis\u001b[0m\u001b[1;33m=\u001b[0m\u001b[1;36m1\u001b[0m\u001b[1;33m)\u001b[0m\u001b[1;33m\u001b[0m\u001b[1;33m\u001b[0m\u001b[0m\n\u001b[0;32m     29\u001b[0m \u001b[1;33m\u001b[0m\u001b[0m\n",
      "\u001b[1;32mC:\\ProgramData\\Anaconda3\\envs\\caps\\lib\\site-packages\\pandas\\core\\frame.py\u001b[0m in \u001b[0;36mapply\u001b[1;34m(self, func, axis, raw, result_type, args, **kwds)\u001b[0m\n\u001b[0;32m   7763\u001b[0m             \u001b[0mkwds\u001b[0m\u001b[1;33m=\u001b[0m\u001b[0mkwds\u001b[0m\u001b[1;33m,\u001b[0m\u001b[1;33m\u001b[0m\u001b[1;33m\u001b[0m\u001b[0m\n\u001b[0;32m   7764\u001b[0m         )\n\u001b[1;32m-> 7765\u001b[1;33m         \u001b[1;32mreturn\u001b[0m \u001b[0mop\u001b[0m\u001b[1;33m.\u001b[0m\u001b[0mget_result\u001b[0m\u001b[1;33m(\u001b[0m\u001b[1;33m)\u001b[0m\u001b[1;33m\u001b[0m\u001b[1;33m\u001b[0m\u001b[0m\n\u001b[0m\u001b[0;32m   7766\u001b[0m \u001b[1;33m\u001b[0m\u001b[0m\n\u001b[0;32m   7767\u001b[0m     \u001b[1;32mdef\u001b[0m \u001b[0mapplymap\u001b[0m\u001b[1;33m(\u001b[0m\u001b[0mself\u001b[0m\u001b[1;33m,\u001b[0m \u001b[0mfunc\u001b[0m\u001b[1;33m,\u001b[0m \u001b[0mna_action\u001b[0m\u001b[1;33m:\u001b[0m \u001b[0mOptional\u001b[0m\u001b[1;33m[\u001b[0m\u001b[0mstr\u001b[0m\u001b[1;33m]\u001b[0m \u001b[1;33m=\u001b[0m \u001b[1;32mNone\u001b[0m\u001b[1;33m)\u001b[0m \u001b[1;33m->\u001b[0m \u001b[0mDataFrame\u001b[0m\u001b[1;33m:\u001b[0m\u001b[1;33m\u001b[0m\u001b[1;33m\u001b[0m\u001b[0m\n",
      "\u001b[1;32mC:\\ProgramData\\Anaconda3\\envs\\caps\\lib\\site-packages\\pandas\\core\\apply.py\u001b[0m in \u001b[0;36mget_result\u001b[1;34m(self)\u001b[0m\n\u001b[0;32m    183\u001b[0m             \u001b[1;32mreturn\u001b[0m \u001b[0mself\u001b[0m\u001b[1;33m.\u001b[0m\u001b[0mapply_raw\u001b[0m\u001b[1;33m(\u001b[0m\u001b[1;33m)\u001b[0m\u001b[1;33m\u001b[0m\u001b[1;33m\u001b[0m\u001b[0m\n\u001b[0;32m    184\u001b[0m \u001b[1;33m\u001b[0m\u001b[0m\n\u001b[1;32m--> 185\u001b[1;33m         \u001b[1;32mreturn\u001b[0m \u001b[0mself\u001b[0m\u001b[1;33m.\u001b[0m\u001b[0mapply_standard\u001b[0m\u001b[1;33m(\u001b[0m\u001b[1;33m)\u001b[0m\u001b[1;33m\u001b[0m\u001b[1;33m\u001b[0m\u001b[0m\n\u001b[0m\u001b[0;32m    186\u001b[0m \u001b[1;33m\u001b[0m\u001b[0m\n\u001b[0;32m    187\u001b[0m     \u001b[1;32mdef\u001b[0m \u001b[0mapply_empty_result\u001b[0m\u001b[1;33m(\u001b[0m\u001b[0mself\u001b[0m\u001b[1;33m)\u001b[0m\u001b[1;33m:\u001b[0m\u001b[1;33m\u001b[0m\u001b[1;33m\u001b[0m\u001b[0m\n",
      "\u001b[1;32mC:\\ProgramData\\Anaconda3\\envs\\caps\\lib\\site-packages\\pandas\\core\\apply.py\u001b[0m in \u001b[0;36mapply_standard\u001b[1;34m(self)\u001b[0m\n\u001b[0;32m    274\u001b[0m \u001b[1;33m\u001b[0m\u001b[0m\n\u001b[0;32m    275\u001b[0m     \u001b[1;32mdef\u001b[0m \u001b[0mapply_standard\u001b[0m\u001b[1;33m(\u001b[0m\u001b[0mself\u001b[0m\u001b[1;33m)\u001b[0m\u001b[1;33m:\u001b[0m\u001b[1;33m\u001b[0m\u001b[1;33m\u001b[0m\u001b[0m\n\u001b[1;32m--> 276\u001b[1;33m         \u001b[0mresults\u001b[0m\u001b[1;33m,\u001b[0m \u001b[0mres_index\u001b[0m \u001b[1;33m=\u001b[0m \u001b[0mself\u001b[0m\u001b[1;33m.\u001b[0m\u001b[0mapply_series_generator\u001b[0m\u001b[1;33m(\u001b[0m\u001b[1;33m)\u001b[0m\u001b[1;33m\u001b[0m\u001b[1;33m\u001b[0m\u001b[0m\n\u001b[0m\u001b[0;32m    277\u001b[0m \u001b[1;33m\u001b[0m\u001b[0m\n\u001b[0;32m    278\u001b[0m         \u001b[1;31m# wrap results\u001b[0m\u001b[1;33m\u001b[0m\u001b[1;33m\u001b[0m\u001b[1;33m\u001b[0m\u001b[0m\n",
      "\u001b[1;32mC:\\ProgramData\\Anaconda3\\envs\\caps\\lib\\site-packages\\pandas\\core\\apply.py\u001b[0m in \u001b[0;36mapply_series_generator\u001b[1;34m(self)\u001b[0m\n\u001b[0;32m    286\u001b[0m \u001b[1;33m\u001b[0m\u001b[0m\n\u001b[0;32m    287\u001b[0m         \u001b[1;32mwith\u001b[0m \u001b[0moption_context\u001b[0m\u001b[1;33m(\u001b[0m\u001b[1;34m\"mode.chained_assignment\"\u001b[0m\u001b[1;33m,\u001b[0m \u001b[1;32mNone\u001b[0m\u001b[1;33m)\u001b[0m\u001b[1;33m:\u001b[0m\u001b[1;33m\u001b[0m\u001b[1;33m\u001b[0m\u001b[0m\n\u001b[1;32m--> 288\u001b[1;33m             \u001b[1;32mfor\u001b[0m \u001b[0mi\u001b[0m\u001b[1;33m,\u001b[0m \u001b[0mv\u001b[0m \u001b[1;32min\u001b[0m \u001b[0menumerate\u001b[0m\u001b[1;33m(\u001b[0m\u001b[0mseries_gen\u001b[0m\u001b[1;33m)\u001b[0m\u001b[1;33m:\u001b[0m\u001b[1;33m\u001b[0m\u001b[1;33m\u001b[0m\u001b[0m\n\u001b[0m\u001b[0;32m    289\u001b[0m                 \u001b[1;31m# ignore SettingWithCopy here in case the user mutates\u001b[0m\u001b[1;33m\u001b[0m\u001b[1;33m\u001b[0m\u001b[1;33m\u001b[0m\u001b[0m\n\u001b[0;32m    290\u001b[0m                 \u001b[0mresults\u001b[0m\u001b[1;33m[\u001b[0m\u001b[0mi\u001b[0m\u001b[1;33m]\u001b[0m \u001b[1;33m=\u001b[0m \u001b[0mself\u001b[0m\u001b[1;33m.\u001b[0m\u001b[0mf\u001b[0m\u001b[1;33m(\u001b[0m\u001b[0mv\u001b[0m\u001b[1;33m)\u001b[0m\u001b[1;33m\u001b[0m\u001b[1;33m\u001b[0m\u001b[0m\n",
      "\u001b[1;32mC:\\ProgramData\\Anaconda3\\envs\\caps\\lib\\site-packages\\pandas\\core\\apply.py\u001b[0m in \u001b[0;36mseries_generator\u001b[1;34m(self)\u001b[0m\n\u001b[0;32m    389\u001b[0m     \u001b[1;33m@\u001b[0m\u001b[0mproperty\u001b[0m\u001b[1;33m\u001b[0m\u001b[1;33m\u001b[0m\u001b[0m\n\u001b[0;32m    390\u001b[0m     \u001b[1;32mdef\u001b[0m \u001b[0mseries_generator\u001b[0m\u001b[1;33m(\u001b[0m\u001b[0mself\u001b[0m\u001b[1;33m)\u001b[0m\u001b[1;33m:\u001b[0m\u001b[1;33m\u001b[0m\u001b[1;33m\u001b[0m\u001b[0m\n\u001b[1;32m--> 391\u001b[1;33m         \u001b[0mvalues\u001b[0m \u001b[1;33m=\u001b[0m \u001b[0mself\u001b[0m\u001b[1;33m.\u001b[0m\u001b[0mvalues\u001b[0m\u001b[1;33m\u001b[0m\u001b[1;33m\u001b[0m\u001b[0m\n\u001b[0m\u001b[0;32m    392\u001b[0m         \u001b[1;32massert\u001b[0m \u001b[0mlen\u001b[0m\u001b[1;33m(\u001b[0m\u001b[0mvalues\u001b[0m\u001b[1;33m)\u001b[0m \u001b[1;33m>\u001b[0m \u001b[1;36m0\u001b[0m\u001b[1;33m\u001b[0m\u001b[1;33m\u001b[0m\u001b[0m\n\u001b[0;32m    393\u001b[0m \u001b[1;33m\u001b[0m\u001b[0m\n",
      "\u001b[1;32mpandas\\_libs\\properties.pyx\u001b[0m in \u001b[0;36mpandas._libs.properties.CachedProperty.__get__\u001b[1;34m()\u001b[0m\n",
      "\u001b[1;32mC:\\ProgramData\\Anaconda3\\envs\\caps\\lib\\site-packages\\pandas\\core\\apply.py\u001b[0m in \u001b[0;36mvalues\u001b[1;34m(self)\u001b[0m\n\u001b[0;32m    129\u001b[0m     \u001b[1;33m@\u001b[0m\u001b[0mcache_readonly\u001b[0m\u001b[1;33m\u001b[0m\u001b[1;33m\u001b[0m\u001b[0m\n\u001b[0;32m    130\u001b[0m     \u001b[1;32mdef\u001b[0m \u001b[0mvalues\u001b[0m\u001b[1;33m(\u001b[0m\u001b[0mself\u001b[0m\u001b[1;33m)\u001b[0m\u001b[1;33m:\u001b[0m\u001b[1;33m\u001b[0m\u001b[1;33m\u001b[0m\u001b[0m\n\u001b[1;32m--> 131\u001b[1;33m         \u001b[1;32mreturn\u001b[0m \u001b[0mself\u001b[0m\u001b[1;33m.\u001b[0m\u001b[0mobj\u001b[0m\u001b[1;33m.\u001b[0m\u001b[0mvalues\u001b[0m\u001b[1;33m\u001b[0m\u001b[1;33m\u001b[0m\u001b[0m\n\u001b[0m\u001b[0;32m    132\u001b[0m \u001b[1;33m\u001b[0m\u001b[0m\n\u001b[0;32m    133\u001b[0m     \u001b[1;33m@\u001b[0m\u001b[0mcache_readonly\u001b[0m\u001b[1;33m\u001b[0m\u001b[1;33m\u001b[0m\u001b[0m\n",
      "\u001b[1;32mC:\\ProgramData\\Anaconda3\\envs\\caps\\lib\\site-packages\\pandas\\core\\generic.py\u001b[0m in \u001b[0;36mvalues\u001b[1;34m(self)\u001b[0m\n\u001b[0;32m   5668\u001b[0m         \"\"\"\n\u001b[0;32m   5669\u001b[0m         \u001b[0mself\u001b[0m\u001b[1;33m.\u001b[0m\u001b[0m_consolidate_inplace\u001b[0m\u001b[1;33m(\u001b[0m\u001b[1;33m)\u001b[0m\u001b[1;33m\u001b[0m\u001b[1;33m\u001b[0m\u001b[0m\n\u001b[1;32m-> 5670\u001b[1;33m         \u001b[1;32mreturn\u001b[0m \u001b[0mself\u001b[0m\u001b[1;33m.\u001b[0m\u001b[0m_mgr\u001b[0m\u001b[1;33m.\u001b[0m\u001b[0mas_array\u001b[0m\u001b[1;33m(\u001b[0m\u001b[0mtranspose\u001b[0m\u001b[1;33m=\u001b[0m\u001b[0mself\u001b[0m\u001b[1;33m.\u001b[0m\u001b[0m_AXIS_REVERSED\u001b[0m\u001b[1;33m)\u001b[0m\u001b[1;33m\u001b[0m\u001b[1;33m\u001b[0m\u001b[0m\n\u001b[0m\u001b[0;32m   5671\u001b[0m \u001b[1;33m\u001b[0m\u001b[0m\n\u001b[0;32m   5672\u001b[0m     \u001b[1;33m@\u001b[0m\u001b[0mproperty\u001b[0m\u001b[1;33m\u001b[0m\u001b[1;33m\u001b[0m\u001b[0m\n",
      "\u001b[1;32mC:\\ProgramData\\Anaconda3\\envs\\caps\\lib\\site-packages\\pandas\\core\\internals\\managers.py\u001b[0m in \u001b[0;36mas_array\u001b[1;34m(self, transpose, dtype, copy, na_value)\u001b[0m\n\u001b[0;32m    870\u001b[0m                     \u001b[0marr\u001b[0m \u001b[1;33m=\u001b[0m \u001b[0marr\u001b[0m\u001b[1;33m.\u001b[0m\u001b[0mastype\u001b[0m\u001b[1;33m(\u001b[0m\u001b[0mdtype\u001b[0m\u001b[1;33m,\u001b[0m \u001b[0mcopy\u001b[0m\u001b[1;33m=\u001b[0m\u001b[1;32mFalse\u001b[0m\u001b[1;33m)\u001b[0m\u001b[1;33m\u001b[0m\u001b[1;33m\u001b[0m\u001b[0m\n\u001b[0;32m    871\u001b[0m         \u001b[1;32melse\u001b[0m\u001b[1;33m:\u001b[0m\u001b[1;33m\u001b[0m\u001b[1;33m\u001b[0m\u001b[0m\n\u001b[1;32m--> 872\u001b[1;33m             \u001b[0marr\u001b[0m \u001b[1;33m=\u001b[0m \u001b[0mself\u001b[0m\u001b[1;33m.\u001b[0m\u001b[0m_interleave\u001b[0m\u001b[1;33m(\u001b[0m\u001b[0mdtype\u001b[0m\u001b[1;33m=\u001b[0m\u001b[0mdtype\u001b[0m\u001b[1;33m,\u001b[0m \u001b[0mna_value\u001b[0m\u001b[1;33m=\u001b[0m\u001b[0mna_value\u001b[0m\u001b[1;33m)\u001b[0m\u001b[1;33m\u001b[0m\u001b[1;33m\u001b[0m\u001b[0m\n\u001b[0m\u001b[0;32m    873\u001b[0m             \u001b[1;31m# The underlying data was copied within _interleave\u001b[0m\u001b[1;33m\u001b[0m\u001b[1;33m\u001b[0m\u001b[1;33m\u001b[0m\u001b[0m\n\u001b[0;32m    874\u001b[0m             \u001b[0mcopy\u001b[0m \u001b[1;33m=\u001b[0m \u001b[1;32mFalse\u001b[0m\u001b[1;33m\u001b[0m\u001b[1;33m\u001b[0m\u001b[0m\n",
      "\u001b[1;32mC:\\ProgramData\\Anaconda3\\envs\\caps\\lib\\site-packages\\pandas\\core\\internals\\managers.py\u001b[0m in \u001b[0;36m_interleave\u001b[1;34m(self, dtype, na_value)\u001b[0m\n\u001b[0;32m    909\u001b[0m                 \u001b[0marr\u001b[0m \u001b[1;33m=\u001b[0m \u001b[0mblk\u001b[0m\u001b[1;33m.\u001b[0m\u001b[0mvalues\u001b[0m\u001b[1;33m.\u001b[0m\u001b[0mto_numpy\u001b[0m\u001b[1;33m(\u001b[0m\u001b[0mdtype\u001b[0m\u001b[1;33m=\u001b[0m\u001b[0mdtype\u001b[0m\u001b[1;33m,\u001b[0m \u001b[0mna_value\u001b[0m\u001b[1;33m=\u001b[0m\u001b[0mna_value\u001b[0m\u001b[1;33m)\u001b[0m\u001b[1;33m\u001b[0m\u001b[1;33m\u001b[0m\u001b[0m\n\u001b[0;32m    910\u001b[0m             \u001b[1;32melse\u001b[0m\u001b[1;33m:\u001b[0m\u001b[1;33m\u001b[0m\u001b[1;33m\u001b[0m\u001b[0m\n\u001b[1;32m--> 911\u001b[1;33m                 \u001b[0marr\u001b[0m \u001b[1;33m=\u001b[0m \u001b[0mblk\u001b[0m\u001b[1;33m.\u001b[0m\u001b[0mget_values\u001b[0m\u001b[1;33m(\u001b[0m\u001b[0mdtype\u001b[0m\u001b[1;33m)\u001b[0m\u001b[1;33m\u001b[0m\u001b[1;33m\u001b[0m\u001b[0m\n\u001b[0m\u001b[0;32m    912\u001b[0m             \u001b[0mresult\u001b[0m\u001b[1;33m[\u001b[0m\u001b[0mrl\u001b[0m\u001b[1;33m.\u001b[0m\u001b[0mindexer\u001b[0m\u001b[1;33m]\u001b[0m \u001b[1;33m=\u001b[0m \u001b[0marr\u001b[0m\u001b[1;33m\u001b[0m\u001b[1;33m\u001b[0m\u001b[0m\n\u001b[0;32m    913\u001b[0m             \u001b[0mitemmask\u001b[0m\u001b[1;33m[\u001b[0m\u001b[0mrl\u001b[0m\u001b[1;33m.\u001b[0m\u001b[0mindexer\u001b[0m\u001b[1;33m]\u001b[0m \u001b[1;33m=\u001b[0m \u001b[1;36m1\u001b[0m\u001b[1;33m\u001b[0m\u001b[1;33m\u001b[0m\u001b[0m\n",
      "\u001b[1;32mC:\\ProgramData\\Anaconda3\\envs\\caps\\lib\\site-packages\\pandas\\core\\internals\\blocks.py\u001b[0m in \u001b[0;36mget_values\u001b[1;34m(self, dtype)\u001b[0m\n\u001b[0;32m   2163\u001b[0m         \u001b[1;32mif\u001b[0m \u001b[0mis_object_dtype\u001b[0m\u001b[1;33m(\u001b[0m\u001b[0mdtype\u001b[0m\u001b[1;33m)\u001b[0m\u001b[1;33m:\u001b[0m\u001b[1;33m\u001b[0m\u001b[1;33m\u001b[0m\u001b[0m\n\u001b[0;32m   2164\u001b[0m             \u001b[1;31m# DTA/TDA constructor and astype can handle 2D\u001b[0m\u001b[1;33m\u001b[0m\u001b[1;33m\u001b[0m\u001b[1;33m\u001b[0m\u001b[0m\n\u001b[1;32m-> 2165\u001b[1;33m             \u001b[1;32mreturn\u001b[0m \u001b[0mself\u001b[0m\u001b[1;33m.\u001b[0m\u001b[0m_holder\u001b[0m\u001b[1;33m(\u001b[0m\u001b[0mself\u001b[0m\u001b[1;33m.\u001b[0m\u001b[0mvalues\u001b[0m\u001b[1;33m)\u001b[0m\u001b[1;33m.\u001b[0m\u001b[0mastype\u001b[0m\u001b[1;33m(\u001b[0m\u001b[0mobject\u001b[0m\u001b[1;33m)\u001b[0m\u001b[1;33m\u001b[0m\u001b[1;33m\u001b[0m\u001b[0m\n\u001b[0m\u001b[0;32m   2166\u001b[0m         \u001b[1;32mreturn\u001b[0m \u001b[0mself\u001b[0m\u001b[1;33m.\u001b[0m\u001b[0mvalues\u001b[0m\u001b[1;33m\u001b[0m\u001b[1;33m\u001b[0m\u001b[0m\n\u001b[0;32m   2167\u001b[0m \u001b[1;33m\u001b[0m\u001b[0m\n",
      "\u001b[1;32mC:\\ProgramData\\Anaconda3\\envs\\caps\\lib\\site-packages\\pandas\\core\\arrays\\datetimes.py\u001b[0m in \u001b[0;36mastype\u001b[1;34m(self, dtype, copy)\u001b[0m\n\u001b[0;32m    608\u001b[0m         \u001b[1;32melif\u001b[0m \u001b[0mis_period_dtype\u001b[0m\u001b[1;33m(\u001b[0m\u001b[0mdtype\u001b[0m\u001b[1;33m)\u001b[0m\u001b[1;33m:\u001b[0m\u001b[1;33m\u001b[0m\u001b[1;33m\u001b[0m\u001b[0m\n\u001b[0;32m    609\u001b[0m             \u001b[1;32mreturn\u001b[0m \u001b[0mself\u001b[0m\u001b[1;33m.\u001b[0m\u001b[0mto_period\u001b[0m\u001b[1;33m(\u001b[0m\u001b[0mfreq\u001b[0m\u001b[1;33m=\u001b[0m\u001b[0mdtype\u001b[0m\u001b[1;33m.\u001b[0m\u001b[0mfreq\u001b[0m\u001b[1;33m)\u001b[0m\u001b[1;33m\u001b[0m\u001b[1;33m\u001b[0m\u001b[0m\n\u001b[1;32m--> 610\u001b[1;33m         \u001b[1;32mreturn\u001b[0m \u001b[0mdtl\u001b[0m\u001b[1;33m.\u001b[0m\u001b[0mDatetimeLikeArrayMixin\u001b[0m\u001b[1;33m.\u001b[0m\u001b[0mastype\u001b[0m\u001b[1;33m(\u001b[0m\u001b[0mself\u001b[0m\u001b[1;33m,\u001b[0m \u001b[0mdtype\u001b[0m\u001b[1;33m,\u001b[0m \u001b[0mcopy\u001b[0m\u001b[1;33m)\u001b[0m\u001b[1;33m\u001b[0m\u001b[1;33m\u001b[0m\u001b[0m\n\u001b[0m\u001b[0;32m    611\u001b[0m \u001b[1;33m\u001b[0m\u001b[0m\n\u001b[0;32m    612\u001b[0m     \u001b[1;31m# -----------------------------------------------------------------\u001b[0m\u001b[1;33m\u001b[0m\u001b[1;33m\u001b[0m\u001b[1;33m\u001b[0m\u001b[0m\n",
      "\u001b[1;32mC:\\ProgramData\\Anaconda3\\envs\\caps\\lib\\site-packages\\pandas\\core\\arrays\\datetimelike.py\u001b[0m in \u001b[0;36mastype\u001b[1;34m(self, dtype, copy)\u001b[0m\n\u001b[0;32m    343\u001b[0m \u001b[1;33m\u001b[0m\u001b[0m\n\u001b[0;32m    344\u001b[0m         \u001b[1;32mif\u001b[0m \u001b[0mis_object_dtype\u001b[0m\u001b[1;33m(\u001b[0m\u001b[0mdtype\u001b[0m\u001b[1;33m)\u001b[0m\u001b[1;33m:\u001b[0m\u001b[1;33m\u001b[0m\u001b[1;33m\u001b[0m\u001b[0m\n\u001b[1;32m--> 345\u001b[1;33m             \u001b[1;32mreturn\u001b[0m \u001b[0mself\u001b[0m\u001b[1;33m.\u001b[0m\u001b[0m_box_values\u001b[0m\u001b[1;33m(\u001b[0m\u001b[0mself\u001b[0m\u001b[1;33m.\u001b[0m\u001b[0masi8\u001b[0m\u001b[1;33m.\u001b[0m\u001b[0mravel\u001b[0m\u001b[1;33m(\u001b[0m\u001b[1;33m)\u001b[0m\u001b[1;33m)\u001b[0m\u001b[1;33m.\u001b[0m\u001b[0mreshape\u001b[0m\u001b[1;33m(\u001b[0m\u001b[0mself\u001b[0m\u001b[1;33m.\u001b[0m\u001b[0mshape\u001b[0m\u001b[1;33m)\u001b[0m\u001b[1;33m\u001b[0m\u001b[1;33m\u001b[0m\u001b[0m\n\u001b[0m\u001b[0;32m    346\u001b[0m         \u001b[1;32melif\u001b[0m \u001b[0mis_string_dtype\u001b[0m\u001b[1;33m(\u001b[0m\u001b[0mdtype\u001b[0m\u001b[1;33m)\u001b[0m \u001b[1;32mand\u001b[0m \u001b[1;32mnot\u001b[0m \u001b[0mis_categorical_dtype\u001b[0m\u001b[1;33m(\u001b[0m\u001b[0mdtype\u001b[0m\u001b[1;33m)\u001b[0m\u001b[1;33m:\u001b[0m\u001b[1;33m\u001b[0m\u001b[1;33m\u001b[0m\u001b[0m\n\u001b[0;32m    347\u001b[0m             \u001b[1;32mif\u001b[0m \u001b[0mis_extension_array_dtype\u001b[0m\u001b[1;33m(\u001b[0m\u001b[0mdtype\u001b[0m\u001b[1;33m)\u001b[0m\u001b[1;33m:\u001b[0m\u001b[1;33m\u001b[0m\u001b[1;33m\u001b[0m\u001b[0m\n",
      "\u001b[1;32mC:\\ProgramData\\Anaconda3\\envs\\caps\\lib\\site-packages\\pandas\\core\\arrays\\datetimelike.py\u001b[0m in \u001b[0;36m_box_values\u001b[1;34m(self, values)\u001b[0m\n\u001b[0;32m    225\u001b[0m         \u001b[0mapply\u001b[0m \u001b[0mbox\u001b[0m \u001b[0mfunc\u001b[0m \u001b[0mto\u001b[0m \u001b[0mpassed\u001b[0m \u001b[0mvalues\u001b[0m\u001b[1;33m\u001b[0m\u001b[1;33m\u001b[0m\u001b[0m\n\u001b[0;32m    226\u001b[0m         \"\"\"\n\u001b[1;32m--> 227\u001b[1;33m         \u001b[1;32mreturn\u001b[0m \u001b[0mlib\u001b[0m\u001b[1;33m.\u001b[0m\u001b[0mmap_infer\u001b[0m\u001b[1;33m(\u001b[0m\u001b[0mvalues\u001b[0m\u001b[1;33m,\u001b[0m \u001b[0mself\u001b[0m\u001b[1;33m.\u001b[0m\u001b[0m_box_func\u001b[0m\u001b[1;33m)\u001b[0m\u001b[1;33m\u001b[0m\u001b[1;33m\u001b[0m\u001b[0m\n\u001b[0m\u001b[0;32m    228\u001b[0m \u001b[1;33m\u001b[0m\u001b[0m\n\u001b[0;32m    229\u001b[0m     \u001b[1;32mdef\u001b[0m \u001b[0m__iter__\u001b[0m\u001b[1;33m(\u001b[0m\u001b[0mself\u001b[0m\u001b[1;33m)\u001b[0m\u001b[1;33m:\u001b[0m\u001b[1;33m\u001b[0m\u001b[1;33m\u001b[0m\u001b[0m\n",
      "\u001b[1;32mpandas\\_libs\\lib.pyx\u001b[0m in \u001b[0;36mpandas._libs.lib.map_infer\u001b[1;34m()\u001b[0m\n",
      "\u001b[1;32mC:\\ProgramData\\Anaconda3\\envs\\caps\\lib\\site-packages\\pandas\\core\\arrays\\datetimes.py\u001b[0m in \u001b[0;36m_box_func\u001b[1;34m(self, x)\u001b[0m\n\u001b[0;32m    482\u001b[0m     \u001b[1;31m# Descriptive Properties\u001b[0m\u001b[1;33m\u001b[0m\u001b[1;33m\u001b[0m\u001b[1;33m\u001b[0m\u001b[0m\n\u001b[0;32m    483\u001b[0m \u001b[1;33m\u001b[0m\u001b[0m\n\u001b[1;32m--> 484\u001b[1;33m     \u001b[1;32mdef\u001b[0m \u001b[0m_box_func\u001b[0m\u001b[1;33m(\u001b[0m\u001b[0mself\u001b[0m\u001b[1;33m,\u001b[0m \u001b[0mx\u001b[0m\u001b[1;33m)\u001b[0m \u001b[1;33m->\u001b[0m \u001b[0mUnion\u001b[0m\u001b[1;33m[\u001b[0m\u001b[0mTimestamp\u001b[0m\u001b[1;33m,\u001b[0m \u001b[0mNaTType\u001b[0m\u001b[1;33m]\u001b[0m\u001b[1;33m:\u001b[0m\u001b[1;33m\u001b[0m\u001b[1;33m\u001b[0m\u001b[0m\n\u001b[0m\u001b[0;32m    485\u001b[0m         \u001b[1;32mreturn\u001b[0m \u001b[0mTimestamp\u001b[0m\u001b[1;33m(\u001b[0m\u001b[0mx\u001b[0m\u001b[1;33m,\u001b[0m \u001b[0mfreq\u001b[0m\u001b[1;33m=\u001b[0m\u001b[0mself\u001b[0m\u001b[1;33m.\u001b[0m\u001b[0mfreq\u001b[0m\u001b[1;33m,\u001b[0m \u001b[0mtz\u001b[0m\u001b[1;33m=\u001b[0m\u001b[0mself\u001b[0m\u001b[1;33m.\u001b[0m\u001b[0mtz\u001b[0m\u001b[1;33m)\u001b[0m\u001b[1;33m\u001b[0m\u001b[1;33m\u001b[0m\u001b[0m\n\u001b[0;32m    486\u001b[0m \u001b[1;33m\u001b[0m\u001b[0m\n",
      "\u001b[1;31mKeyboardInterrupt\u001b[0m: "
     ]
    }
   ],
   "source": [
    "results_p2=[]\n",
    "rng = [0.0025*i for i in range(1,10)]\n",
    "for i in tqdm(rng):\n",
    "    _, y, _ = build_Xy(df, window=window, use_atr=True, atr_ratio=(i,i/3), reverse=False)\n",
    "    results_p2.append(y.sum() / len(y))\n",
    "plt.plot(rng, results_p2)"
   ]
  },
  {
   "cell_type": "code",
   "execution_count": null,
   "metadata": {},
   "outputs": [],
   "source": [
    "results_p3=[]\n",
    "rng = [0.0025*i for i in range(1,10)]\n",
    "for i in tqdm(rng):\n",
    "    _, y, _ = build_Xy(df, window=window, use_atr=True, atr_ratio=(i,i/4), reverse=False)\n",
    "    results_p3.append(y.sum() / len(y))\n",
    "plt.plot(rng, results_p3)"
   ]
  }
 ],
 "metadata": {
  "kernelspec": {
   "display_name": "Python 3",
   "language": "python",
   "name": "python3"
  },
  "language_info": {
   "codemirror_mode": {
    "name": "ipython",
    "version": 3
   },
   "file_extension": ".py",
   "mimetype": "text/x-python",
   "name": "python",
   "nbconvert_exporter": "python",
   "pygments_lexer": "ipython3",
   "version": "3.8.5"
  }
 },
 "nbformat": 4,
 "nbformat_minor": 4
}
