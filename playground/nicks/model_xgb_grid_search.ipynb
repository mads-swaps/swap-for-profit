{
 "cells": [
  {
   "cell_type": "code",
   "execution_count": 1,
   "metadata": {},
   "outputs": [],
   "source": [
    "import pandas as pd\n",
    "import matplotlib.pyplot as plt\n",
    "import numpy as np\n",
    "from sklearn.model_selection import GridSearchCV\n",
    "import xgboost as xgb\n",
    "\n",
    "pd.set_option('display.max_columns', 500)\n",
    "\n",
    "def load_split_data(suffix=None, split=False, window=14):\n",
    "    if suffix==None:\n",
    "        suffix='DEFAULT'\n",
    "    try:\n",
    "        X = pd.read_pickle(f'data/X_{suffix}.pkl')\n",
    "        y = pd.read_pickle(f'data/y_{suffix}.pkl')\n",
    "    except:\n",
    "        X, y, _ = build_Xy(df, window=window, use_atr=True, atr_ratio=(20,5), reverse=False, debug=True)\n",
    "        X.to_pickle(f'data/X_{suffix}.pkl')\n",
    "        y.to_pickle(f'data/y_{suffix}.pkl')\n",
    "        \n",
    "    if split:\n",
    "        X_train, y_train, X_test, y_test = train_test_split(X, y, X.loc['2018':'2019'].index, X.loc['2020':].index)\n",
    "        return X_train, y_train, X_test, y_test\n",
    "    else:\n",
    "        return X, y\n",
    "    \n",
    "X, y = load_split_data(suffix='20210728a')"
   ]
  },
  {
   "cell_type": "code",
   "execution_count": 24,
   "metadata": {
    "scrolled": true
   },
   "outputs": [
    {
     "name": "stdout",
     "output_type": "stream",
     "text": [
      "Fitting 5 folds for each of 3 candidates, totalling 15 fits\n"
     ]
    },
    {
     "name": "stderr",
     "output_type": "stream",
     "text": [
      "C:\\ProgramData\\Anaconda3\\envs\\caps\\lib\\site-packages\\xgboost\\data.py:112: UserWarning: Use subset (sliced data) of np.ndarray is not recommended because it will generate extra copies and increase memory consumption\n",
      "  warnings.warn(\n"
     ]
    },
    {
     "name": "stdout",
     "output_type": "stream",
     "text": [
      "[CV 1/5] END .................................booster=gbtree; total time=   4.2s\n"
     ]
    },
    {
     "name": "stderr",
     "output_type": "stream",
     "text": [
      "C:\\ProgramData\\Anaconda3\\envs\\caps\\lib\\site-packages\\xgboost\\data.py:112: UserWarning: Use subset (sliced data) of np.ndarray is not recommended because it will generate extra copies and increase memory consumption\n",
      "  warnings.warn(\n"
     ]
    },
    {
     "name": "stdout",
     "output_type": "stream",
     "text": [
      "[CV 2/5] END .................................booster=gbtree; total time=   4.7s\n"
     ]
    },
    {
     "name": "stderr",
     "output_type": "stream",
     "text": [
      "C:\\ProgramData\\Anaconda3\\envs\\caps\\lib\\site-packages\\xgboost\\data.py:112: UserWarning: Use subset (sliced data) of np.ndarray is not recommended because it will generate extra copies and increase memory consumption\n",
      "  warnings.warn(\n"
     ]
    },
    {
     "name": "stdout",
     "output_type": "stream",
     "text": [
      "[CV 3/5] END .................................booster=gbtree; total time=   4.7s\n"
     ]
    },
    {
     "name": "stderr",
     "output_type": "stream",
     "text": [
      "C:\\ProgramData\\Anaconda3\\envs\\caps\\lib\\site-packages\\xgboost\\data.py:112: UserWarning: Use subset (sliced data) of np.ndarray is not recommended because it will generate extra copies and increase memory consumption\n",
      "  warnings.warn(\n"
     ]
    },
    {
     "name": "stdout",
     "output_type": "stream",
     "text": [
      "[CV 4/5] END .................................booster=gbtree; total time=   4.9s\n"
     ]
    },
    {
     "name": "stderr",
     "output_type": "stream",
     "text": [
      "C:\\ProgramData\\Anaconda3\\envs\\caps\\lib\\site-packages\\xgboost\\data.py:112: UserWarning: Use subset (sliced data) of np.ndarray is not recommended because it will generate extra copies and increase memory consumption\n",
      "  warnings.warn(\n"
     ]
    },
    {
     "name": "stdout",
     "output_type": "stream",
     "text": [
      "[CV 5/5] END .................................booster=gbtree; total time=   4.9s\n",
      "[17:40:59] WARNING: ..\\src\\learner.cc:573: \n",
      "Parameters: { \"max_depth\" } might not be used.\n",
      "\n",
      "  This may not be accurate due to some parameters are only used in language bindings but\n",
      "  passed down to XGBoost core.  Or some parameters are not used but slip through this\n",
      "  verification. Please open an issue if you find above cases.\n",
      "\n",
      "\n"
     ]
    },
    {
     "name": "stderr",
     "output_type": "stream",
     "text": [
      "C:\\ProgramData\\Anaconda3\\envs\\caps\\lib\\site-packages\\sklearn\\metrics\\_classification.py:1245: UndefinedMetricWarning: Precision is ill-defined and being set to 0.0 due to no predicted samples. Use `zero_division` parameter to control this behavior.\n",
      "  _warn_prf(average, modifier, msg_start, len(result))\n"
     ]
    },
    {
     "name": "stdout",
     "output_type": "stream",
     "text": [
      "[CV 1/5] END ...............................booster=gblinear; total time=   1.0s\n",
      "[17:41:00] WARNING: ..\\src\\learner.cc:573: \n",
      "Parameters: { \"max_depth\" } might not be used.\n",
      "\n",
      "  This may not be accurate due to some parameters are only used in language bindings but\n",
      "  passed down to XGBoost core.  Or some parameters are not used but slip through this\n",
      "  verification. Please open an issue if you find above cases.\n",
      "\n",
      "\n",
      "[CV 2/5] END ...............................booster=gblinear; total time=   1.1s\n",
      "[17:41:02] WARNING: ..\\src\\learner.cc:573: \n",
      "Parameters: { \"max_depth\" } might not be used.\n",
      "\n",
      "  This may not be accurate due to some parameters are only used in language bindings but\n",
      "  passed down to XGBoost core.  Or some parameters are not used but slip through this\n",
      "  verification. Please open an issue if you find above cases.\n",
      "\n",
      "\n"
     ]
    },
    {
     "name": "stderr",
     "output_type": "stream",
     "text": [
      "C:\\ProgramData\\Anaconda3\\envs\\caps\\lib\\site-packages\\sklearn\\metrics\\_classification.py:1245: UndefinedMetricWarning: Precision is ill-defined and being set to 0.0 due to no predicted samples. Use `zero_division` parameter to control this behavior.\n",
      "  _warn_prf(average, modifier, msg_start, len(result))\n"
     ]
    },
    {
     "name": "stdout",
     "output_type": "stream",
     "text": [
      "[CV 3/5] END ...............................booster=gblinear; total time=   1.0s\n",
      "[17:41:03] WARNING: ..\\src\\learner.cc:573: \n",
      "Parameters: { \"max_depth\" } might not be used.\n",
      "\n",
      "  This may not be accurate due to some parameters are only used in language bindings but\n",
      "  passed down to XGBoost core.  Or some parameters are not used but slip through this\n",
      "  verification. Please open an issue if you find above cases.\n",
      "\n",
      "\n"
     ]
    },
    {
     "name": "stderr",
     "output_type": "stream",
     "text": [
      "C:\\ProgramData\\Anaconda3\\envs\\caps\\lib\\site-packages\\sklearn\\metrics\\_classification.py:1245: UndefinedMetricWarning: Precision is ill-defined and being set to 0.0 due to no predicted samples. Use `zero_division` parameter to control this behavior.\n",
      "  _warn_prf(average, modifier, msg_start, len(result))\n"
     ]
    },
    {
     "name": "stdout",
     "output_type": "stream",
     "text": [
      "[CV 4/5] END ...............................booster=gblinear; total time=   1.0s\n",
      "[17:41:04] WARNING: ..\\src\\learner.cc:573: \n",
      "Parameters: { \"max_depth\" } might not be used.\n",
      "\n",
      "  This may not be accurate due to some parameters are only used in language bindings but\n",
      "  passed down to XGBoost core.  Or some parameters are not used but slip through this\n",
      "  verification. Please open an issue if you find above cases.\n",
      "\n",
      "\n",
      "[CV 5/5] END ...............................booster=gblinear; total time=   1.0s\n"
     ]
    },
    {
     "name": "stderr",
     "output_type": "stream",
     "text": [
      "C:\\ProgramData\\Anaconda3\\envs\\caps\\lib\\site-packages\\xgboost\\data.py:112: UserWarning: Use subset (sliced data) of np.ndarray is not recommended because it will generate extra copies and increase memory consumption\n",
      "  warnings.warn(\n"
     ]
    },
    {
     "name": "stdout",
     "output_type": "stream",
     "text": [
      "[CV 1/5] END ...................................booster=dart; total time=   6.8s\n"
     ]
    },
    {
     "name": "stderr",
     "output_type": "stream",
     "text": [
      "C:\\ProgramData\\Anaconda3\\envs\\caps\\lib\\site-packages\\xgboost\\data.py:112: UserWarning: Use subset (sliced data) of np.ndarray is not recommended because it will generate extra copies and increase memory consumption\n",
      "  warnings.warn(\n"
     ]
    },
    {
     "name": "stdout",
     "output_type": "stream",
     "text": [
      "[CV 2/5] END ...................................booster=dart; total time=   6.9s\n"
     ]
    },
    {
     "name": "stderr",
     "output_type": "stream",
     "text": [
      "C:\\ProgramData\\Anaconda3\\envs\\caps\\lib\\site-packages\\xgboost\\data.py:112: UserWarning: Use subset (sliced data) of np.ndarray is not recommended because it will generate extra copies and increase memory consumption\n",
      "  warnings.warn(\n"
     ]
    },
    {
     "name": "stdout",
     "output_type": "stream",
     "text": [
      "[CV 3/5] END ...................................booster=dart; total time=   6.9s\n"
     ]
    },
    {
     "name": "stderr",
     "output_type": "stream",
     "text": [
      "C:\\ProgramData\\Anaconda3\\envs\\caps\\lib\\site-packages\\xgboost\\data.py:112: UserWarning: Use subset (sliced data) of np.ndarray is not recommended because it will generate extra copies and increase memory consumption\n",
      "  warnings.warn(\n"
     ]
    },
    {
     "name": "stdout",
     "output_type": "stream",
     "text": [
      "[CV 4/5] END ...................................booster=dart; total time=   6.9s\n"
     ]
    },
    {
     "name": "stderr",
     "output_type": "stream",
     "text": [
      "C:\\ProgramData\\Anaconda3\\envs\\caps\\lib\\site-packages\\xgboost\\data.py:112: UserWarning: Use subset (sliced data) of np.ndarray is not recommended because it will generate extra copies and increase memory consumption\n",
      "  warnings.warn(\n"
     ]
    },
    {
     "name": "stdout",
     "output_type": "stream",
     "text": [
      "[CV 5/5] END ...................................booster=dart; total time=   6.9s\n"
     ]
    }
   ],
   "source": [
    "import warnings\n",
    "warnings.filterwarnings(action='ignore', category=UserWarning)\n",
    "\n",
    "parameters = {#'learning_rate': [0.3],\n",
    "              #'n_estimators': [16,17,18],\n",
    "              #'gamma': [0.1,0.3,0.9,1,],\n",
    "              #'max_depth' : [5,6,7],\n",
    "              #'booster' :['gbtree','gblinear','dart'],\n",
    "             }\n",
    "gbc = xgb.XGBClassifier(n_jobs=-1, random_state=42, use_label_encoder=False,\n",
    "                        learning_rate=0.3, n_estimators=17, max_depth=5)\n",
    "clf = GridSearchCV(gbc, parameters, verbose=4, scoring='precision').fit(X, y, eval_metric=['map'])"
   ]
  },
  {
   "cell_type": "code",
   "execution_count": 25,
   "metadata": {},
   "outputs": [
    {
     "data": {
      "text/html": [
       "<div>\n",
       "<style scoped>\n",
       "    .dataframe tbody tr th:only-of-type {\n",
       "        vertical-align: middle;\n",
       "    }\n",
       "\n",
       "    .dataframe tbody tr th {\n",
       "        vertical-align: top;\n",
       "    }\n",
       "\n",
       "    .dataframe thead th {\n",
       "        text-align: right;\n",
       "    }\n",
       "</style>\n",
       "<table border=\"1\" class=\"dataframe\">\n",
       "  <thead>\n",
       "    <tr style=\"text-align: right;\">\n",
       "      <th></th>\n",
       "      <th>mean_fit_time</th>\n",
       "      <th>std_fit_time</th>\n",
       "      <th>mean_score_time</th>\n",
       "      <th>std_score_time</th>\n",
       "      <th>param_booster</th>\n",
       "      <th>params</th>\n",
       "      <th>split0_test_score</th>\n",
       "      <th>split1_test_score</th>\n",
       "      <th>split2_test_score</th>\n",
       "      <th>split3_test_score</th>\n",
       "      <th>split4_test_score</th>\n",
       "      <th>mean_test_score</th>\n",
       "      <th>std_test_score</th>\n",
       "      <th>rank_test_score</th>\n",
       "    </tr>\n",
       "  </thead>\n",
       "  <tbody>\n",
       "    <tr>\n",
       "      <th>0</th>\n",
       "      <td>4.724322</td>\n",
       "      <td>0.248310</td>\n",
       "      <td>0.063930</td>\n",
       "      <td>0.001276</td>\n",
       "      <td>gbtree</td>\n",
       "      <td>{'booster': 'gbtree'}</td>\n",
       "      <td>0.363636</td>\n",
       "      <td>0.046524</td>\n",
       "      <td>0.001135</td>\n",
       "      <td>0.060711</td>\n",
       "      <td>0.500000</td>\n",
       "      <td>0.194401</td>\n",
       "      <td>0.199561</td>\n",
       "      <td>1</td>\n",
       "    </tr>\n",
       "    <tr>\n",
       "      <th>1</th>\n",
       "      <td>1.031573</td>\n",
       "      <td>0.051206</td>\n",
       "      <td>0.114198</td>\n",
       "      <td>0.010105</td>\n",
       "      <td>gblinear</td>\n",
       "      <td>{'booster': 'gblinear'}</td>\n",
       "      <td>0.000000</td>\n",
       "      <td>0.227266</td>\n",
       "      <td>0.000000</td>\n",
       "      <td>0.000000</td>\n",
       "      <td>0.227302</td>\n",
       "      <td>0.090914</td>\n",
       "      <td>0.111346</td>\n",
       "      <td>3</td>\n",
       "    </tr>\n",
       "    <tr>\n",
       "      <th>2</th>\n",
       "      <td>6.618831</td>\n",
       "      <td>0.059896</td>\n",
       "      <td>0.358853</td>\n",
       "      <td>0.012732</td>\n",
       "      <td>dart</td>\n",
       "      <td>{'booster': 'dart'}</td>\n",
       "      <td>0.363636</td>\n",
       "      <td>0.046524</td>\n",
       "      <td>0.001135</td>\n",
       "      <td>0.060711</td>\n",
       "      <td>0.500000</td>\n",
       "      <td>0.194401</td>\n",
       "      <td>0.199561</td>\n",
       "      <td>1</td>\n",
       "    </tr>\n",
       "  </tbody>\n",
       "</table>\n",
       "</div>"
      ],
      "text/plain": [
       "   mean_fit_time  std_fit_time  mean_score_time  std_score_time param_booster  \\\n",
       "0       4.724322      0.248310         0.063930        0.001276        gbtree   \n",
       "1       1.031573      0.051206         0.114198        0.010105      gblinear   \n",
       "2       6.618831      0.059896         0.358853        0.012732          dart   \n",
       "\n",
       "                    params  split0_test_score  split1_test_score  \\\n",
       "0    {'booster': 'gbtree'}           0.363636           0.046524   \n",
       "1  {'booster': 'gblinear'}           0.000000           0.227266   \n",
       "2      {'booster': 'dart'}           0.363636           0.046524   \n",
       "\n",
       "   split2_test_score  split3_test_score  split4_test_score  mean_test_score  \\\n",
       "0           0.001135           0.060711           0.500000         0.194401   \n",
       "1           0.000000           0.000000           0.227302         0.090914   \n",
       "2           0.001135           0.060711           0.500000         0.194401   \n",
       "\n",
       "   std_test_score  rank_test_score  \n",
       "0        0.199561                1  \n",
       "1        0.111346                3  \n",
       "2        0.199561                1  "
      ]
     },
     "execution_count": 25,
     "metadata": {},
     "output_type": "execute_result"
    }
   ],
   "source": [
    "pd.DataFrame(clf.cv_results_)"
   ]
  },
  {
   "cell_type": "code",
   "execution_count": 19,
   "metadata": {},
   "outputs": [
    {
     "data": {
      "text/html": [
       "<div>\n",
       "<style scoped>\n",
       "    .dataframe tbody tr th:only-of-type {\n",
       "        vertical-align: middle;\n",
       "    }\n",
       "\n",
       "    .dataframe tbody tr th {\n",
       "        vertical-align: top;\n",
       "    }\n",
       "\n",
       "    .dataframe thead th {\n",
       "        text-align: right;\n",
       "    }\n",
       "</style>\n",
       "<table border=\"1\" class=\"dataframe\">\n",
       "  <thead>\n",
       "    <tr style=\"text-align: right;\">\n",
       "      <th></th>\n",
       "      <th>mean_fit_time</th>\n",
       "      <th>std_fit_time</th>\n",
       "      <th>mean_score_time</th>\n",
       "      <th>std_score_time</th>\n",
       "      <th>param_max_depth</th>\n",
       "      <th>params</th>\n",
       "      <th>split0_test_score</th>\n",
       "      <th>split1_test_score</th>\n",
       "      <th>split2_test_score</th>\n",
       "      <th>split3_test_score</th>\n",
       "      <th>split4_test_score</th>\n",
       "      <th>mean_test_score</th>\n",
       "      <th>std_test_score</th>\n",
       "      <th>rank_test_score</th>\n",
       "    </tr>\n",
       "  </thead>\n",
       "  <tbody>\n",
       "    <tr>\n",
       "      <th>0</th>\n",
       "      <td>2.920149</td>\n",
       "      <td>0.122432</td>\n",
       "      <td>0.064827</td>\n",
       "      <td>0.003837</td>\n",
       "      <td>3</td>\n",
       "      <td>{'max_depth': 3}</td>\n",
       "      <td>0.000000</td>\n",
       "      <td>0.017279</td>\n",
       "      <td>0.000000</td>\n",
       "      <td>0.073150</td>\n",
       "      <td>0.0</td>\n",
       "      <td>0.018086</td>\n",
       "      <td>0.028334</td>\n",
       "      <td>3</td>\n",
       "    </tr>\n",
       "    <tr>\n",
       "      <th>1</th>\n",
       "      <td>3.801771</td>\n",
       "      <td>0.125399</td>\n",
       "      <td>0.061635</td>\n",
       "      <td>0.000746</td>\n",
       "      <td>4</td>\n",
       "      <td>{'max_depth': 4}</td>\n",
       "      <td>0.000000</td>\n",
       "      <td>0.008000</td>\n",
       "      <td>0.500000</td>\n",
       "      <td>0.069859</td>\n",
       "      <td>0.0</td>\n",
       "      <td>0.115572</td>\n",
       "      <td>0.193990</td>\n",
       "      <td>2</td>\n",
       "    </tr>\n",
       "    <tr>\n",
       "      <th>2</th>\n",
       "      <td>4.639392</td>\n",
       "      <td>0.093282</td>\n",
       "      <td>0.065226</td>\n",
       "      <td>0.004306</td>\n",
       "      <td>5</td>\n",
       "      <td>{'max_depth': 5}</td>\n",
       "      <td>0.363636</td>\n",
       "      <td>0.046524</td>\n",
       "      <td>0.001135</td>\n",
       "      <td>0.060711</td>\n",
       "      <td>0.5</td>\n",
       "      <td>0.194401</td>\n",
       "      <td>0.199561</td>\n",
       "      <td>1</td>\n",
       "    </tr>\n",
       "  </tbody>\n",
       "</table>\n",
       "</div>"
      ],
      "text/plain": [
       "   mean_fit_time  std_fit_time  mean_score_time  std_score_time  \\\n",
       "0       2.920149      0.122432         0.064827        0.003837   \n",
       "1       3.801771      0.125399         0.061635        0.000746   \n",
       "2       4.639392      0.093282         0.065226        0.004306   \n",
       "\n",
       "  param_max_depth            params  split0_test_score  split1_test_score  \\\n",
       "0               3  {'max_depth': 3}           0.000000           0.017279   \n",
       "1               4  {'max_depth': 4}           0.000000           0.008000   \n",
       "2               5  {'max_depth': 5}           0.363636           0.046524   \n",
       "\n",
       "   split2_test_score  split3_test_score  split4_test_score  mean_test_score  \\\n",
       "0           0.000000           0.073150                0.0         0.018086   \n",
       "1           0.500000           0.069859                0.0         0.115572   \n",
       "2           0.001135           0.060711                0.5         0.194401   \n",
       "\n",
       "   std_test_score  rank_test_score  \n",
       "0        0.028334                3  \n",
       "1        0.193990                2  \n",
       "2        0.199561                1  "
      ]
     },
     "execution_count": 19,
     "metadata": {},
     "output_type": "execute_result"
    }
   ],
   "source": [
    "pd.DataFrame(clf.cv_results_)"
   ]
  }
 ],
 "metadata": {
  "kernelspec": {
   "display_name": "Python 3",
   "language": "python",
   "name": "python3"
  },
  "language_info": {
   "codemirror_mode": {
    "name": "ipython",
    "version": 3
   },
   "file_extension": ".py",
   "mimetype": "text/x-python",
   "name": "python",
   "nbconvert_exporter": "python",
   "pygments_lexer": "ipython3",
   "version": "3.8.5"
  }
 },
 "nbformat": 4,
 "nbformat_minor": 4
}
