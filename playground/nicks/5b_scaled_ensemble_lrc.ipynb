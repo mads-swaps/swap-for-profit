{
 "cells": [
  {
   "cell_type": "code",
   "execution_count": 1,
   "metadata": {},
   "outputs": [],
   "source": [
    "import pandas as pd\n",
    "import numpy as np\n",
    "\n",
    "pd.set_option('display.max_columns', 500)"
   ]
  },
  {
   "cell_type": "markdown",
   "metadata": {},
   "source": [
    "# Simulator Code"
   ]
  },
  {
   "cell_type": "code",
   "execution_count": 2,
   "metadata": {},
   "outputs": [],
   "source": [
    "def get_target_stoploss(df, threshold_ratio=(0.04,0.02), use_atr=True, atr_ratio=(2,1), reverse=False):\n",
    "    if not reverse:\n",
    "        if use_atr:\n",
    "            stop_losses = df.low-(df.atr*atr_ratio[1])\n",
    "            targets = df.close+(df.atr*atr_ratio[0])\n",
    "        else:\n",
    "            stop_losses = df.close-df.close*threshold_ratio[1]\n",
    "            targets = df.close+df.close*threshold_ratio[0]\n",
    "    else:\n",
    "        if use_atr:\n",
    "            stop_losses = df.high+(df.atr*atr_ratio[1])\n",
    "            targets = df.close-(df.atr*atr_ratio[0])\n",
    "        else:\n",
    "            stop_losses = df.close+df.close*threshold_ratio[1]\n",
    "            targets = df.close-df.close*threshold_ratio[0]\n",
    "\n",
    "    return targets, stop_losses\n",
    "\n",
    "def get_decisions_and_prices(x_data, pred, info_dict):\n",
    "    next_action = 1\n",
    "    target = -1\n",
    "    stoploss = -1\n",
    "    \n",
    "    if type(x_data.index) != pd.RangeIndex:\n",
    "        x_data = x_data.reset_index(drop=True)\n",
    "    \n",
    "    if type(pred) in (pd.DataFrame, pd.Series):\n",
    "        pred = pred.to_numpy().ravel()\n",
    "\n",
    "    use_atr = info_dict['model_use_atr']\n",
    "    atr_ratio = info_dict['model_ratio']\n",
    "    threshold_ratio = info_dict['model_ratio']\n",
    "    reverse = info_dict['model_reverse']\n",
    "        \n",
    "    targets, stop_losses = get_target_stoploss(x_data,\n",
    "                                               use_atr=use_atr,\n",
    "                                               atr_ratio=atr_ratio,\n",
    "                                               threshold_ratio=threshold_ratio,\n",
    "                                               reverse=reverse)\n",
    "    low_prices = x_data['low'].to_numpy()\n",
    "    high_prices = x_data['high'].to_numpy()\n",
    "    \n",
    "    # Decisions:\n",
    "    # 1 = buy\n",
    "    # 0 = hold (default)\n",
    "    # -1 = sell\n",
    "    decision = pd.Series(0, index=x_data.index)\n",
    "    execution_price = pd.Series(0.0, index=x_data.index)\n",
    "\n",
    "    i = 0\n",
    "    while True:\n",
    "        if i>=len(x_data):\n",
    "            break\n",
    "        if next_action == 1:\n",
    "            # Find next buy opportunity\n",
    "            try:\n",
    "                next_buy_idx = np.where(pred[i:]==1)[0][0] + i\n",
    "                target = targets.iloc[next_buy_idx]\n",
    "                stoploss = stop_losses.iloc[next_buy_idx]\n",
    "                decision.at[next_buy_idx] = 1\n",
    "                execution_price.at[next_buy_idx] = x_data.loc[next_buy_idx, 'close']\n",
    "                i = next_buy_idx+1\n",
    "                next_action = -1\n",
    "            except:\n",
    "                # No more buy opportunties\n",
    "                break\n",
    "        else:\n",
    "            # Find next sell opportunity\n",
    "            try:\n",
    "                if not reverse:\n",
    "                    next_sell_idx = np.where((high_prices[i:]>=target) | (low_prices[i:]<=stoploss))[0][0] + i\n",
    "                else:\n",
    "                    next_sell_idx = np.where((low_prices[i:]<=target) | (high_prices[i:]>=stoploss))[0][0] + i\n",
    "                if x_data.loc[next_sell_idx, 'low'] <= target <= x_data.loc[next_sell_idx, 'high']:\n",
    "                    execution_price.at[next_sell_idx] = target\n",
    "                else:\n",
    "                    execution_price.at[next_sell_idx] = stoploss\n",
    "                decision.at[next_sell_idx] = -1\n",
    "                i = next_sell_idx+1\n",
    "                next_action = 1\n",
    "            except:\n",
    "                # No more sell opportunties\n",
    "                break\n",
    "\n",
    "    return decision, execution_price\n",
    "\n",
    "def simulate(in_df, starting_value, trading_fees_percent, trading_fees_buy, trading_fees_sell):\n",
    "    df = in_df.copy()\n",
    "    df['value'] = 0.0\n",
    "    value = starting_value\n",
    "    fee_multiplier = 1.0 - trading_fees_percent / 100\n",
    "\n",
    "    for x,r in df.iterrows():\n",
    "        if r.decision == 1 and value > 0:\n",
    "            value = ((value-trading_fees_buy) * r.price) * fee_multiplier\n",
    "            if value < 0:\n",
    "                break\n",
    "        elif r.decision == -1 and value > 0:\n",
    "            value = ((value-trading_fees_sell) / r.price) * fee_multiplier\n",
    "            if value < 0:\n",
    "                break\n",
    "        else:\n",
    "            break # value is below zero\n",
    "        df.loc[x,'value'] = value\n",
    "    return df.value\n",
    "\n",
    "def run_simulator(X, y, model_use_atr, model_ratio, model_reverse,\n",
    "                  starting_value=1, trading_fees_percent=0.1,\n",
    "                  trading_fees_buy=0, trading_fees_sell=0):\n",
    "    df = X.copy()\n",
    "    d = dict(model_use_atr=model_use_atr, model_ratio=model_ratio, model_reverse=model_reverse)\n",
    "    \n",
    "    decision, execution_price = get_decisions_and_prices(X, y, d)\n",
    "    \n",
    "    df['decision'] = decision.values\n",
    "    df['price'] = execution_price.values\n",
    "    \n",
    "    sim_df = df[df['decision']!=0][['decision','price']].copy()\n",
    "    if len(sim_df) == 0:\n",
    "        return starting_value\n",
    "    else:\n",
    "        sim_df['value'] = simulate(sim_df, starting_value, trading_fees_percent, trading_fees_buy, trading_fees_sell)\n",
    "        return sim_df[sim_df.decision==-1].value.to_numpy()[-1]"
   ]
  },
  {
   "cell_type": "markdown",
   "metadata": {},
   "source": [
    "# Custom Scaler"
   ]
  },
  {
   "cell_type": "code",
   "execution_count": 3,
   "metadata": {},
   "outputs": [],
   "source": [
    "from sklearn.preprocessing import StandardScaler\n",
    "import re\n",
    "\n",
    "class CustomScaler1():\n",
    "    stdcols = ('number_of_trades','volume','quote_asset_volume',\n",
    "               'taker_buy_base_asset_volume','taker_buy_quote_asset_volume',\n",
    "               )\n",
    "    \n",
    "    def __init__(self):\n",
    "        self.standard_scaler = StandardScaler()\n",
    "        self.tostd = []\n",
    "        self.is_fit = False\n",
    "        \n",
    "    def fit(self, X):\n",
    "        for c in self.stdcols:\n",
    "            for v in X.columns:\n",
    "                if v.startswith(c):\n",
    "                    self.tostd.append(v)\n",
    "                \n",
    "        if len(self.tostd) > 0:\n",
    "            self.standard_scaler.fit(X[self.tostd])\n",
    "            \n",
    "        self.is_fit = True\n",
    "        return self\n",
    "        \n",
    "    def transform(self, X_in):\n",
    "        if self.is_fit == True:\n",
    "            X = X_in.copy()\n",
    "            open_price = X['open'].copy()\n",
    "            stddev = (((X['close'] - X['open'])**2 + \\\n",
    "                       (X['high'] - X['open'])**2 + \\\n",
    "                       (X['low'] - X['open'])**2) / 3)**0.5\n",
    "            stddev = stddev.apply(lambda x: 1 if x==0 else x)\n",
    "            \n",
    "            rsi_values = X['rsi'].copy()\n",
    "            atr_values = X['atr'].copy()\n",
    "            atr_values = atr_values.apply(lambda x: 1 if x==0 else x)\n",
    "            \n",
    "            for c in X.columns:\n",
    "                if c in ['open','high','low','close'] or \\\n",
    "                   re.match('open_[0-9]+', c) or \\\n",
    "                   re.match('high_[0-9]+', c) or \\\n",
    "                   re.match('low_[0-9]+', c) or \\\n",
    "                   re.match('close_[0-9]+', c) or \\\n",
    "                   re.match('sup[0-9]+', c) or \\\n",
    "                   re.match('res[0-9]+', c) or \\\n",
    "                   re.match('ma[0-9]+', c):\n",
    "                    X[c] = (X[c]-open_price)/stddev\n",
    "                elif c.startswith('atr_diff'):\n",
    "                    X[c] = X[c]/atr_values\n",
    "                elif re.match('atr$|atr_[0-9]+|atr_ma[0-9]+',c):\n",
    "                    X[c] = X[c]-atr_values/atr_values\n",
    "                elif c.startswith('rsi_diff'):\n",
    "                    X[c] = X[c]/rsi_values\n",
    "                elif re.match('rsi$|rsi_[0-9]+|rsi_ma[0-9]+',c):\n",
    "                    X[c] = (X[c]-50)/20 # thus the 30/70 thresholds will become -1/1\n",
    "            \n",
    "            if 'dow' in X.columns:\n",
    "                X['dow'] = X['dow'] / 6\n",
    "                \n",
    "            if len(self.tostd) > 0:\n",
    "                X[self.tostd] = self.standard_scaler.transform(X[self.tostd])\n",
    "            return X\n",
    "        else:\n",
    "            raise Exception('CustomScaler not yet fit')\n",
    "            \n",
    "    def fit_transform(self, X_in, y=None):\n",
    "        self.fit(X_in)\n",
    "        y=self.transform(X_in)\n",
    "        return y"
   ]
  },
  {
   "cell_type": "markdown",
   "metadata": {},
   "source": [
    "# Load and Train each Classifier"
   ]
  },
  {
   "cell_type": "code",
   "execution_count": 4,
   "metadata": {},
   "outputs": [
    {
     "data": {
      "application/vnd.jupyter.widget-view+json": {
       "model_id": "9e520b0aa0f040a69544157251afb688",
       "version_major": 2,
       "version_minor": 0
      },
      "text/plain": [
       "  0%|          | 0/12 [00:00<?, ?it/s]"
      ]
     },
     "metadata": {},
     "output_type": "display_data"
    },
    {
     "data": {
      "application/vnd.jupyter.widget-view+json": {
       "model_id": "",
       "version_major": 2,
       "version_minor": 0
      },
      "text/plain": [
       "  0%|          | 0/3 [00:00<?, ?it/s]"
      ]
     },
     "metadata": {},
     "output_type": "display_data"
    },
    {
     "data": {
      "application/vnd.jupyter.widget-view+json": {
       "model_id": "",
       "version_major": 2,
       "version_minor": 0
      },
      "text/plain": [
       "  0%|          | 0/3 [00:00<?, ?it/s]"
      ]
     },
     "metadata": {},
     "output_type": "display_data"
    },
    {
     "data": {
      "application/vnd.jupyter.widget-view+json": {
       "model_id": "",
       "version_major": 2,
       "version_minor": 0
      },
      "text/plain": [
       "  0%|          | 0/3 [00:00<?, ?it/s]"
      ]
     },
     "metadata": {},
     "output_type": "display_data"
    },
    {
     "data": {
      "application/vnd.jupyter.widget-view+json": {
       "model_id": "",
       "version_major": 2,
       "version_minor": 0
      },
      "text/plain": [
       "  0%|          | 0/3 [00:00<?, ?it/s]"
      ]
     },
     "metadata": {},
     "output_type": "display_data"
    },
    {
     "data": {
      "application/vnd.jupyter.widget-view+json": {
       "model_id": "",
       "version_major": 2,
       "version_minor": 0
      },
      "text/plain": [
       "  0%|          | 0/3 [00:00<?, ?it/s]"
      ]
     },
     "metadata": {},
     "output_type": "display_data"
    },
    {
     "data": {
      "application/vnd.jupyter.widget-view+json": {
       "model_id": "",
       "version_major": 2,
       "version_minor": 0
      },
      "text/plain": [
       "  0%|          | 0/3 [00:00<?, ?it/s]"
      ]
     },
     "metadata": {},
     "output_type": "display_data"
    },
    {
     "data": {
      "application/vnd.jupyter.widget-view+json": {
       "model_id": "",
       "version_major": 2,
       "version_minor": 0
      },
      "text/plain": [
       "  0%|          | 0/3 [00:00<?, ?it/s]"
      ]
     },
     "metadata": {},
     "output_type": "display_data"
    },
    {
     "data": {
      "application/vnd.jupyter.widget-view+json": {
       "model_id": "",
       "version_major": 2,
       "version_minor": 0
      },
      "text/plain": [
       "  0%|          | 0/3 [00:00<?, ?it/s]"
      ]
     },
     "metadata": {},
     "output_type": "display_data"
    },
    {
     "data": {
      "application/vnd.jupyter.widget-view+json": {
       "model_id": "",
       "version_major": 2,
       "version_minor": 0
      },
      "text/plain": [
       "  0%|          | 0/3 [00:00<?, ?it/s]"
      ]
     },
     "metadata": {},
     "output_type": "display_data"
    },
    {
     "data": {
      "application/vnd.jupyter.widget-view+json": {
       "model_id": "",
       "version_major": 2,
       "version_minor": 0
      },
      "text/plain": [
       "  0%|          | 0/3 [00:00<?, ?it/s]"
      ]
     },
     "metadata": {},
     "output_type": "display_data"
    },
    {
     "data": {
      "application/vnd.jupyter.widget-view+json": {
       "model_id": "",
       "version_major": 2,
       "version_minor": 0
      },
      "text/plain": [
       "  0%|          | 0/3 [00:00<?, ?it/s]"
      ]
     },
     "metadata": {},
     "output_type": "display_data"
    },
    {
     "data": {
      "application/vnd.jupyter.widget-view+json": {
       "model_id": "",
       "version_major": 2,
       "version_minor": 0
      },
      "text/plain": [
       "  0%|          | 0/3 [00:00<?, ?it/s]"
      ]
     },
     "metadata": {},
     "output_type": "display_data"
    }
   ],
   "source": [
    "from sklearn.linear_model import LogisticRegression\n",
    "from sklearn.pipeline import make_pipeline\n",
    "from sklearn.metrics import precision_score, recall_score\n",
    "from tqdm.notebook import tqdm\n",
    "\n",
    "def train_test_split(X, y, train_idx=None, test_idx=None):\n",
    "    X_train = X.loc[train_idx]\n",
    "    y_train = y.loc[train_idx]\n",
    "    X_test = X.loc[test_idx]\n",
    "    y_test = y.loc[test_idx]\n",
    "    return (X_train, y_train, X_test, y_test)\n",
    "\n",
    "def load_split_data(suffix, split=False):\n",
    "    X = pd.read_pickle(f'data/X_{suffix}.pkl')\n",
    "    y = pd.read_pickle(f'data/y_{suffix}.pkl')\n",
    "    if split:\n",
    "        X_train, y_train, X_test, y_test = train_test_split(X, y, X.loc['2018':'2020'].index, X.loc['2021':].index)\n",
    "        return X_train, y_train, X_test, y_test\n",
    "    else:\n",
    "        return X, y\n",
    "\n",
    "def get_columns(X,lookbacks):\n",
    "    # Drop columns with lookbacks equal to or greater than X\n",
    "    columns = list(X.columns)\n",
    "    for c in X.columns:\n",
    "        if m := re.match(r'^.*_([0-9]+)$', c):\n",
    "            if int(m[1]) > lookbacks:\n",
    "                columns.remove(c)\n",
    "    return columns\n",
    "    \n",
    "dataset_suffixes = [\n",
    "    '20210806a',\n",
    "    '20210806b',\n",
    "    '20210806c',\n",
    "    '20210806d',\n",
    "    '20210806e',\n",
    "    '20210806f',\n",
    "    '20210806g',\n",
    "    '20210806h',\n",
    "    '20210806i',\n",
    "    '20210806j',\n",
    "    '20210806k',\n",
    "    '20210806l',\n",
    "]\n",
    "\n",
    "models = []\n",
    "numlkb_dict = {'A': 15, \n",
    "               'B': 3,\n",
    "               'C': 0}\n",
    "\n",
    "for d in tqdm(dataset_suffixes):\n",
    "    X_train, y_train, X_test, y_test = load_split_data(suffix=d, split=True)\n",
    "    for lkb_ref, num_lookbacks in tqdm(numlkb_dict.items(), leave=False):\n",
    "        columns = get_columns(X_train, num_lookbacks)\n",
    "        clf = make_pipeline(CustomScaler1(),LogisticRegression(random_state=42, max_iter=10000)).fit(X_train[columns], y_train.buy)\n",
    "        pr = precision_score(y_test, clf.predict(X_test[columns]), zero_division=0)\n",
    "        if pr > 0:\n",
    "            models.append(dict(clf=clf, lkb=lkb_ref, pr=pr))"
   ]
  },
  {
   "cell_type": "markdown",
   "metadata": {},
   "source": [
    "# Run Simulator on Each Threshold"
   ]
  },
  {
   "cell_type": "code",
   "execution_count": 5,
   "metadata": {},
   "outputs": [
    {
     "data": {
      "text/plain": [
       "array([0.        , 0.        , 0.        , ..., 0.04488176, 0.1628236 ,\n",
       "       0.        ])"
      ]
     },
     "execution_count": 5,
     "metadata": {},
     "output_type": "execute_result"
    }
   ],
   "source": [
    "total_precision = 0\n",
    "scores = np.zeros(len(y_test))\n",
    "\n",
    "for m in models:\n",
    "    columns = get_columns(X_test, numlkb_dict[m['lkb']])\n",
    "    total_precision += m['pr']\n",
    "    scores += m['clf'].predict(X_test[columns])  * m['pr']\n",
    "    \n",
    "scores = scores / total_precision\n",
    "scores"
   ]
  },
  {
   "cell_type": "code",
   "execution_count": 6,
   "metadata": {},
   "outputs": [
    {
     "data": {
      "application/vnd.jupyter.widget-view+json": {
       "model_id": "944464939e2f4fdaa6be789b40a4cda9",
       "version_major": 2,
       "version_minor": 0
      },
      "text/plain": [
       "  0%|          | 0/100 [00:00<?, ?it/s]"
      ]
     },
     "metadata": {},
     "output_type": "display_data"
    },
    {
     "data": {
      "image/png": "[encoded data removed]",
      "text/plain": [
       "<Figure size 1080x360 with 2 Axes>"
      ]
     },
     "metadata": {
      "needs_background": "light"
     },
     "output_type": "display_data"
    }
   ],
   "source": [
    "import matplotlib.pyplot as plt\n",
    "from sklearn.metrics import precision_score, recall_score\n",
    "\n",
    "x = np.linspace(0,1,100)\n",
    "p = []\n",
    "r = []\n",
    "pfs = []\n",
    "\n",
    "df_hist = pd.read_pickle(f'data/data_file_hist_all_cols.pkl')\n",
    "df_hist = df_hist[['use_atr','ratio']].drop_duplicates().reset_index(drop=True)\n",
    "\n",
    "for threshold in tqdm(x):\n",
    "    p.append(precision_score(y_test.buy, np.where(scores<threshold,0,1), zero_division=0))\n",
    "    r.append(recall_score(y_test.buy, np.where(scores<threshold,0,1), zero_division=0))\n",
    "    pf = []\n",
    "    for _,v in df_hist.iterrows():\n",
    "        pf.append(run_simulator(X_test, np.where(scores<threshold,0,1), v['use_atr'], v['ratio'], True))\n",
    "    pfs.append(pf)\n",
    "\n",
    "fig,axs = plt.subplots(1,2, figsize=(15,5))\n",
    "axs[0].plot(x,p, label='precision')\n",
    "axs[0].plot(x,r, label='recall')\n",
    "axs[0].set_xlabel('Threshold')\n",
    "axs[0].set_ylabel('Precision/Recall Score')\n",
    "axs[0].legend()\n",
    "\n",
    "rat = df_hist.ratio.values\n",
    "pfs = list(zip(*pfs))\n",
    "\n",
    "for i in range(len(pfs)):\n",
    "    axs[1].plot(x,pfs[i], label=rat[i])\n",
    "axs[1].legend()\n",
    "plt.show()"
   ]
  },
  {
   "cell_type": "markdown",
   "metadata": {},
   "source": [
    "# Evaluate"
   ]
  },
  {
   "cell_type": "code",
   "execution_count": 10,
   "metadata": {},
   "outputs": [
    {
     "name": "stdout",
     "output_type": "stream",
     "text": [
      "(4, 2)\n",
      "10\n",
      "Maximized Threshold 0.10101010101010102\n",
      "Maximized Profits 1.3468982581329256\n"
     ]
    }
   ],
   "source": [
    "print(rat[4])\n",
    "print(np.array(pfs[4]).argmax())\n",
    "print('Maximized Threshold', x[10])\n",
    "print('Maximized Profits', pfs[4][10])"
   ]
  },
  {
   "cell_type": "markdown",
   "metadata": {},
   "source": [
    "# Save Ensemble"
   ]
  },
  {
   "cell_type": "code",
   "execution_count": null,
   "metadata": {},
   "outputs": [],
   "source": [
    "import pickle\n",
    "import datetime\n",
    "\n",
    "timestamp = datetime.datetime.now().strftime('%y%m%d%H%M')\n",
    "filename = f\"models/nm_scaled_ensemble"
   ]
  },
  {
   "cell_type": "code",
   "execution_count": 11,
   "metadata": {},
   "outputs": [
    {
     "name": "stdout",
     "output_type": "stream",
     "text": [
      "Saving model to models/nm_scaled_ensemble_lrc_2108171313.pkl...\n"
     ]
    }
   ],
   "source": [
    "import pickle\n",
    "import datetime\n",
    "\n",
    "timestamp = datetime.datetime.now().strftime('%y%m%d%H%M')\n",
    "filename = f\"models/nm_scaled_ensemble_lrc_{timestamp}.pkl\"\n",
    "print(f'Saving model to {filename}...')\n",
    "pickle.dump(models, open(filename, 'wb'))"
   ]
  }
 ],
 "metadata": {
  "kernelspec": {
   "display_name": "Python 3",
   "language": "python",
   "name": "python3"
  },
  "language_info": {
   "codemirror_mode": {
    "name": "ipython",
    "version": 3
   },
   "file_extension": ".py",
   "mimetype": "text/x-python",
   "name": "python",
   "nbconvert_exporter": "python",
   "pygments_lexer": "ipython3",
   "version": "3.8.5"
  }
 },
 "nbformat": 4,
 "nbformat_minor": 4
}
