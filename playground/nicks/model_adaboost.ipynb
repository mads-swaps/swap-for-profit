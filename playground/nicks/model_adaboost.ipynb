{
 "cells": [
  {
   "cell_type": "code",
   "execution_count": 1,
   "metadata": {},
   "outputs": [],
   "source": [
    "import pandas as pd\n",
    "import numpy as np\n",
    "from sklearn.ensemble import AdaBoostClassifier\n",
    "from sklearn.metrics import f1_score, precision_score, recall_score\n",
    "import matplotlib.pyplot as plt"
   ]
  },
  {
   "cell_type": "code",
   "execution_count": 2,
   "metadata": {},
   "outputs": [],
   "source": [
    "data_file_suffix = '20210801f'\n",
    "clf = AdaBoostClassifier(random_state=42)\n",
    "model_file_prefix = 'nm_ab_ethbtc_'"
   ]
  },
  {
   "cell_type": "code",
   "execution_count": 3,
   "metadata": {},
   "outputs": [],
   "source": [
    "def train_test_split(X, y, train_idx=None, test_idx=None):\n",
    "    X_train = X.loc[train_idx]\n",
    "    y_train = y.loc[train_idx]\n",
    "    X_test = X.loc[test_idx]\n",
    "    y_test = y.loc[test_idx]\n",
    "    return (X_train, y_train, X_test, y_test)\n",
    "\n",
    "\n",
    "def load_split_data(suffix=None, split=False, window=14):\n",
    "    if suffix==None:\n",
    "        suffix='DEFAULT'\n",
    "        \n",
    "    X = pd.read_pickle(f'data/X_{suffix}.pkl')\n",
    "    y = pd.read_pickle(f'data/y_{suffix}.pkl').buy\n",
    "    \n",
    "    # Drop NA rows:\n",
    "    na_rows = X.isna().any(axis=1)\n",
    "    X = X[~na_rows]\n",
    "    y = y[~na_rows]\n",
    "        \n",
    "    if split:\n",
    "        X_train, y_train, X_test, y_test = train_test_split(X, y, X.loc['2018':'2020'].index, X.loc['2021':].index)\n",
    "        return X_train, y_train, X_test, y_test\n",
    "    else:\n",
    "        return X, y\n",
    "    \n",
    "X_train, y_train, X_test, y_test = load_split_data(suffix=data_file_suffix, split=True)\n",
    "#X_train, y_train = load_split_data(suffix=data_file_suffix, split=False)"
   ]
  },
  {
   "cell_type": "markdown",
   "metadata": {},
   "source": [
    "# Remove all past columns"
   ]
  },
  {
   "cell_type": "code",
   "execution_count": 4,
   "metadata": {},
   "outputs": [
    {
     "name": "stdout",
     "output_type": "stream",
     "text": [
      "['open', 'high', 'low', 'close', 'dow', 'tod', 'number_of_trades', 'volume', 'quote_asset_volume', 'taker_buy_base_asset_volume', 'taker_buy_quote_asset_volume', 'ma14', 'ma30', 'ma90', 'sup14', 'sup30', 'sup90', 'res14', 'res30', 'res90', 'atr', 'atr_diff', 'atr_ma14', 'rsi', 'rsi_diff', 'rsi_ma14', 'trend_up', 'trend_up3', 'trend_up14', 'trend_up30', 'cs_ss', 'cs_ssr', 'cs_hm', 'cs_hmr', 'cs_brh', 'cs_buh', 'cs_ebu', 'cs_ebr']\n"
     ]
    }
   ],
   "source": [
    "import re\n",
    "\n",
    "# Drop columns with lookbacks equal to or greater than X\n",
    "x = 1\n",
    "\n",
    "columns = list(X_train.columns)\n",
    "for c in X_train.columns:\n",
    "    if m := re.match(r'^.*_([0-9]+)$', c):\n",
    "        if int(m[1]) >= x:\n",
    "            columns.remove(c)\n",
    "print(columns)"
   ]
  },
  {
   "cell_type": "code",
   "execution_count": 5,
   "metadata": {},
   "outputs": [
    {
     "name": "stdout",
     "output_type": "stream",
     "text": [
      "Wall time: 10.8 s\n",
      "Precision = 0.0\n",
      "Recall = 0.0\n",
      "F1-Score = 0.0\n"
     ]
    },
    {
     "name": "stderr",
     "output_type": "stream",
     "text": [
      "C:\\ProgramData\\Anaconda3\\envs\\caps\\lib\\site-packages\\sklearn\\metrics\\_classification.py:1245: UndefinedMetricWarning: Precision is ill-defined and being set to 0.0 due to no predicted samples. Use `zero_division` parameter to control this behavior.\n",
      "  _warn_prf(average, modifier, msg_start, len(result))\n"
     ]
    }
   ],
   "source": [
    "%time clf = clf.fit(X_train[columns], y_train)\n",
    "pred=clf.predict(X_test[columns])\n",
    "\n",
    "print(f'Precision = {round(precision_score(y_test, pred),4)}')\n",
    "print(f'Recall = {round(recall_score(y_test, pred),4)}')\n",
    "print(f'F1-Score = {round(f1_score(y_test, pred),4)}')"
   ]
  },
  {
   "cell_type": "markdown",
   "metadata": {},
   "source": [
    "# Keep only 4 past columns"
   ]
  },
  {
   "cell_type": "code",
   "execution_count": 6,
   "metadata": {},
   "outputs": [
    {
     "name": "stdout",
     "output_type": "stream",
     "text": [
      "['open', 'high', 'low', 'close', 'dow', 'tod', 'number_of_trades', 'volume', 'quote_asset_volume', 'taker_buy_base_asset_volume', 'taker_buy_quote_asset_volume', 'ma14', 'ma30', 'ma90', 'sup14', 'sup30', 'sup90', 'res14', 'res30', 'res90', 'atr', 'atr_diff', 'atr_ma14', 'rsi', 'rsi_diff', 'rsi_ma14', 'trend_up', 'trend_up3', 'trend_up14', 'trend_up30', 'cs_ss', 'cs_ssr', 'cs_hm', 'cs_hmr', 'cs_brh', 'cs_buh', 'cs_ebu', 'cs_ebr', 'open_1', 'open_2', 'open_3', 'high_1', 'high_2', 'high_3', 'low_1', 'low_2', 'low_3', 'close_1', 'close_2', 'close_3', 'number_of_trades_1', 'number_of_trades_2', 'number_of_trades_3', 'volume_1', 'volume_2', 'volume_3', 'quote_asset_volume_1', 'quote_asset_volume_2', 'quote_asset_volume_3', 'taker_buy_base_asset_volume_1', 'taker_buy_base_asset_volume_2', 'taker_buy_base_asset_volume_3', 'taker_buy_quote_asset_volume_1', 'taker_buy_quote_asset_volume_2', 'taker_buy_quote_asset_volume_3', 'ma14_1', 'ma14_2', 'ma14_3', 'ma30_1', 'ma30_2', 'ma30_3', 'ma90_1', 'ma90_2', 'ma90_3', 'sup14_1', 'sup14_2', 'sup14_3', 'sup30_1', 'sup30_2', 'sup30_3', 'sup90_1', 'sup90_2', 'sup90_3', 'res14_1', 'res14_2', 'res14_3', 'res30_1', 'res30_2', 'res30_3', 'res90_1', 'res90_2', 'res90_3', 'atr_1', 'atr_2', 'atr_3', 'atr_diff_1', 'atr_diff_2', 'atr_diff_3', 'atr_ma14_1', 'atr_ma14_2', 'atr_ma14_3', 'rsi_1', 'rsi_2', 'rsi_3', 'rsi_diff_1', 'rsi_diff_2', 'rsi_diff_3', 'rsi_ma14_1', 'rsi_ma14_2', 'rsi_ma14_3', 'trend_up_1', 'trend_up_2', 'trend_up_3', 'trend_up3_1', 'trend_up3_2', 'trend_up3_3', 'trend_up14_1', 'trend_up14_2', 'trend_up14_3', 'trend_up30_1', 'trend_up30_2', 'trend_up30_3', 'cs_ss_1', 'cs_ss_2', 'cs_ss_3', 'cs_ssr_1', 'cs_ssr_2', 'cs_ssr_3', 'cs_hm_1', 'cs_hm_2', 'cs_hm_3', 'cs_hmr_1', 'cs_hmr_2', 'cs_hmr_3', 'cs_brh_1', 'cs_brh_2', 'cs_brh_3', 'cs_buh_1', 'cs_buh_2', 'cs_buh_3', 'cs_ebu_1', 'cs_ebu_2', 'cs_ebu_3', 'cs_ebr_1', 'cs_ebr_2', 'cs_ebr_3']\n"
     ]
    }
   ],
   "source": [
    "import re\n",
    "\n",
    "# Drop columns with lookbacks equal to or greater than X\n",
    "x = 4\n",
    "\n",
    "columns = list(X_train.columns)\n",
    "for c in X_train.columns:\n",
    "    if m := re.match(r'^.*_([0-9]+)$', c):\n",
    "        if int(m[1]) >= x:\n",
    "            columns.remove(c)\n",
    "print(columns)"
   ]
  },
  {
   "cell_type": "code",
   "execution_count": 7,
   "metadata": {},
   "outputs": [
    {
     "name": "stdout",
     "output_type": "stream",
     "text": [
      "Wall time: 40 s\n",
      "Precision = 0.0\n",
      "Recall = 0.0\n",
      "F1-Score = 0.0\n"
     ]
    },
    {
     "name": "stderr",
     "output_type": "stream",
     "text": [
      "C:\\ProgramData\\Anaconda3\\envs\\caps\\lib\\site-packages\\sklearn\\metrics\\_classification.py:1245: UndefinedMetricWarning: Precision is ill-defined and being set to 0.0 due to no predicted samples. Use `zero_division` parameter to control this behavior.\n",
      "  _warn_prf(average, modifier, msg_start, len(result))\n"
     ]
    }
   ],
   "source": [
    "%time clf = clf.fit(X_train[columns], y_train)\n",
    "pred=clf.predict(X_test[columns])\n",
    "\n",
    "print(f'Precision = {round(precision_score(y_test, pred),4)}')\n",
    "print(f'Recall = {round(recall_score(y_test, pred),4)}')\n",
    "print(f'F1-Score = {round(f1_score(y_test, pred),4)}')"
   ]
  },
  {
   "cell_type": "markdown",
   "metadata": {},
   "source": [
    "# Keep All columns"
   ]
  },
  {
   "cell_type": "code",
   "execution_count": 8,
   "metadata": {},
   "outputs": [],
   "source": [
    "columns = list(X_train.columns)"
   ]
  },
  {
   "cell_type": "code",
   "execution_count": 9,
   "metadata": {},
   "outputs": [
    {
     "name": "stdout",
     "output_type": "stream",
     "text": [
      "Wall time: 2min 27s\n",
      "Precision = 0.5263\n",
      "Recall = 0.0016\n",
      "F1-Score = 0.0031\n"
     ]
    }
   ],
   "source": [
    "%time clf = clf.fit(X_train, y_train)\n",
    "pred=clf.predict(X_test)\n",
    "\n",
    "print(f'Precision = {round(precision_score(y_test, pred),4)}')\n",
    "print(f'Recall = {round(recall_score(y_test, pred),4)}')\n",
    "print(f'F1-Score = {round(f1_score(y_test, pred),4)}')"
   ]
  },
  {
   "cell_type": "markdown",
   "metadata": {},
   "source": [
    "# Package Model"
   ]
  },
  {
   "cell_type": "code",
   "execution_count": 10,
   "metadata": {},
   "outputs": [
    {
     "name": "stdout",
     "output_type": "stream",
     "text": [
      "Number of Trades 19\n",
      "Percent Trades 0.0009488139825218477\n"
     ]
    }
   ],
   "source": [
    "print('Number of Trades', pred.sum())\n",
    "print('Percent Trades', pred.sum()/len(pred))"
   ]
  },
  {
   "cell_type": "code",
   "execution_count": 11,
   "metadata": {},
   "outputs": [
    {
     "name": "stdout",
     "output_type": "stream",
     "text": [
      "Pickle model file timestamp: 2108021552\n"
     ]
    }
   ],
   "source": [
    "import pickle\n",
    "import datetime\n",
    "timestamp = datetime.datetime.now().strftime('%y%m%d%H%M')\n",
    "print(f'Pickle model file timestamp: {timestamp}')"
   ]
  },
  {
   "cell_type": "code",
   "execution_count": 12,
   "metadata": {},
   "outputs": [
    {
     "name": "stdout",
     "output_type": "stream",
     "text": [
      "Saved models/nm_ab_ethbtc_2108021552.pkl\n"
     ]
    }
   ],
   "source": [
    "filename = f'models/{model_file_prefix}{timestamp}.pkl'\n",
    "pickle.dump(clf, open(filename, 'wb'))\n",
    "print('Saved', filename)"
   ]
  },
  {
   "cell_type": "code",
   "execution_count": 15,
   "metadata": {
    "scrolled": true
   },
   "outputs": [
    {
     "name": "stdout",
     "output_type": "stream",
     "text": [
      "['open', 'high', 'low', 'close', 'dow', 'tod', 'number_of_trades', 'volume', 'quote_asset_volume', 'taker_buy_base_asset_volume', 'taker_buy_quote_asset_volume', 'ma14', 'ma30', 'ma90', 'sup14', 'sup30', 'sup90', 'res14', 'res30', 'res90', 'atr', 'atr_diff', 'atr_ma14', 'rsi', 'rsi_diff', 'rsi_ma14', 'trend_up', 'trend_up3', 'trend_up14', 'trend_up30', 'cs_ss', 'cs_ssr', 'cs_hm', 'cs_hmr', 'cs_brh', 'cs_buh', 'cs_ebu', 'cs_ebr', 'open_1', 'open_2', 'open_3', 'high_1', 'high_2', 'high_3', 'low_1', 'low_2', 'low_3', 'close_1', 'close_2', 'close_3', 'number_of_trades_1', 'number_of_trades_2', 'number_of_trades_3', 'volume_1', 'volume_2', 'volume_3', 'quote_asset_volume_1', 'quote_asset_volume_2', 'quote_asset_volume_3', 'taker_buy_base_asset_volume_1', 'taker_buy_base_asset_volume_2', 'taker_buy_base_asset_volume_3', 'taker_buy_quote_asset_volume_1', 'taker_buy_quote_asset_volume_2', 'taker_buy_quote_asset_volume_3', 'ma14_1', 'ma14_2', 'ma14_3', 'ma30_1', 'ma30_2', 'ma30_3', 'ma90_1', 'ma90_2', 'ma90_3', 'sup14_1', 'sup14_2', 'sup14_3', 'sup30_1', 'sup30_2', 'sup30_3', 'sup90_1', 'sup90_2', 'sup90_3', 'res14_1', 'res14_2', 'res14_3', 'res30_1', 'res30_2', 'res30_3', 'res90_1', 'res90_2', 'res90_3', 'atr_1', 'atr_2', 'atr_3', 'atr_diff_1', 'atr_diff_2', 'atr_diff_3', 'atr_ma14_1', 'atr_ma14_2', 'atr_ma14_3', 'rsi_1', 'rsi_2', 'rsi_3', 'rsi_diff_1', 'rsi_diff_2', 'rsi_diff_3', 'rsi_ma14_1', 'rsi_ma14_2', 'rsi_ma14_3', 'trend_up_1', 'trend_up_2', 'trend_up_3', 'trend_up3_1', 'trend_up3_2', 'trend_up3_3', 'trend_up14_1', 'trend_up14_2', 'trend_up14_3', 'trend_up30_1', 'trend_up30_2', 'trend_up30_3', 'cs_ss_1', 'cs_ss_2', 'cs_ss_3', 'cs_ssr_1', 'cs_ssr_2', 'cs_ssr_3', 'cs_hm_1', 'cs_hm_2', 'cs_hm_3', 'cs_hmr_1', 'cs_hmr_2', 'cs_hmr_3', 'cs_brh_1', 'cs_brh_2', 'cs_brh_3', 'cs_buh_1', 'cs_buh_2', 'cs_buh_3', 'cs_ebu_1', 'cs_ebu_2', 'cs_ebu_3', 'cs_ebr_1', 'cs_ebr_2', 'cs_ebr_3']\n"
     ]
    }
   ],
   "source": [
    "print(columns)"
   ]
  },
  {
   "cell_type": "markdown",
   "metadata": {},
   "source": [
    "# Analyze Model"
   ]
  },
  {
   "cell_type": "code",
   "execution_count": 14,
   "metadata": {},
   "outputs": [
    {
     "data": {
      "text/html": [
       "<div>\n",
       "<style scoped>\n",
       "    .dataframe tbody tr th:only-of-type {\n",
       "        vertical-align: middle;\n",
       "    }\n",
       "\n",
       "    .dataframe tbody tr th {\n",
       "        vertical-align: top;\n",
       "    }\n",
       "\n",
       "    .dataframe thead th {\n",
       "        text-align: right;\n",
       "    }\n",
       "</style>\n",
       "<table border=\"1\" class=\"dataframe\">\n",
       "  <thead>\n",
       "    <tr style=\"text-align: right;\">\n",
       "      <th></th>\n",
       "      <th>buy</th>\n",
       "      <th>pred</th>\n",
       "    </tr>\n",
       "    <tr>\n",
       "      <th>open_time</th>\n",
       "      <th></th>\n",
       "      <th></th>\n",
       "    </tr>\n",
       "  </thead>\n",
       "  <tbody>\n",
       "    <tr>\n",
       "      <th>2021-06-25 01:15:00</th>\n",
       "      <td>1</td>\n",
       "      <td>1</td>\n",
       "    </tr>\n",
       "    <tr>\n",
       "      <th>2021-06-25 14:00:00</th>\n",
       "      <td>1</td>\n",
       "      <td>1</td>\n",
       "    </tr>\n",
       "  </tbody>\n",
       "</table>\n",
       "</div>"
      ],
      "text/plain": [
       "                     buy  pred\n",
       "open_time                     \n",
       "2021-06-25 01:15:00    1     1\n",
       "2021-06-25 14:00:00    1     1"
      ]
     },
     "execution_count": 14,
     "metadata": {},
     "output_type": "execute_result"
    }
   ],
   "source": [
    "date = '2021-06-25'\n",
    "df = pd.DataFrame(y_test)\n",
    "df['pred'] = pred\n",
    "df[df.pred==1].loc[date]"
   ]
  }
 ],
 "metadata": {
  "kernelspec": {
   "display_name": "Python 3",
   "language": "python",
   "name": "python3"
  },
  "language_info": {
   "codemirror_mode": {
    "name": "ipython",
    "version": 3
   },
   "file_extension": ".py",
   "mimetype": "text/x-python",
   "name": "python",
   "nbconvert_exporter": "python",
   "pygments_lexer": "ipython3",
   "version": "3.8.5"
  }
 },
 "nbformat": 4,
 "nbformat_minor": 4
}
