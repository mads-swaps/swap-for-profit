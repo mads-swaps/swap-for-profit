{
 "cells": [
  {
   "cell_type": "code",
   "execution_count": 1,
   "metadata": {},
   "outputs": [],
   "source": [
    "import pandas as pd\n",
    "import numpy as np\n",
    "from sklearn.naive_bayes import GaussianNB\n",
    "from sklearn.metrics import f1_score, precision_score, recall_score\n",
    "import matplotlib.pyplot as plt"
   ]
  },
  {
   "cell_type": "code",
   "execution_count": 2,
   "metadata": {},
   "outputs": [],
   "source": [
    "data_file_suffix = '20210801f'\n",
    "clf = GaussianNB()\n",
    "model_file_prefix = 'nm_gnb_ethbtc_'"
   ]
  },
  {
   "cell_type": "code",
   "execution_count": 3,
   "metadata": {},
   "outputs": [],
   "source": [
    "def train_test_split(X, y, train_idx=None, test_idx=None):\n",
    "    X_train = X.loc[train_idx]\n",
    "    y_train = y.loc[train_idx]\n",
    "    X_test = X.loc[test_idx]\n",
    "    y_test = y.loc[test_idx]\n",
    "    return (X_train, y_train, X_test, y_test)\n",
    "\n",
    "\n",
    "def load_split_data(suffix=None, split=False, window=14):\n",
    "    if suffix==None:\n",
    "        suffix='DEFAULT'\n",
    "        \n",
    "    X = pd.read_pickle(f'data/X_{suffix}.pkl')\n",
    "    y = pd.read_pickle(f'data/y_{suffix}.pkl').buy\n",
    "    \n",
    "    # Drop NA rows:\n",
    "    na_rows = X.isna().any(axis=1)\n",
    "    X = X[~na_rows]\n",
    "    y = y[~na_rows]\n",
    "        \n",
    "    if split:\n",
    "        X_train, y_train, X_test, y_test = train_test_split(X, y, X.loc['2018':'2020'].index, X.loc['2021':].index)\n",
    "        return X_train, y_train, X_test, y_test\n",
    "    else:\n",
    "        return X, y\n",
    "    \n",
    "X_train, y_train, X_test, y_test = load_split_data(suffix=data_file_suffix, split=True)\n",
    "#X_train, y_train = load_split_data(suffix=data_file_suffix, split=False)"
   ]
  },
  {
   "cell_type": "markdown",
   "metadata": {},
   "source": [
    "# Remove all past columns"
   ]
  },
  {
   "cell_type": "code",
   "execution_count": 4,
   "metadata": {},
   "outputs": [
    {
     "name": "stdout",
     "output_type": "stream",
     "text": [
      "['open', 'high', 'low', 'close', 'dow', 'tod', 'number_of_trades', 'volume', 'quote_asset_volume', 'taker_buy_base_asset_volume', 'taker_buy_quote_asset_volume', 'ma14', 'ma30', 'ma90', 'sup14', 'sup30', 'sup90', 'res14', 'res30', 'res90', 'atr', 'atr_diff', 'atr_ma14', 'rsi', 'rsi_diff', 'rsi_ma14', 'trend_up', 'trend_up3', 'trend_up14', 'trend_up30', 'cs_ss', 'cs_ssr', 'cs_hm', 'cs_hmr', 'cs_brh', 'cs_buh', 'cs_ebu', 'cs_ebr']\n"
     ]
    }
   ],
   "source": [
    "import re\n",
    "\n",
    "# Drop columns with lookbacks equal to or greater than X\n",
    "x = 1\n",
    "\n",
    "columns = list(X_train.columns)\n",
    "for c in X_train.columns:\n",
    "    if m := re.match(r'^.*_([0-9]+)$', c):\n",
    "        if int(m[1]) >= x:\n",
    "            columns.remove(c)\n",
    "print(columns)"
   ]
  },
  {
   "cell_type": "code",
   "execution_count": 5,
   "metadata": {},
   "outputs": [
    {
     "name": "stdout",
     "output_type": "stream",
     "text": [
      "Precision = 0.3077\n",
      "Recall = 0.0113\n",
      "F1-Score = 0.0217\n"
     ]
    }
   ],
   "source": [
    "clf = clf.fit(X_train[columns], y_train)\n",
    "pred=clf.predict(X_test[columns])\n",
    "\n",
    "print(f'Precision = {round(precision_score(y_test, pred),4)}')\n",
    "print(f'Recall = {round(recall_score(y_test, pred),4)}')\n",
    "print(f'F1-Score = {round(f1_score(y_test, pred),4)}')"
   ]
  },
  {
   "cell_type": "markdown",
   "metadata": {},
   "source": [
    "# Keep only 4 past columns"
   ]
  },
  {
   "cell_type": "code",
   "execution_count": 6,
   "metadata": {},
   "outputs": [
    {
     "name": "stdout",
     "output_type": "stream",
     "text": [
      "['open', 'high', 'low', 'close', 'dow', 'tod', 'number_of_trades', 'volume', 'quote_asset_volume', 'taker_buy_base_asset_volume', 'taker_buy_quote_asset_volume', 'ma14', 'ma30', 'ma90', 'sup14', 'sup30', 'sup90', 'res14', 'res30', 'res90', 'atr', 'atr_diff', 'atr_ma14', 'rsi', 'rsi_diff', 'rsi_ma14', 'trend_up', 'trend_up3', 'trend_up14', 'trend_up30', 'cs_ss', 'cs_ssr', 'cs_hm', 'cs_hmr', 'cs_brh', 'cs_buh', 'cs_ebu', 'cs_ebr', 'open_1', 'open_2', 'open_3', 'high_1', 'high_2', 'high_3', 'low_1', 'low_2', 'low_3', 'close_1', 'close_2', 'close_3', 'number_of_trades_1', 'number_of_trades_2', 'number_of_trades_3', 'volume_1', 'volume_2', 'volume_3', 'quote_asset_volume_1', 'quote_asset_volume_2', 'quote_asset_volume_3', 'taker_buy_base_asset_volume_1', 'taker_buy_base_asset_volume_2', 'taker_buy_base_asset_volume_3', 'taker_buy_quote_asset_volume_1', 'taker_buy_quote_asset_volume_2', 'taker_buy_quote_asset_volume_3', 'ma14_1', 'ma14_2', 'ma14_3', 'ma30_1', 'ma30_2', 'ma30_3', 'ma90_1', 'ma90_2', 'ma90_3', 'sup14_1', 'sup14_2', 'sup14_3', 'sup30_1', 'sup30_2', 'sup30_3', 'sup90_1', 'sup90_2', 'sup90_3', 'res14_1', 'res14_2', 'res14_3', 'res30_1', 'res30_2', 'res30_3', 'res90_1', 'res90_2', 'res90_3', 'atr_1', 'atr_2', 'atr_3', 'atr_diff_1', 'atr_diff_2', 'atr_diff_3', 'atr_ma14_1', 'atr_ma14_2', 'atr_ma14_3', 'rsi_1', 'rsi_2', 'rsi_3', 'rsi_diff_1', 'rsi_diff_2', 'rsi_diff_3', 'rsi_ma14_1', 'rsi_ma14_2', 'rsi_ma14_3', 'trend_up_1', 'trend_up_2', 'trend_up_3', 'trend_up3_1', 'trend_up3_2', 'trend_up3_3', 'trend_up14_1', 'trend_up14_2', 'trend_up14_3', 'trend_up30_1', 'trend_up30_2', 'trend_up30_3', 'cs_ss_1', 'cs_ss_2', 'cs_ss_3', 'cs_ssr_1', 'cs_ssr_2', 'cs_ssr_3', 'cs_hm_1', 'cs_hm_2', 'cs_hm_3', 'cs_hmr_1', 'cs_hmr_2', 'cs_hmr_3', 'cs_brh_1', 'cs_brh_2', 'cs_brh_3', 'cs_buh_1', 'cs_buh_2', 'cs_buh_3', 'cs_ebu_1', 'cs_ebu_2', 'cs_ebu_3', 'cs_ebr_1', 'cs_ebr_2', 'cs_ebr_3']\n"
     ]
    }
   ],
   "source": [
    "import re\n",
    "\n",
    "# Drop columns with lookbacks equal to or greater than X\n",
    "x = 4\n",
    "\n",
    "columns = list(X_train.columns)\n",
    "for c in X_train.columns:\n",
    "    if m := re.match(r'^.*_([0-9]+)$', c):\n",
    "        if int(m[1]) >= x:\n",
    "            columns.remove(c)\n",
    "print(columns)"
   ]
  },
  {
   "cell_type": "code",
   "execution_count": 7,
   "metadata": {},
   "outputs": [
    {
     "name": "stdout",
     "output_type": "stream",
     "text": [
      "Precision = 0.3565\n",
      "Recall = 0.3866\n",
      "F1-Score = 0.3709\n"
     ]
    }
   ],
   "source": [
    "clf = clf.fit(X_train[columns], y_train)\n",
    "pred=clf.predict(X_test[columns])\n",
    "\n",
    "print(f'Precision = {round(precision_score(y_test, pred),4)}')\n",
    "print(f'Recall = {round(recall_score(y_test, pred),4)}')\n",
    "print(f'F1-Score = {round(f1_score(y_test, pred),4)}')"
   ]
  },
  {
   "cell_type": "markdown",
   "metadata": {},
   "source": [
    "# Keep All columns"
   ]
  },
  {
   "cell_type": "code",
   "execution_count": 8,
   "metadata": {},
   "outputs": [],
   "source": [
    "columns = list(X_train.columns)"
   ]
  },
  {
   "cell_type": "code",
   "execution_count": 9,
   "metadata": {},
   "outputs": [
    {
     "name": "stdout",
     "output_type": "stream",
     "text": [
      "Precision = 0.3591\n",
      "Recall = 0.444\n",
      "F1-Score = 0.397\n"
     ]
    }
   ],
   "source": [
    "clf = clf.fit(X_train, y_train)\n",
    "pred=clf.predict(X_test)\n",
    "\n",
    "print(f'Precision = {round(precision_score(y_test, pred),4)}')\n",
    "print(f'Recall = {round(recall_score(y_test, pred),4)}')\n",
    "print(f'F1-Score = {round(f1_score(y_test, pred),4)}')"
   ]
  },
  {
   "cell_type": "markdown",
   "metadata": {},
   "source": [
    "# Package Model"
   ]
  },
  {
   "cell_type": "code",
   "execution_count": 10,
   "metadata": {},
   "outputs": [
    {
     "name": "stdout",
     "output_type": "stream",
     "text": [
      "Number of Trades 7904\n",
      "Percent Trades 0.39470661672908863\n"
     ]
    }
   ],
   "source": [
    "print('Number of Trades', pred.sum())\n",
    "print('Percent Trades', pred.sum()/len(pred))"
   ]
  },
  {
   "cell_type": "code",
   "execution_count": 11,
   "metadata": {},
   "outputs": [
    {
     "name": "stdout",
     "output_type": "stream",
     "text": [
      "Pickle model file timestamp: 2108021537\n"
     ]
    }
   ],
   "source": [
    "import pickle\n",
    "import datetime\n",
    "timestamp = datetime.datetime.now().strftime('%y%m%d%H%M')\n",
    "print(f'Pickle model file timestamp: {timestamp}')"
   ]
  },
  {
   "cell_type": "code",
   "execution_count": 12,
   "metadata": {},
   "outputs": [
    {
     "name": "stdout",
     "output_type": "stream",
     "text": [
      "Saved models/nm_gnb_ethbtc_2108021537.pkl\n"
     ]
    }
   ],
   "source": [
    "filename = f'models/{model_file_prefix}{timestamp}.pkl'\n",
    "pickle.dump(clf, open(filename, 'wb'))\n",
    "print('Saved', filename)"
   ]
  },
  {
   "cell_type": "code",
   "execution_count": 13,
   "metadata": {
    "scrolled": false
   },
   "outputs": [
    {
     "name": "stdout",
     "output_type": "stream",
     "text": [
      "['open', 'high', 'low', 'close', 'dow', 'tod', 'number_of_trades', 'volume', 'quote_asset_volume', 'taker_buy_base_asset_volume', 'taker_buy_quote_asset_volume', 'ma14', 'ma30', 'ma90', 'sup14', 'sup30', 'sup90', 'res14', 'res30', 'res90', 'atr', 'atr_diff', 'atr_ma14', 'rsi', 'rsi_diff', 'rsi_ma14', 'trend_up', 'trend_up3', 'trend_up14', 'trend_up30', 'cs_ss', 'cs_ssr', 'cs_hm', 'cs_hmr', 'cs_brh', 'cs_buh', 'cs_ebu', 'cs_ebr', 'open_1', 'open_2', 'open_3', 'open_4', 'open_5', 'open_6', 'open_7', 'open_8', 'open_9', 'open_10', 'open_11', 'open_12', 'open_13', 'open_14', 'high_1', 'high_2', 'high_3', 'high_4', 'high_5', 'high_6', 'high_7', 'high_8', 'high_9', 'high_10', 'high_11', 'high_12', 'high_13', 'high_14', 'low_1', 'low_2', 'low_3', 'low_4', 'low_5', 'low_6', 'low_7', 'low_8', 'low_9', 'low_10', 'low_11', 'low_12', 'low_13', 'low_14', 'close_1', 'close_2', 'close_3', 'close_4', 'close_5', 'close_6', 'close_7', 'close_8', 'close_9', 'close_10', 'close_11', 'close_12', 'close_13', 'close_14', 'number_of_trades_1', 'number_of_trades_2', 'number_of_trades_3', 'number_of_trades_4', 'number_of_trades_5', 'number_of_trades_6', 'number_of_trades_7', 'number_of_trades_8', 'number_of_trades_9', 'number_of_trades_10', 'number_of_trades_11', 'number_of_trades_12', 'number_of_trades_13', 'number_of_trades_14', 'volume_1', 'volume_2', 'volume_3', 'volume_4', 'volume_5', 'volume_6', 'volume_7', 'volume_8', 'volume_9', 'volume_10', 'volume_11', 'volume_12', 'volume_13', 'volume_14', 'quote_asset_volume_1', 'quote_asset_volume_2', 'quote_asset_volume_3', 'quote_asset_volume_4', 'quote_asset_volume_5', 'quote_asset_volume_6', 'quote_asset_volume_7', 'quote_asset_volume_8', 'quote_asset_volume_9', 'quote_asset_volume_10', 'quote_asset_volume_11', 'quote_asset_volume_12', 'quote_asset_volume_13', 'quote_asset_volume_14', 'taker_buy_base_asset_volume_1', 'taker_buy_base_asset_volume_2', 'taker_buy_base_asset_volume_3', 'taker_buy_base_asset_volume_4', 'taker_buy_base_asset_volume_5', 'taker_buy_base_asset_volume_6', 'taker_buy_base_asset_volume_7', 'taker_buy_base_asset_volume_8', 'taker_buy_base_asset_volume_9', 'taker_buy_base_asset_volume_10', 'taker_buy_base_asset_volume_11', 'taker_buy_base_asset_volume_12', 'taker_buy_base_asset_volume_13', 'taker_buy_base_asset_volume_14', 'taker_buy_quote_asset_volume_1', 'taker_buy_quote_asset_volume_2', 'taker_buy_quote_asset_volume_3', 'taker_buy_quote_asset_volume_4', 'taker_buy_quote_asset_volume_5', 'taker_buy_quote_asset_volume_6', 'taker_buy_quote_asset_volume_7', 'taker_buy_quote_asset_volume_8', 'taker_buy_quote_asset_volume_9', 'taker_buy_quote_asset_volume_10', 'taker_buy_quote_asset_volume_11', 'taker_buy_quote_asset_volume_12', 'taker_buy_quote_asset_volume_13', 'taker_buy_quote_asset_volume_14', 'ma14_1', 'ma14_2', 'ma14_3', 'ma14_4', 'ma14_5', 'ma14_6', 'ma14_7', 'ma14_8', 'ma14_9', 'ma14_10', 'ma14_11', 'ma14_12', 'ma14_13', 'ma14_14', 'ma30_1', 'ma30_2', 'ma30_3', 'ma30_4', 'ma30_5', 'ma30_6', 'ma30_7', 'ma30_8', 'ma30_9', 'ma30_10', 'ma30_11', 'ma30_12', 'ma30_13', 'ma30_14', 'ma90_1', 'ma90_2', 'ma90_3', 'ma90_4', 'ma90_5', 'ma90_6', 'ma90_7', 'ma90_8', 'ma90_9', 'ma90_10', 'ma90_11', 'ma90_12', 'ma90_13', 'ma90_14', 'sup14_1', 'sup14_2', 'sup14_3', 'sup14_4', 'sup14_5', 'sup14_6', 'sup14_7', 'sup14_8', 'sup14_9', 'sup14_10', 'sup14_11', 'sup14_12', 'sup14_13', 'sup14_14', 'sup30_1', 'sup30_2', 'sup30_3', 'sup30_4', 'sup30_5', 'sup30_6', 'sup30_7', 'sup30_8', 'sup30_9', 'sup30_10', 'sup30_11', 'sup30_12', 'sup30_13', 'sup30_14', 'sup90_1', 'sup90_2', 'sup90_3', 'sup90_4', 'sup90_5', 'sup90_6', 'sup90_7', 'sup90_8', 'sup90_9', 'sup90_10', 'sup90_11', 'sup90_12', 'sup90_13', 'sup90_14', 'res14_1', 'res14_2', 'res14_3', 'res14_4', 'res14_5', 'res14_6', 'res14_7', 'res14_8', 'res14_9', 'res14_10', 'res14_11', 'res14_12', 'res14_13', 'res14_14', 'res30_1', 'res30_2', 'res30_3', 'res30_4', 'res30_5', 'res30_6', 'res30_7', 'res30_8', 'res30_9', 'res30_10', 'res30_11', 'res30_12', 'res30_13', 'res30_14', 'res90_1', 'res90_2', 'res90_3', 'res90_4', 'res90_5', 'res90_6', 'res90_7', 'res90_8', 'res90_9', 'res90_10', 'res90_11', 'res90_12', 'res90_13', 'res90_14', 'atr_1', 'atr_2', 'atr_3', 'atr_4', 'atr_5', 'atr_6', 'atr_7', 'atr_8', 'atr_9', 'atr_10', 'atr_11', 'atr_12', 'atr_13', 'atr_14', 'atr_diff_1', 'atr_diff_2', 'atr_diff_3', 'atr_diff_4', 'atr_diff_5', 'atr_diff_6', 'atr_diff_7', 'atr_diff_8', 'atr_diff_9', 'atr_diff_10', 'atr_diff_11', 'atr_diff_12', 'atr_diff_13', 'atr_diff_14', 'atr_ma14_1', 'atr_ma14_2', 'atr_ma14_3', 'atr_ma14_4', 'atr_ma14_5', 'atr_ma14_6', 'atr_ma14_7', 'atr_ma14_8', 'atr_ma14_9', 'atr_ma14_10', 'atr_ma14_11', 'atr_ma14_12', 'atr_ma14_13', 'atr_ma14_14', 'rsi_1', 'rsi_2', 'rsi_3', 'rsi_4', 'rsi_5', 'rsi_6', 'rsi_7', 'rsi_8', 'rsi_9', 'rsi_10', 'rsi_11', 'rsi_12', 'rsi_13', 'rsi_14', 'rsi_diff_1', 'rsi_diff_2', 'rsi_diff_3', 'rsi_diff_4', 'rsi_diff_5', 'rsi_diff_6', 'rsi_diff_7', 'rsi_diff_8', 'rsi_diff_9', 'rsi_diff_10', 'rsi_diff_11', 'rsi_diff_12', 'rsi_diff_13', 'rsi_diff_14', 'rsi_ma14_1', 'rsi_ma14_2', 'rsi_ma14_3', 'rsi_ma14_4', 'rsi_ma14_5', 'rsi_ma14_6', 'rsi_ma14_7', 'rsi_ma14_8', 'rsi_ma14_9', 'rsi_ma14_10', 'rsi_ma14_11', 'rsi_ma14_12', 'rsi_ma14_13', 'rsi_ma14_14', 'trend_up_1', 'trend_up_2', 'trend_up_3', 'trend_up_4', 'trend_up_5', 'trend_up_6', 'trend_up_7', 'trend_up_8', 'trend_up_9', 'trend_up_10', 'trend_up_11', 'trend_up_12', 'trend_up_13', 'trend_up_14', 'trend_up3_1', 'trend_up3_2', 'trend_up3_3', 'trend_up3_4', 'trend_up3_5', 'trend_up3_6', 'trend_up3_7', 'trend_up3_8', 'trend_up3_9', 'trend_up3_10', 'trend_up3_11', 'trend_up3_12', 'trend_up3_13', 'trend_up3_14', 'trend_up14_1', 'trend_up14_2', 'trend_up14_3', 'trend_up14_4', 'trend_up14_5', 'trend_up14_6', 'trend_up14_7', 'trend_up14_8', 'trend_up14_9', 'trend_up14_10', 'trend_up14_11', 'trend_up14_12', 'trend_up14_13', 'trend_up14_14', 'trend_up30_1', 'trend_up30_2', 'trend_up30_3', 'trend_up30_4', 'trend_up30_5', 'trend_up30_6', 'trend_up30_7', 'trend_up30_8', 'trend_up30_9', 'trend_up30_10', 'trend_up30_11', 'trend_up30_12', 'trend_up30_13', 'trend_up30_14', 'cs_ss_1', 'cs_ss_2', 'cs_ss_3', 'cs_ss_4', 'cs_ss_5', 'cs_ss_6', 'cs_ss_7', 'cs_ss_8', 'cs_ss_9', 'cs_ss_10', 'cs_ss_11', 'cs_ss_12', 'cs_ss_13', 'cs_ss_14', 'cs_ssr_1', 'cs_ssr_2', 'cs_ssr_3', 'cs_ssr_4', 'cs_ssr_5', 'cs_ssr_6', 'cs_ssr_7', 'cs_ssr_8', 'cs_ssr_9', 'cs_ssr_10', 'cs_ssr_11', 'cs_ssr_12', 'cs_ssr_13', 'cs_ssr_14', 'cs_hm_1', 'cs_hm_2', 'cs_hm_3', 'cs_hm_4', 'cs_hm_5', 'cs_hm_6', 'cs_hm_7', 'cs_hm_8', 'cs_hm_9', 'cs_hm_10', 'cs_hm_11', 'cs_hm_12', 'cs_hm_13', 'cs_hm_14', 'cs_hmr_1', 'cs_hmr_2', 'cs_hmr_3', 'cs_hmr_4', 'cs_hmr_5', 'cs_hmr_6', 'cs_hmr_7', 'cs_hmr_8', 'cs_hmr_9', 'cs_hmr_10', 'cs_hmr_11', 'cs_hmr_12', 'cs_hmr_13', 'cs_hmr_14', 'cs_brh_1', 'cs_brh_2', 'cs_brh_3', 'cs_brh_4', 'cs_brh_5', 'cs_brh_6', 'cs_brh_7', 'cs_brh_8', 'cs_brh_9', 'cs_brh_10', 'cs_brh_11', 'cs_brh_12', 'cs_brh_13', 'cs_brh_14', 'cs_buh_1', 'cs_buh_2', 'cs_buh_3', 'cs_buh_4', 'cs_buh_5', 'cs_buh_6', 'cs_buh_7', 'cs_buh_8', 'cs_buh_9', 'cs_buh_10', 'cs_buh_11', 'cs_buh_12', 'cs_buh_13', 'cs_buh_14', 'cs_ebu_1', 'cs_ebu_2', 'cs_ebu_3', 'cs_ebu_4', 'cs_ebu_5', 'cs_ebu_6', 'cs_ebu_7', 'cs_ebu_8', 'cs_ebu_9', 'cs_ebu_10', 'cs_ebu_11', 'cs_ebu_12', 'cs_ebu_13', 'cs_ebu_14', 'cs_ebr_1', 'cs_ebr_2', 'cs_ebr_3', 'cs_ebr_4', 'cs_ebr_5', 'cs_ebr_6', 'cs_ebr_7', 'cs_ebr_8', 'cs_ebr_9', 'cs_ebr_10', 'cs_ebr_11', 'cs_ebr_12', 'cs_ebr_13', 'cs_ebr_14']\n"
     ]
    }
   ],
   "source": [
    "print(columns)"
   ]
  },
  {
   "cell_type": "markdown",
   "metadata": {},
   "source": [
    "# Analyze Model"
   ]
  },
  {
   "cell_type": "code",
   "execution_count": 14,
   "metadata": {},
   "outputs": [
    {
     "data": {
      "text/html": [
       "<div>\n",
       "<style scoped>\n",
       "    .dataframe tbody tr th:only-of-type {\n",
       "        vertical-align: middle;\n",
       "    }\n",
       "\n",
       "    .dataframe tbody tr th {\n",
       "        vertical-align: top;\n",
       "    }\n",
       "\n",
       "    .dataframe thead th {\n",
       "        text-align: right;\n",
       "    }\n",
       "</style>\n",
       "<table border=\"1\" class=\"dataframe\">\n",
       "  <thead>\n",
       "    <tr style=\"text-align: right;\">\n",
       "      <th></th>\n",
       "      <th>buy</th>\n",
       "      <th>pred</th>\n",
       "    </tr>\n",
       "    <tr>\n",
       "      <th>open_time</th>\n",
       "      <th></th>\n",
       "      <th></th>\n",
       "    </tr>\n",
       "  </thead>\n",
       "  <tbody>\n",
       "    <tr>\n",
       "      <th>2021-06-28 01:15:00</th>\n",
       "      <td>0</td>\n",
       "      <td>1</td>\n",
       "    </tr>\n",
       "    <tr>\n",
       "      <th>2021-06-28 01:30:00</th>\n",
       "      <td>0</td>\n",
       "      <td>1</td>\n",
       "    </tr>\n",
       "    <tr>\n",
       "      <th>2021-06-28 01:45:00</th>\n",
       "      <td>0</td>\n",
       "      <td>1</td>\n",
       "    </tr>\n",
       "    <tr>\n",
       "      <th>2021-06-28 02:00:00</th>\n",
       "      <td>0</td>\n",
       "      <td>1</td>\n",
       "    </tr>\n",
       "    <tr>\n",
       "      <th>2021-06-28 02:30:00</th>\n",
       "      <td>0</td>\n",
       "      <td>1</td>\n",
       "    </tr>\n",
       "    <tr>\n",
       "      <th>2021-06-28 10:00:00</th>\n",
       "      <td>1</td>\n",
       "      <td>1</td>\n",
       "    </tr>\n",
       "    <tr>\n",
       "      <th>2021-06-28 10:30:00</th>\n",
       "      <td>0</td>\n",
       "      <td>1</td>\n",
       "    </tr>\n",
       "    <tr>\n",
       "      <th>2021-06-28 10:45:00</th>\n",
       "      <td>0</td>\n",
       "      <td>1</td>\n",
       "    </tr>\n",
       "    <tr>\n",
       "      <th>2021-06-28 11:00:00</th>\n",
       "      <td>0</td>\n",
       "      <td>1</td>\n",
       "    </tr>\n",
       "    <tr>\n",
       "      <th>2021-06-28 11:15:00</th>\n",
       "      <td>0</td>\n",
       "      <td>1</td>\n",
       "    </tr>\n",
       "    <tr>\n",
       "      <th>2021-06-28 11:30:00</th>\n",
       "      <td>0</td>\n",
       "      <td>1</td>\n",
       "    </tr>\n",
       "    <tr>\n",
       "      <th>2021-06-28 11:45:00</th>\n",
       "      <td>0</td>\n",
       "      <td>1</td>\n",
       "    </tr>\n",
       "    <tr>\n",
       "      <th>2021-06-28 12:00:00</th>\n",
       "      <td>0</td>\n",
       "      <td>1</td>\n",
       "    </tr>\n",
       "    <tr>\n",
       "      <th>2021-06-28 12:15:00</th>\n",
       "      <td>0</td>\n",
       "      <td>1</td>\n",
       "    </tr>\n",
       "    <tr>\n",
       "      <th>2021-06-28 12:30:00</th>\n",
       "      <td>0</td>\n",
       "      <td>1</td>\n",
       "    </tr>\n",
       "    <tr>\n",
       "      <th>2021-06-28 12:45:00</th>\n",
       "      <td>0</td>\n",
       "      <td>1</td>\n",
       "    </tr>\n",
       "    <tr>\n",
       "      <th>2021-06-28 13:00:00</th>\n",
       "      <td>0</td>\n",
       "      <td>1</td>\n",
       "    </tr>\n",
       "    <tr>\n",
       "      <th>2021-06-28 13:15:00</th>\n",
       "      <td>0</td>\n",
       "      <td>1</td>\n",
       "    </tr>\n",
       "    <tr>\n",
       "      <th>2021-06-28 13:30:00</th>\n",
       "      <td>0</td>\n",
       "      <td>1</td>\n",
       "    </tr>\n",
       "    <tr>\n",
       "      <th>2021-06-28 13:45:00</th>\n",
       "      <td>0</td>\n",
       "      <td>1</td>\n",
       "    </tr>\n",
       "    <tr>\n",
       "      <th>2021-06-28 14:00:00</th>\n",
       "      <td>0</td>\n",
       "      <td>1</td>\n",
       "    </tr>\n",
       "    <tr>\n",
       "      <th>2021-06-28 17:45:00</th>\n",
       "      <td>0</td>\n",
       "      <td>1</td>\n",
       "    </tr>\n",
       "    <tr>\n",
       "      <th>2021-06-28 18:00:00</th>\n",
       "      <td>0</td>\n",
       "      <td>1</td>\n",
       "    </tr>\n",
       "    <tr>\n",
       "      <th>2021-06-28 18:15:00</th>\n",
       "      <td>0</td>\n",
       "      <td>1</td>\n",
       "    </tr>\n",
       "    <tr>\n",
       "      <th>2021-06-28 18:30:00</th>\n",
       "      <td>0</td>\n",
       "      <td>1</td>\n",
       "    </tr>\n",
       "    <tr>\n",
       "      <th>2021-06-28 18:45:00</th>\n",
       "      <td>0</td>\n",
       "      <td>1</td>\n",
       "    </tr>\n",
       "    <tr>\n",
       "      <th>2021-06-28 19:00:00</th>\n",
       "      <td>0</td>\n",
       "      <td>1</td>\n",
       "    </tr>\n",
       "    <tr>\n",
       "      <th>2021-06-28 19:15:00</th>\n",
       "      <td>1</td>\n",
       "      <td>1</td>\n",
       "    </tr>\n",
       "    <tr>\n",
       "      <th>2021-06-28 19:30:00</th>\n",
       "      <td>1</td>\n",
       "      <td>1</td>\n",
       "    </tr>\n",
       "    <tr>\n",
       "      <th>2021-06-28 20:45:00</th>\n",
       "      <td>1</td>\n",
       "      <td>1</td>\n",
       "    </tr>\n",
       "    <tr>\n",
       "      <th>2021-06-28 21:00:00</th>\n",
       "      <td>1</td>\n",
       "      <td>1</td>\n",
       "    </tr>\n",
       "    <tr>\n",
       "      <th>2021-06-28 22:15:00</th>\n",
       "      <td>1</td>\n",
       "      <td>1</td>\n",
       "    </tr>\n",
       "    <tr>\n",
       "      <th>2021-06-28 22:30:00</th>\n",
       "      <td>1</td>\n",
       "      <td>1</td>\n",
       "    </tr>\n",
       "    <tr>\n",
       "      <th>2021-06-28 22:45:00</th>\n",
       "      <td>0</td>\n",
       "      <td>1</td>\n",
       "    </tr>\n",
       "  </tbody>\n",
       "</table>\n",
       "</div>"
      ],
      "text/plain": [
       "                     buy  pred\n",
       "open_time                     \n",
       "2021-06-28 01:15:00    0     1\n",
       "2021-06-28 01:30:00    0     1\n",
       "2021-06-28 01:45:00    0     1\n",
       "2021-06-28 02:00:00    0     1\n",
       "2021-06-28 02:30:00    0     1\n",
       "2021-06-28 10:00:00    1     1\n",
       "2021-06-28 10:30:00    0     1\n",
       "2021-06-28 10:45:00    0     1\n",
       "2021-06-28 11:00:00    0     1\n",
       "2021-06-28 11:15:00    0     1\n",
       "2021-06-28 11:30:00    0     1\n",
       "2021-06-28 11:45:00    0     1\n",
       "2021-06-28 12:00:00    0     1\n",
       "2021-06-28 12:15:00    0     1\n",
       "2021-06-28 12:30:00    0     1\n",
       "2021-06-28 12:45:00    0     1\n",
       "2021-06-28 13:00:00    0     1\n",
       "2021-06-28 13:15:00    0     1\n",
       "2021-06-28 13:30:00    0     1\n",
       "2021-06-28 13:45:00    0     1\n",
       "2021-06-28 14:00:00    0     1\n",
       "2021-06-28 17:45:00    0     1\n",
       "2021-06-28 18:00:00    0     1\n",
       "2021-06-28 18:15:00    0     1\n",
       "2021-06-28 18:30:00    0     1\n",
       "2021-06-28 18:45:00    0     1\n",
       "2021-06-28 19:00:00    0     1\n",
       "2021-06-28 19:15:00    1     1\n",
       "2021-06-28 19:30:00    1     1\n",
       "2021-06-28 20:45:00    1     1\n",
       "2021-06-28 21:00:00    1     1\n",
       "2021-06-28 22:15:00    1     1\n",
       "2021-06-28 22:30:00    1     1\n",
       "2021-06-28 22:45:00    0     1"
      ]
     },
     "execution_count": 14,
     "metadata": {},
     "output_type": "execute_result"
    }
   ],
   "source": [
    "date = '2021-06-28'\n",
    "df = pd.DataFrame(y_test)\n",
    "df['pred'] = pred\n",
    "df[df.pred==1].loc[date]"
   ]
  },
  {
   "cell_type": "code",
   "execution_count": 15,
   "metadata": {},
   "outputs": [
    {
     "data": {
      "text/plain": [
       "buy     6392\n",
       "pred    7904\n",
       "dtype: int64"
      ]
     },
     "execution_count": 15,
     "metadata": {},
     "output_type": "execute_result"
    }
   ],
   "source": [
    "df.sum()"
   ]
  }
 ],
 "metadata": {
  "kernelspec": {
   "display_name": "Python 3",
   "language": "python",
   "name": "python3"
  },
  "language_info": {
   "codemirror_mode": {
    "name": "ipython",
    "version": 3
   },
   "file_extension": ".py",
   "mimetype": "text/x-python",
   "name": "python",
   "nbconvert_exporter": "python",
   "pygments_lexer": "ipython3",
   "version": "3.8.5"
  }
 },
 "nbformat": 4,
 "nbformat_minor": 4
}
