{
 "cells": [
  {
   "cell_type": "code",
   "execution_count": 1,
   "metadata": {},
   "outputs": [],
   "source": [
    "import pandas as pd\n",
    "import numpy as np\n",
    "import os\n",
    "import torch\n",
    "import torch.nn as nn\n",
    "from dataset import Dataset, to_device\n",
    "from model import ResNet28\n",
    "from time import time\n",
    "from tqdm.notebook import tqdm\n",
    "import json\n",
    "import pickle"
   ]
  },
  {
   "cell_type": "markdown",
   "metadata": {},
   "source": [
    "# Load Model and Predict Methods"
   ]
  },
  {
   "cell_type": "code",
   "execution_count": 32,
   "metadata": {},
   "outputs": [],
   "source": [
    "def load_model_only(config):\n",
    "    path = config.get('model_path', '')\n",
    "    f = f\"{path}/{config['model_identifier']}.pth\"\n",
    "    checkpoint = torch.load(f)\n",
    "    net = checkpoint['net']\n",
    "    scaler = checkpoint.get('scaler', None)\n",
    "    mean_losses = checkpoint['mean_losses']\n",
    "    return net, scaler, mean_losses\n",
    "\n",
    "def predict(model, X, y, device='cpu', silent=False):\n",
    "    pyt_device = torch.device(device)\n",
    "\n",
    "    if 'cuda' in device:\n",
    "        # Since it doesn't all fit on the GPU, we'll use a dataloader\n",
    "        batch_size = 2000\n",
    "        predictDataset = Dataset(X, y)\n",
    "        predictLoader = torch.utils.data.DataLoader(dataset=predictDataset,\n",
    "                                                  batch_size=batch_size,\n",
    "                                                  shuffle=False,\n",
    "                                                  num_workers=5,\n",
    "                                                  pin_memory=True\n",
    "                                                 )\n",
    "        num_elements = len(predictLoader.dataset)\n",
    "        num_outputs = len(y.columns)\n",
    "        num_batches = len(predictLoader)\n",
    "        predictions = torch.zeros(num_elements, num_outputs)\n",
    "        for i, (inputs, _) in tqdm(enumerate(predictLoader), total=num_batches, disable=silent):\n",
    "            inputs = to_device(inputs, pyt_device)\n",
    "            start = i*batch_size\n",
    "            end = start + batch_size\n",
    "            if i == num_batches - 1:\n",
    "                end = num_elements\n",
    "            pred = torch.round(torch.sigmoid(model(inputs)))\n",
    "            predictions[start:end] = pred.detach().cpu()\n",
    "        nn_results = predictions.numpy()\n",
    "    else:\n",
    "        if type(X) == np.ndarray:\n",
    "            X_tensor = torch.from_numpy(X).float()\n",
    "        else:\n",
    "            X_tensor = torch.from_numpy(X.to_numpy()).float()\n",
    "        nn_results = torch.round(torch.sigmoid(model(X_tensor))).detach().numpy()\n",
    "\n",
    "    return nn_results"
   ]
  },
  {
   "cell_type": "markdown",
   "metadata": {},
   "source": [
    "# Load and Clean Data"
   ]
  },
  {
   "cell_type": "code",
   "execution_count": 3,
   "metadata": {},
   "outputs": [],
   "source": [
    "def train_test_split(X, y, train_idx=None, test_idx=None):\n",
    "    X_train = X.loc[train_idx]\n",
    "    y_train = y.loc[train_idx]\n",
    "    X_test = X.loc[test_idx]\n",
    "    y_test = y.loc[test_idx]\n",
    "    return (X_train, y_train, X_test, y_test)\n",
    "\n",
    "def load_split_data(suffix=None, split=False):\n",
    "    if suffix==None:\n",
    "        suffix='DEFAULT'\n",
    "        \n",
    "    X = pd.read_pickle(f'../data/X_{suffix}.pkl')\n",
    "    y = pd.read_pickle(f'../data/y_{suffix}.pkl')\n",
    "        \n",
    "    if split:\n",
    "        X_train, y_train, X_test, y_test = train_test_split(X, y, X.loc[:'2019'].index, X.loc['2020':].index)\n",
    "        return X_train, y_train, X_test, y_test\n",
    "    else:\n",
    "        return X, y\n",
    "    \n",
    "X_train, y_train, X_test, y_test = load_split_data(suffix='20210726', split=True)"
   ]
  },
  {
   "cell_type": "markdown",
   "metadata": {},
   "source": [
    "# Analaze Results"
   ]
  },
  {
   "cell_type": "code",
   "execution_count": 5,
   "metadata": {},
   "outputs": [
    {
     "name": "stdout",
     "output_type": "stream",
     "text": [
      "Loading existing model\n",
      "Loading existing model\n",
      "Loading existing model\n"
     ]
    },
    {
     "data": {
      "image/png": "[encoded data removed]",
      "text/plain": [
       "<Figure size 720x360 with 2 Axes>"
      ]
     },
     "metadata": {
      "needs_background": "light"
     },
     "output_type": "display_data"
    }
   ],
   "source": [
    "import matplotlib.pyplot as plt\n",
    "\n",
    "# tl, vl = zip(*mean_losses)\n",
    "# fig,(ax1,ax2) = plt.subplots(1,2,figsize=(10,5))\n",
    "# ax1.set_title(\"Training Loss\")\n",
    "# ax2.set_title(\"Validation Loss\")\n",
    "# ax1.plot(tl[:40], label=model_id)\n",
    "# ax2.plot(vl[:40], label=model_id)\n",
    "# # ax1.set_yscale('log')\n",
    "# # ax2.set_yscale('log')\n",
    "# ax1.legend()\n",
    "# ax2.legend()\n",
    "# plt.show()\n",
    "\n",
    "######\n",
    "model_ids=[ 'alpha1',\n",
    "            'alpha2',\n",
    "            'alpha3',\n",
    "          ]\n",
    "\n",
    "fig,(ax1,ax2) = plt.subplots(1,2,figsize=(10,5))\n",
    "ax1.set_title(\"Training Loss\")\n",
    "ax2.set_title(\"Validation Loss\")\n",
    "    \n",
    "for model_id in model_ids:\n",
    "    with open(f'models/{model_id}.cfg') as f:\n",
    "        configurations = json.load(f)\n",
    "\n",
    "    _, _, mean_losses = load_model_only(configurations)\n",
    "\n",
    "    tl, vl = zip(*mean_losses)\n",
    "\n",
    "    ax1.plot(tl[:40], label=model_id)\n",
    "    ax2.plot(vl[:40], label=model_id)\n",
    "\n",
    "# ax1.set_ylim(0,0.02)\n",
    "# ax2.set_ylim(0,0.02)\n",
    "ax1.set_yscale('log')\n",
    "ax2.set_yscale('log')\n",
    "\n",
    "ax1.legend()\n",
    "ax2.legend()\n",
    "plt.show()"
   ]
  },
  {
   "cell_type": "markdown",
   "metadata": {},
   "source": [
    "# Precision Analysis"
   ]
  },
  {
   "cell_type": "code",
   "execution_count": 35,
   "metadata": {},
   "outputs": [
    {
     "name": "stdout",
     "output_type": "stream",
     "text": [
      "0.0\n",
      "15355.0\n",
      "0.0\n"
     ]
    }
   ],
   "source": [
    "precision = {}\n",
    "recall = {}\n",
    "f1score = {}\n",
    "\n",
    "for model_id in model_ids:\n",
    "    with open(f'models/{model_id}.cfg') as f:\n",
    "        config = json.load(f)\n",
    "\n",
    "    model, scaler, _ = load_model_only(config)\n",
    "    \n",
    "    if scaler is not None:\n",
    "        X = scaler.transform(X_test.copy())\n",
    "    else:\n",
    "        X = X_test\n",
    "    \n",
    "    pred = predict(model, X, y_test, device=config['device'], silent=True)\n",
    "    pred = np.nan_to_num(pred)\n",
    "    \n",
    "    precision[model_id] = round(precision_score(y_test, pred, zero_division=0),4)\n",
    "    recall[model_id] = round(recall_score(y_test, pred, zero_division=0),4)\n",
    "    f1score[model_id] = round(f1_score(y_test, pred, zero_division=0),4)"
   ]
  },
  {
   "cell_type": "code",
   "execution_count": 39,
   "metadata": {},
   "outputs": [
    {
     "name": "stdout",
     "output_type": "stream",
     "text": [
      "alpha1\n",
      "alpha2\n",
      "alpha3\n"
     ]
    }
   ],
   "source": [
    "for k,v in precision.items()"
   ]
  },
  {
   "cell_type": "code",
   "execution_count": 24,
   "metadata": {},
   "outputs": [
    {
     "data": {
      "text/plain": [
       "{'alpha1': 0.0, 'alpha2': 0.3447, 'alpha3': 0.0}"
      ]
     },
     "execution_count": 24,
     "metadata": {},
     "output_type": "execute_result"
    }
   ],
   "source": [
    "precision"
   ]
  },
  {
   "cell_type": "markdown",
   "metadata": {},
   "source": [
    "# Load Model and Run Predictions"
   ]
  },
  {
   "cell_type": "code",
   "execution_count": 6,
   "metadata": {},
   "outputs": [],
   "source": [
    "model_id = 'alpha2'\n",
    "\n",
    "with open(f'models/{model_id}.cfg') as f:\n",
    "    config = json.load(f)"
   ]
  },
  {
   "cell_type": "code",
   "execution_count": 7,
   "metadata": {},
   "outputs": [
    {
     "name": "stdout",
     "output_type": "stream",
     "text": [
      "Loading existing model\n"
     ]
    }
   ],
   "source": [
    "model, mean_losses = load_model_only(config)"
   ]
  },
  {
   "cell_type": "code",
   "execution_count": 8,
   "metadata": {},
   "outputs": [],
   "source": [
    "ss = pickle.load(open(f'models/{model_id}_ss.pkl', 'rb'))"
   ]
  },
  {
   "cell_type": "code",
   "execution_count": 9,
   "metadata": {},
   "outputs": [],
   "source": [
    "X_test = ss.transform(X_test)"
   ]
  },
  {
   "cell_type": "code",
   "execution_count": 10,
   "metadata": {},
   "outputs": [
    {
     "data": {
      "application/vnd.jupyter.widget-view+json": {
       "model_id": "10722c8295c74f96b1dcd073bb36d93d",
       "version_major": 2,
       "version_minor": 0
      },
      "text/plain": [
       "  0%|          | 0/28 [00:00<?, ?it/s]"
      ]
     },
     "metadata": {},
     "output_type": "display_data"
    }
   ],
   "source": [
    "results = predict(model, X_test, y_test, device=config['device'])"
   ]
  },
  {
   "cell_type": "code",
   "execution_count": 11,
   "metadata": {},
   "outputs": [],
   "source": [
    "pred = pd.DataFrame(data=results, columns=['pred'])\n",
    "pred.fillna(1, inplace=True)"
   ]
  },
  {
   "cell_type": "code",
   "execution_count": 12,
   "metadata": {},
   "outputs": [
    {
     "name": "stdout",
     "output_type": "stream",
     "text": [
      "Precision = 0.3444\n",
      "Recall = 0.3237\n",
      "F1-Score = 0.3338\n"
     ]
    }
   ],
   "source": [
    "from sklearn.metrics import f1_score, precision_score, recall_score\n",
    "\n",
    "print(f'Precision = {round(precision_score(y_test, pred),4)}')\n",
    "print(f'Recall = {round(recall_score(y_test, pred),4)}')\n",
    "print(f'F1-Score = {round(f1_score(y_test, pred),4)}')"
   ]
  }
 ],
 "metadata": {
  "kernelspec": {
   "display_name": "Python 3",
   "language": "python",
   "name": "python3"
  },
  "language_info": {
   "codemirror_mode": {
    "name": "ipython",
    "version": 3
   },
   "file_extension": ".py",
   "mimetype": "text/x-python",
   "name": "python",
   "nbconvert_exporter": "python",
   "pygments_lexer": "ipython3",
   "version": "3.8.5"
  }
 },
 "nbformat": 4,
 "nbformat_minor": 4
}
