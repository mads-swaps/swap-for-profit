{
 "cells": [
  {
   "cell_type": "code",
   "execution_count": 1,
   "metadata": {},
   "outputs": [],
   "source": [
    "import pandas as pd\n",
    "import numpy as np\n",
    "import os\n",
    "import torch\n",
    "import torch.nn as nn\n",
    "from trade_models.n1_torch1_dataset import Dataset, to_device\n",
    "from trade_models.n1_torch1_model import ResNet28\n",
    "from time import time\n",
    "from tqdm.notebook import tqdm\n",
    "import json"
   ]
  },
  {
   "cell_type": "markdown",
   "metadata": {},
   "source": [
    "# Model Saving/Loading Methods"
   ]
  },
  {
   "cell_type": "code",
   "execution_count": 2,
   "metadata": {},
   "outputs": [],
   "source": [
    "def load_model_only(config):\n",
    "    path = config.get('model_path', '')\n",
    "    f = f\"{path}/{config['model_identifier']}.pth\"\n",
    "    print(\"Loading existing model\")\n",
    "    checkpoint = torch.load(f)\n",
    "    net = checkpoint['net']\n",
    "    mean_losses = checkpoint['mean_losses']\n",
    "    return net, mean_losses\n",
    "\n",
    "def init_h1_weights(m):\n",
    "    if type(m) == nn.Linear:\n",
    "        nn.init.kaiming_uniform_(m.weight, mode='fan_in', nonlinearity='relu')\n",
    "        m.bias.data.fill_(0.01)\n",
    "        \n",
    "def load_model_with_config(config, X_train=None, model_width=None, force_train=False):\n",
    "    # a bit hacky, but in the training phase, we never load and use the minmax scalers\n",
    "    # just putting it here for when we want to load the model elsewhere THEN revert scaling\n",
    "    # probably better to have the scalers saved separately....\n",
    "    device = config.get('device','cpu')\n",
    "    pyt_device = torch.device(device)\n",
    "    \n",
    "    path = config.get('model_path', '')\n",
    "    f = f\"{path}/{config['model_identifier']}.pth\"\n",
    "    \n",
    "    if os.path.exists(f) and not force_train:\n",
    "        print(\"Loading existing model\")\n",
    "        checkpoint = torch.load(f)\n",
    "        net = checkpoint['net']\n",
    "        next_epoch = checkpoint['next_epoch']\n",
    "        loss_func = checkpoint['loss_func']\n",
    "        optimizer = checkpoint['optimizer']\n",
    "        scaler = checkpoint['scaler']\n",
    "        mean_losses = checkpoint['mean_losses']\n",
    "    else:\n",
    "        if X_train is None:\n",
    "            raise Exception('Cannot create model without X_train')\n",
    "        print(\"New model created\")\n",
    "        net = ResNet28(input_size=model_width[0], output_size=model_width[1], width=config['model_width'])\n",
    "        net.apply(init_h1_weights)\n",
    "        pos_weight = to_device(torch.tensor([config['loss'].get('pos_weight',1)]), pyt_device) # increase/decrease precision\n",
    "        loss_func = nn.BCEWithLogitsLoss(pos_weight=pos_weight)\n",
    "        opt_config=config['optimizer']\n",
    "        #optimizer = torch.optim.SGD(net.parameters(), lr=opt_config['lr'], momentum=opt_config['momentum'])\n",
    "        optimizer = torch.optim.AdamW(net.parameters(), lr=opt_config['lr'], weight_decay=opt_config['weight_decay'])\n",
    "        scaler = CustomScaler2().fit(X_train)\n",
    "        print (scaler)\n",
    "        mean_losses = []\n",
    "        next_epoch = 0\n",
    "        save_model_with_config(config, net=net, loss_func=loss_func, optimizer=optimizer,\n",
    "                               scaler=scaler,\n",
    "                               mean_losses=mean_losses, next_epoch=next_epoch,\n",
    "                              )\n",
    "        # blank scaler when creating new model\n",
    "    return net, loss_func, optimizer, scaler, mean_losses, next_epoch\n",
    "\n",
    "def save_model_with_config(config, **kwargs):\n",
    "    path = config.get('model_path', '')\n",
    "\n",
    "    f = f\"{path}/{config['model_identifier']}.pth\"\n",
    "    torch.save(kwargs, f)"
   ]
  },
  {
   "cell_type": "markdown",
   "metadata": {},
   "source": [
    "# Custom Scaler"
   ]
  },
  {
   "cell_type": "code",
   "execution_count": 3,
   "metadata": {},
   "outputs": [],
   "source": [
    "from sklearn.preprocessing import StandardScaler\n",
    "import re\n",
    "\n",
    "class CustomScaler2():\n",
    "    stdcols = ('number_of_trades','volume','quote_asset_volume',\n",
    "               'taker_buy_base_asset_volume','taker_buy_quote_asset_volume',\n",
    "               )\n",
    "    \n",
    "    def __init__(self):\n",
    "        self.standard_scaler = StandardScaler()\n",
    "        self.tostd = []\n",
    "        self.is_fit = False\n",
    "        \n",
    "    def fit(self, X):\n",
    "        for c in self.stdcols:\n",
    "            for v in X.columns:\n",
    "                if v.startswith(c):\n",
    "                    self.tostd.append(v)\n",
    "                \n",
    "        if len(self.tostd) > 0:\n",
    "            self.standard_scaler.fit(X[self.tostd])\n",
    "            \n",
    "        self.is_fit = True\n",
    "        return self\n",
    "        \n",
    "    def transform(self, X_in):\n",
    "        if self.is_fit == True:\n",
    "            X = X_in.copy()\n",
    "            open_price = X['open'].copy()\n",
    "            stddev = (((X['close'] - X['open'])**2 + \\\n",
    "                       (X['high'] - X['open'])**2 + \\\n",
    "                       (X['low'] - X['open'])**2) / 3)**0.5\n",
    "            stddev = stddev.apply(lambda x: 1 if x==0 else x)\n",
    "            \n",
    "            rsi_values = X['rsi'].copy()\n",
    "            atr_values = X['atr'].copy()\n",
    "            atr_values = atr_values.apply(lambda x: 1 if x==0 else x)\n",
    "            \n",
    "            for c in X.columns:\n",
    "                if c in ['open','high','low','close'] or \\\n",
    "                   re.match('open_[0-9]+', c) or \\\n",
    "                   re.match('high_[0-9]+', c) or \\\n",
    "                   re.match('low_[0-9]+', c) or \\\n",
    "                   re.match('close_[0-9]+', c) or \\\n",
    "                   re.match('sup[0-9]+', c) or \\\n",
    "                   re.match('res[0-9]+', c) or \\\n",
    "                   re.match('ma[0-9]+', c):\n",
    "                    X[c] = (X[c]-open_price)/stddev\n",
    "                elif c.startswith('atr_diff'):\n",
    "                    X[c] = X[c]/atr_values\n",
    "                elif re.match('atr$|atr_[0-9]+|atr_ma[0-9]+',c):\n",
    "                    X[c] = X[c]-atr_values/atr_values\n",
    "                elif c.startswith('rsi_diff'):\n",
    "                    X[c] = X[c]/rsi_values\n",
    "                elif re.match('rsi$|rsi_[0-9]+|rsi_ma[0-9]+',c):\n",
    "                    X[c] = (X[c]-50)/20 # thus the 30/70 thresholds will become -1/1\n",
    "            \n",
    "            if 'dow' in X.columns:\n",
    "                X['dow'] = X['dow'] / 6\n",
    "                \n",
    "            if len(self.tostd) > 0:\n",
    "                X[self.tostd] = self.standard_scaler.transform(X[self.tostd])\n",
    "            return X\n",
    "        else:\n",
    "            raise Exception('CustomScaler not yet fit')\n",
    "            \n",
    "    def fit_transform(self, X_in, y=None):\n",
    "        self.fit(X_in)\n",
    "        y=self.transform(X_in)\n",
    "        return y"
   ]
  },
  {
   "cell_type": "code",
   "execution_count": 4,
   "metadata": {
    "scrolled": false
   },
   "outputs": [],
   "source": [
    "# pd.set_option('max_columns',500)\n",
    "# scaler = CustomScaler1()\n",
    "# X_new = scaler.fit_transform(X_train)\n",
    "# X_new.head()"
   ]
  },
  {
   "cell_type": "markdown",
   "metadata": {},
   "source": [
    "# Model Training/Predicting Methods"
   ]
  },
  {
   "cell_type": "code",
   "execution_count": 5,
   "metadata": {},
   "outputs": [],
   "source": [
    "def train_model(X_train, y_train, X_test, y_test, configurations, force_train=False):\n",
    "\n",
    "    path = configurations.get('model_path', None)\n",
    "    torch.manual_seed(configurations.get('random_seed',0))\n",
    "    device = configurations.get('device','cpu')\n",
    "    pyt_device = torch.device(device)\n",
    "\n",
    "    model_width = (X_train.shape[1], y_train.shape[1])\n",
    "    net, loss_func, optimizer, scaler, mean_losses, next_epoch, = load_model_with_config(configurations,\n",
    "                                                                                         X_train,\n",
    "                                                                                         model_width,\n",
    "                                                                                         force_train)\n",
    "\n",
    "    X_train = scaler.transform(X_train)\n",
    "    X_test = scaler.transform(X_test)\n",
    "    \n",
    "    training_set = Dataset(X_train, y_train)\n",
    "    training_generator = torch.utils.data.DataLoader(training_set, **configurations['train_params'])\n",
    "    testing_set = Dataset(X_test, y_test)\n",
    "    testing_generator = torch.utils.data.DataLoader(testing_set, **configurations['test_params'])\n",
    "    \n",
    "    to_device(net, pyt_device)\n",
    "    net.train()\n",
    "    print(net)\n",
    "\n",
    "    if next_epoch == configurations['max_epochs']:\n",
    "        print(\"Model finished training. To retrain set force_train = True \")\n",
    "        net.eval()\n",
    "        return net, mean_losses\n",
    "\n",
    "    epbar = tqdm(range(next_epoch, configurations['max_epochs']))\n",
    "    for epoch in epbar:\n",
    "        epbar.set_description(f\"Epoch {epoch+1}\")\n",
    "\n",
    "        running_eloss = 0\n",
    "        running_vloss = 0\n",
    "\n",
    "        ipbar = tqdm(training_generator, leave=False)\n",
    "        ipbar.set_description(f\"Training\")\n",
    "\n",
    "        for i, (x, y) in enumerate(ipbar):\n",
    "            x = to_device(x, pyt_device)\n",
    "            y = to_device(y, pyt_device)\n",
    "\n",
    "            optimizer.zero_grad()\n",
    "            prediction = net(x)     # input x and predict based on x\n",
    "            loss = loss_func(prediction, y)     # must be (1. nn output, 2. target)\n",
    "            loss.backward()         # backpropagation, compute gradients\n",
    "            optimizer.step()        # apply gradients\n",
    "            running_eloss += loss.item()\n",
    "\n",
    "        net.eval()\n",
    "        mean_vlosses = 0\n",
    "        predicted_true = 0\n",
    "        target_true = 0\n",
    "        correct_true = 0\n",
    "        \n",
    "        if configurations['do_validate']:\n",
    "            with torch.set_grad_enabled(False):\n",
    "                vpbar = tqdm(testing_generator, leave=False)\n",
    "                vpbar.set_description(\"Validating\")\n",
    "                for i, (x, y) in enumerate(vpbar):\n",
    "                    x = to_device(x, pyt_device)\n",
    "                    y = to_device(y, pyt_device)\n",
    "                    prediction = net(x)\n",
    "                    loss = loss_func(prediction, y)\n",
    "                    running_vloss += loss.item()\n",
    "                    \n",
    "                    # calculate precision https://stackoverflow.com/questions/56643503/efficient-metrics-evaluation-in-pytorch\n",
    "                    predicted_classes = torch.round(torch.sigmoid(prediction)).squeeze() #.reshape(prediction.shape[0])\n",
    "                    target_classes = y.squeeze() #.reshape(y.shape[0])\n",
    "                    target_true += torch.sum(target_classes == 1).float()\n",
    "                    predicted_true += torch.sum(predicted_classes).float()\n",
    "                    correct_true += torch.sum((predicted_classes == target_classes) * (target_classes == 1)).float()\n",
    "                    \n",
    "            mean_vlosses = running_vloss / len(testing_generator)\n",
    "            recall = 0 if target_true==0 else float((correct_true / target_true).detach())\n",
    "            precision = 0 if predicted_true==0 else float((correct_true / predicted_true).detach())\n",
    "            f1_score = 0 if (precision + recall)==0 else 2 * precision * recall / (precision + recall)\n",
    "\n",
    "        mean_elosses = running_eloss / len(training_generator)\n",
    "        mean_losses.append((mean_elosses, mean_vlosses, precision, recall, f1_score))\n",
    "        save_model_with_config(configurations, net=net, loss_func=loss_func, optimizer=optimizer,\n",
    "                               scaler=scaler,\n",
    "                               mean_losses=mean_losses, next_epoch=epoch+1,)\n",
    "        net.train()\n",
    "\n",
    "        epbar.set_postfix({'train_loss':f\"{mean_elosses:.6f}\", 'val_loss':f\"{mean_vlosses:.6f}\", 'val_prec':f\"{precision:.6f}\"})\n",
    "    net.eval()\n",
    "    \n",
    "    torch.cuda.empty_cache()\n",
    "    return net, mean_losses"
   ]
  },
  {
   "cell_type": "markdown",
   "metadata": {},
   "source": [
    "# Load and Clean Data"
   ]
  },
  {
   "cell_type": "code",
   "execution_count": 6,
   "metadata": {},
   "outputs": [],
   "source": [
    "def train_test_split(X, y, train_idx=None, test_idx=None):\n",
    "    X_train = X.loc[train_idx]\n",
    "    y_train = y.loc[train_idx]\n",
    "    X_test = X.loc[test_idx]\n",
    "    y_test = y.loc[test_idx]\n",
    "    return (X_train, y_train, X_test, y_test)\n",
    "\n",
    "def load_split_data(suffix=None, split=False):\n",
    "    if suffix==None:\n",
    "        suffix='DEFAULT'\n",
    "        \n",
    "    X = pd.read_pickle(f'../data/X_{suffix}.pkl')\n",
    "    y = pd.read_pickle(f'../data/y_{suffix}.pkl')\n",
    "    \n",
    "    # Drop NA rows:\n",
    "    na_rows = X.isna().any(axis=1)\n",
    "    X = X[~na_rows]\n",
    "    y = y[~na_rows]\n",
    "        \n",
    "    if split:\n",
    "        X_train, y_train, X_test, y_test = train_test_split(X, y, X.loc['2018':'2020'].index, X.loc['2021':].index)\n",
    "        return X_train, y_train, X_test, y_test\n",
    "    else:\n",
    "        return X, y\n",
    "    \n",
    "X_train, y_train, X_test, y_test = load_split_data(suffix='20210806i', split=True)"
   ]
  },
  {
   "cell_type": "code",
   "execution_count": 7,
   "metadata": {},
   "outputs": [],
   "source": [
    "# # Balance data...\n",
    "# add_buys = (y_train.buy==0).sum() - (y_train.buy==1).sum()\n",
    "\n",
    "# y_toadd = y_train[y_train.buy==1].sample(n=add_buys, replace=True, random_state=42)\n",
    "# x_toadd = X_train[y_train.buy==1].sample(n=add_buys, replace=True, random_state=42)\n",
    "\n",
    "# X_train = pd.concat([X_train,x_toadd])\n",
    "# y_train = pd.concat([y_train,y_toadd])"
   ]
  },
  {
   "cell_type": "markdown",
   "metadata": {},
   "source": [
    "#  Model Creation"
   ]
  },
  {
   "cell_type": "code",
   "execution_count": 8,
   "metadata": {},
   "outputs": [],
   "source": [
    "model_id = 'nm_torch1_alpha37'\n",
    "\n",
    "config = {\n",
    "    'model_identifier' : model_id,\n",
    "    'model_path' : './models',\n",
    "    'model_type' : 'ResNet28',\n",
    "    'data' : '20210806i',\n",
    "    'note' : 're-enabled scaler',\n",
    "    'device' : 'cuda',\n",
    "    'random_seed' : 0,\n",
    "    'max_epochs' : 20,\n",
    "    'do_validate' : True,\n",
    "    'model_width' : 32,\n",
    "    'loss' : {\n",
    "        'pos_weight' : 1\n",
    "    },\n",
    "    'optimizer' : {\n",
    "        'type' : 'AdamW',\n",
    "        'lr' : 0.006,\n",
    "        'weight_decay' : 0.09, #0.00025\n",
    "        'momentum' : 0.9,\n",
    "    },\n",
    "    'train_params' : {\n",
    "        'batch_size': 1000,\n",
    "        'shuffle': True,\n",
    "        'num_workers': 5,\n",
    "        'pin_memory': True,\n",
    "    },\n",
    "    'test_params' : {\n",
    "        'batch_size': 200000,\n",
    "        'num_workers': 5,\n",
    "        'pin_memory': True,\n",
    "    },\n",
    "}\n",
    "\n",
    "\n",
    "model_id=config['model_identifier']\n",
    "with open(f'models/{model_id}.cfg', 'w') as f:\n",
    "    json.dump(config, f)"
   ]
  },
  {
   "cell_type": "markdown",
   "metadata": {},
   "source": [
    "# Train"
   ]
  },
  {
   "cell_type": "code",
   "execution_count": 9,
   "metadata": {
    "scrolled": false
   },
   "outputs": [
    {
     "name": "stdout",
     "output_type": "stream",
     "text": [
      "New model created\n",
      "<__main__.CustomScaler2 object at 0x00000213CF5A5F40>\n",
      "ResNet28(\n",
      "  (stack1): ResNetStack(\n",
      "    (stack): Sequential(\n",
      "      (dense_1): ResnetDenseBlock(\n",
      "        (dense1): Linear(in_features=542, out_features=32, bias=True)\n",
      "        (bn1): BatchNorm1d(32, eps=1e-05, momentum=0.1, affine=True, track_running_stats=True)\n",
      "        (relu): ReLU()\n",
      "        (dense2): Linear(in_features=32, out_features=32, bias=True)\n",
      "        (bn2): BatchNorm1d(32, eps=1e-05, momentum=0.1, affine=True, track_running_stats=True)\n",
      "        (dense3): Linear(in_features=32, out_features=32, bias=True)\n",
      "        (bn3): BatchNorm1d(32, eps=1e-05, momentum=0.1, affine=True, track_running_stats=True)\n",
      "        (shortcut): Sequential(\n",
      "          (dense_sc): Linear(in_features=542, out_features=32, bias=True)\n",
      "          (bn_sc): BatchNorm1d(32, eps=1e-05, momentum=0.1, affine=True, track_running_stats=True)\n",
      "        )\n",
      "      )\n",
      "      (identity_1a): ResnetIdentityBlock(\n",
      "        (dense1): Linear(in_features=32, out_features=32, bias=True)\n",
      "        (bn1): BatchNorm1d(32, eps=1e-05, momentum=0.1, affine=True, track_running_stats=True)\n",
      "        (relu): ReLU()\n",
      "        (dense2): Linear(in_features=32, out_features=32, bias=True)\n",
      "        (bn2): BatchNorm1d(32, eps=1e-05, momentum=0.1, affine=True, track_running_stats=True)\n",
      "        (dense3): Linear(in_features=32, out_features=32, bias=True)\n",
      "        (bn3): BatchNorm1d(32, eps=1e-05, momentum=0.1, affine=True, track_running_stats=True)\n",
      "        (shortcut): Identity()\n",
      "      )\n",
      "      (identity_1b): ResnetIdentityBlock(\n",
      "        (dense1): Linear(in_features=32, out_features=32, bias=True)\n",
      "        (bn1): BatchNorm1d(32, eps=1e-05, momentum=0.1, affine=True, track_running_stats=True)\n",
      "        (relu): ReLU()\n",
      "        (dense2): Linear(in_features=32, out_features=32, bias=True)\n",
      "        (bn2): BatchNorm1d(32, eps=1e-05, momentum=0.1, affine=True, track_running_stats=True)\n",
      "        (dense3): Linear(in_features=32, out_features=32, bias=True)\n",
      "        (bn3): BatchNorm1d(32, eps=1e-05, momentum=0.1, affine=True, track_running_stats=True)\n",
      "        (shortcut): Identity()\n",
      "      )\n",
      "    )\n",
      "  )\n",
      "  (stack2): ResNetStack(\n",
      "    (stack): Sequential(\n",
      "      (dense_2): ResnetDenseBlock(\n",
      "        (dense1): Linear(in_features=32, out_features=32, bias=True)\n",
      "        (bn1): BatchNorm1d(32, eps=1e-05, momentum=0.1, affine=True, track_running_stats=True)\n",
      "        (relu): ReLU()\n",
      "        (dense2): Linear(in_features=32, out_features=32, bias=True)\n",
      "        (bn2): BatchNorm1d(32, eps=1e-05, momentum=0.1, affine=True, track_running_stats=True)\n",
      "        (dense3): Linear(in_features=32, out_features=32, bias=True)\n",
      "        (bn3): BatchNorm1d(32, eps=1e-05, momentum=0.1, affine=True, track_running_stats=True)\n",
      "        (shortcut): Sequential(\n",
      "          (dense_sc): Linear(in_features=32, out_features=32, bias=True)\n",
      "          (bn_sc): BatchNorm1d(32, eps=1e-05, momentum=0.1, affine=True, track_running_stats=True)\n",
      "        )\n",
      "      )\n",
      "      (identity_2a): ResnetIdentityBlock(\n",
      "        (dense1): Linear(in_features=32, out_features=32, bias=True)\n",
      "        (bn1): BatchNorm1d(32, eps=1e-05, momentum=0.1, affine=True, track_running_stats=True)\n",
      "        (relu): ReLU()\n",
      "        (dense2): Linear(in_features=32, out_features=32, bias=True)\n",
      "        (bn2): BatchNorm1d(32, eps=1e-05, momentum=0.1, affine=True, track_running_stats=True)\n",
      "        (dense3): Linear(in_features=32, out_features=32, bias=True)\n",
      "        (bn3): BatchNorm1d(32, eps=1e-05, momentum=0.1, affine=True, track_running_stats=True)\n",
      "        (shortcut): Identity()\n",
      "      )\n",
      "      (identity_2b): ResnetIdentityBlock(\n",
      "        (dense1): Linear(in_features=32, out_features=32, bias=True)\n",
      "        (bn1): BatchNorm1d(32, eps=1e-05, momentum=0.1, affine=True, track_running_stats=True)\n",
      "        (relu): ReLU()\n",
      "        (dense2): Linear(in_features=32, out_features=32, bias=True)\n",
      "        (bn2): BatchNorm1d(32, eps=1e-05, momentum=0.1, affine=True, track_running_stats=True)\n",
      "        (dense3): Linear(in_features=32, out_features=32, bias=True)\n",
      "        (bn3): BatchNorm1d(32, eps=1e-05, momentum=0.1, affine=True, track_running_stats=True)\n",
      "        (shortcut): Identity()\n",
      "      )\n",
      "    )\n",
      "  )\n",
      "  (stack3): ResNetStack(\n",
      "    (stack): Sequential(\n",
      "      (dense_3): ResnetDenseBlock(\n",
      "        (dense1): Linear(in_features=32, out_features=32, bias=True)\n",
      "        (bn1): BatchNorm1d(32, eps=1e-05, momentum=0.1, affine=True, track_running_stats=True)\n",
      "        (relu): ReLU()\n",
      "        (dense2): Linear(in_features=32, out_features=32, bias=True)\n",
      "        (bn2): BatchNorm1d(32, eps=1e-05, momentum=0.1, affine=True, track_running_stats=True)\n",
      "        (dense3): Linear(in_features=32, out_features=32, bias=True)\n",
      "        (bn3): BatchNorm1d(32, eps=1e-05, momentum=0.1, affine=True, track_running_stats=True)\n",
      "        (shortcut): Sequential(\n",
      "          (dense_sc): Linear(in_features=32, out_features=32, bias=True)\n",
      "          (bn_sc): BatchNorm1d(32, eps=1e-05, momentum=0.1, affine=True, track_running_stats=True)\n",
      "        )\n",
      "      )\n",
      "      (identity_3a): ResnetIdentityBlock(\n",
      "        (dense1): Linear(in_features=32, out_features=32, bias=True)\n",
      "        (bn1): BatchNorm1d(32, eps=1e-05, momentum=0.1, affine=True, track_running_stats=True)\n",
      "        (relu): ReLU()\n",
      "        (dense2): Linear(in_features=32, out_features=32, bias=True)\n",
      "        (bn2): BatchNorm1d(32, eps=1e-05, momentum=0.1, affine=True, track_running_stats=True)\n",
      "        (dense3): Linear(in_features=32, out_features=32, bias=True)\n",
      "        (bn3): BatchNorm1d(32, eps=1e-05, momentum=0.1, affine=True, track_running_stats=True)\n",
      "        (shortcut): Identity()\n",
      "      )\n",
      "      (identity_3b): ResnetIdentityBlock(\n",
      "        (dense1): Linear(in_features=32, out_features=32, bias=True)\n",
      "        (bn1): BatchNorm1d(32, eps=1e-05, momentum=0.1, affine=True, track_running_stats=True)\n",
      "        (relu): ReLU()\n",
      "        (dense2): Linear(in_features=32, out_features=32, bias=True)\n",
      "        (bn2): BatchNorm1d(32, eps=1e-05, momentum=0.1, affine=True, track_running_stats=True)\n",
      "        (dense3): Linear(in_features=32, out_features=32, bias=True)\n",
      "        (bn3): BatchNorm1d(32, eps=1e-05, momentum=0.1, affine=True, track_running_stats=True)\n",
      "        (shortcut): Identity()\n",
      "      )\n",
      "    )\n",
      "  )\n",
      "  (final_bn): BatchNorm1d(32, eps=1e-05, momentum=0.1, affine=True, track_running_stats=True)\n",
      "  (final): Linear(in_features=32, out_features=1, bias=True)\n",
      ")\n"
     ]
    },
    {
     "data": {
      "application/vnd.jupyter.widget-view+json": {
       "model_id": "4d2c3dd4228a44c7afcae8e84c2b8e81",
       "version_major": 2,
       "version_minor": 0
      },
      "text/plain": [
       "  0%|          | 0/20 [00:00<?, ?it/s]"
      ]
     },
     "metadata": {},
     "output_type": "display_data"
    },
    {
     "data": {
      "application/vnd.jupyter.widget-view+json": {
       "model_id": "",
       "version_major": 2,
       "version_minor": 0
      },
      "text/plain": [
       "  0%|          | 0/105 [00:00<?, ?it/s]"
      ]
     },
     "metadata": {},
     "output_type": "display_data"
    },
    {
     "data": {
      "application/vnd.jupyter.widget-view+json": {
       "model_id": "",
       "version_major": 2,
       "version_minor": 0
      },
      "text/plain": [
       "  0%|          | 0/1 [00:00<?, ?it/s]"
      ]
     },
     "metadata": {},
     "output_type": "display_data"
    },
    {
     "data": {
      "application/vnd.jupyter.widget-view+json": {
       "model_id": "",
       "version_major": 2,
       "version_minor": 0
      },
      "text/plain": [
       "  0%|          | 0/105 [00:00<?, ?it/s]"
      ]
     },
     "metadata": {},
     "output_type": "display_data"
    },
    {
     "data": {
      "application/vnd.jupyter.widget-view+json": {
       "model_id": "",
       "version_major": 2,
       "version_minor": 0
      },
      "text/plain": [
       "  0%|          | 0/1 [00:00<?, ?it/s]"
      ]
     },
     "metadata": {},
     "output_type": "display_data"
    },
    {
     "data": {
      "application/vnd.jupyter.widget-view+json": {
       "model_id": "",
       "version_major": 2,
       "version_minor": 0
      },
      "text/plain": [
       "  0%|          | 0/105 [00:00<?, ?it/s]"
      ]
     },
     "metadata": {},
     "output_type": "display_data"
    },
    {
     "data": {
      "application/vnd.jupyter.widget-view+json": {
       "model_id": "",
       "version_major": 2,
       "version_minor": 0
      },
      "text/plain": [
       "  0%|          | 0/1 [00:00<?, ?it/s]"
      ]
     },
     "metadata": {},
     "output_type": "display_data"
    },
    {
     "data": {
      "application/vnd.jupyter.widget-view+json": {
       "model_id": "",
       "version_major": 2,
       "version_minor": 0
      },
      "text/plain": [
       "  0%|          | 0/105 [00:00<?, ?it/s]"
      ]
     },
     "metadata": {},
     "output_type": "display_data"
    },
    {
     "data": {
      "application/vnd.jupyter.widget-view+json": {
       "model_id": "",
       "version_major": 2,
       "version_minor": 0
      },
      "text/plain": [
       "  0%|          | 0/1 [00:00<?, ?it/s]"
      ]
     },
     "metadata": {},
     "output_type": "display_data"
    },
    {
     "data": {
      "application/vnd.jupyter.widget-view+json": {
       "model_id": "",
       "version_major": 2,
       "version_minor": 0
      },
      "text/plain": [
       "  0%|          | 0/105 [00:00<?, ?it/s]"
      ]
     },
     "metadata": {},
     "output_type": "display_data"
    },
    {
     "data": {
      "application/vnd.jupyter.widget-view+json": {
       "model_id": "",
       "version_major": 2,
       "version_minor": 0
      },
      "text/plain": [
       "  0%|          | 0/1 [00:00<?, ?it/s]"
      ]
     },
     "metadata": {},
     "output_type": "display_data"
    },
    {
     "data": {
      "application/vnd.jupyter.widget-view+json": {
       "model_id": "",
       "version_major": 2,
       "version_minor": 0
      },
      "text/plain": [
       "  0%|          | 0/105 [00:00<?, ?it/s]"
      ]
     },
     "metadata": {},
     "output_type": "display_data"
    },
    {
     "data": {
      "application/vnd.jupyter.widget-view+json": {
       "model_id": "",
       "version_major": 2,
       "version_minor": 0
      },
      "text/plain": [
       "  0%|          | 0/1 [00:00<?, ?it/s]"
      ]
     },
     "metadata": {},
     "output_type": "display_data"
    },
    {
     "data": {
      "application/vnd.jupyter.widget-view+json": {
       "model_id": "",
       "version_major": 2,
       "version_minor": 0
      },
      "text/plain": [
       "  0%|          | 0/105 [00:00<?, ?it/s]"
      ]
     },
     "metadata": {},
     "output_type": "display_data"
    },
    {
     "data": {
      "application/vnd.jupyter.widget-view+json": {
       "model_id": "",
       "version_major": 2,
       "version_minor": 0
      },
      "text/plain": [
       "  0%|          | 0/1 [00:00<?, ?it/s]"
      ]
     },
     "metadata": {},
     "output_type": "display_data"
    },
    {
     "data": {
      "application/vnd.jupyter.widget-view+json": {
       "model_id": "",
       "version_major": 2,
       "version_minor": 0
      },
      "text/plain": [
       "  0%|          | 0/105 [00:00<?, ?it/s]"
      ]
     },
     "metadata": {},
     "output_type": "display_data"
    },
    {
     "data": {
      "application/vnd.jupyter.widget-view+json": {
       "model_id": "",
       "version_major": 2,
       "version_minor": 0
      },
      "text/plain": [
       "  0%|          | 0/1 [00:00<?, ?it/s]"
      ]
     },
     "metadata": {},
     "output_type": "display_data"
    },
    {
     "data": {
      "application/vnd.jupyter.widget-view+json": {
       "model_id": "",
       "version_major": 2,
       "version_minor": 0
      },
      "text/plain": [
       "  0%|          | 0/105 [00:00<?, ?it/s]"
      ]
     },
     "metadata": {},
     "output_type": "display_data"
    },
    {
     "data": {
      "application/vnd.jupyter.widget-view+json": {
       "model_id": "",
       "version_major": 2,
       "version_minor": 0
      },
      "text/plain": [
       "  0%|          | 0/1 [00:00<?, ?it/s]"
      ]
     },
     "metadata": {},
     "output_type": "display_data"
    },
    {
     "data": {
      "application/vnd.jupyter.widget-view+json": {
       "model_id": "",
       "version_major": 2,
       "version_minor": 0
      },
      "text/plain": [
       "  0%|          | 0/105 [00:00<?, ?it/s]"
      ]
     },
     "metadata": {},
     "output_type": "display_data"
    },
    {
     "data": {
      "application/vnd.jupyter.widget-view+json": {
       "model_id": "",
       "version_major": 2,
       "version_minor": 0
      },
      "text/plain": [
       "  0%|          | 0/1 [00:00<?, ?it/s]"
      ]
     },
     "metadata": {},
     "output_type": "display_data"
    },
    {
     "data": {
      "application/vnd.jupyter.widget-view+json": {
       "model_id": "",
       "version_major": 2,
       "version_minor": 0
      },
      "text/plain": [
       "  0%|          | 0/105 [00:00<?, ?it/s]"
      ]
     },
     "metadata": {},
     "output_type": "display_data"
    },
    {
     "data": {
      "application/vnd.jupyter.widget-view+json": {
       "model_id": "",
       "version_major": 2,
       "version_minor": 0
      },
      "text/plain": [
       "  0%|          | 0/1 [00:00<?, ?it/s]"
      ]
     },
     "metadata": {},
     "output_type": "display_data"
    },
    {
     "data": {
      "application/vnd.jupyter.widget-view+json": {
       "model_id": "",
       "version_major": 2,
       "version_minor": 0
      },
      "text/plain": [
       "  0%|          | 0/105 [00:00<?, ?it/s]"
      ]
     },
     "metadata": {},
     "output_type": "display_data"
    },
    {
     "data": {
      "application/vnd.jupyter.widget-view+json": {
       "model_id": "",
       "version_major": 2,
       "version_minor": 0
      },
      "text/plain": [
       "  0%|          | 0/1 [00:00<?, ?it/s]"
      ]
     },
     "metadata": {},
     "output_type": "display_data"
    },
    {
     "data": {
      "application/vnd.jupyter.widget-view+json": {
       "model_id": "",
       "version_major": 2,
       "version_minor": 0
      },
      "text/plain": [
       "  0%|          | 0/105 [00:00<?, ?it/s]"
      ]
     },
     "metadata": {},
     "output_type": "display_data"
    },
    {
     "data": {
      "application/vnd.jupyter.widget-view+json": {
       "model_id": "",
       "version_major": 2,
       "version_minor": 0
      },
      "text/plain": [
       "  0%|          | 0/1 [00:00<?, ?it/s]"
      ]
     },
     "metadata": {},
     "output_type": "display_data"
    },
    {
     "data": {
      "application/vnd.jupyter.widget-view+json": {
       "model_id": "",
       "version_major": 2,
       "version_minor": 0
      },
      "text/plain": [
       "  0%|          | 0/105 [00:00<?, ?it/s]"
      ]
     },
     "metadata": {},
     "output_type": "display_data"
    },
    {
     "data": {
      "application/vnd.jupyter.widget-view+json": {
       "model_id": "",
       "version_major": 2,
       "version_minor": 0
      },
      "text/plain": [
       "  0%|          | 0/1 [00:00<?, ?it/s]"
      ]
     },
     "metadata": {},
     "output_type": "display_data"
    },
    {
     "data": {
      "application/vnd.jupyter.widget-view+json": {
       "model_id": "",
       "version_major": 2,
       "version_minor": 0
      },
      "text/plain": [
       "  0%|          | 0/105 [00:00<?, ?it/s]"
      ]
     },
     "metadata": {},
     "output_type": "display_data"
    },
    {
     "data": {
      "application/vnd.jupyter.widget-view+json": {
       "model_id": "",
       "version_major": 2,
       "version_minor": 0
      },
      "text/plain": [
       "  0%|          | 0/1 [00:00<?, ?it/s]"
      ]
     },
     "metadata": {},
     "output_type": "display_data"
    },
    {
     "data": {
      "application/vnd.jupyter.widget-view+json": {
       "model_id": "",
       "version_major": 2,
       "version_minor": 0
      },
      "text/plain": [
       "  0%|          | 0/105 [00:00<?, ?it/s]"
      ]
     },
     "metadata": {},
     "output_type": "display_data"
    },
    {
     "data": {
      "application/vnd.jupyter.widget-view+json": {
       "model_id": "",
       "version_major": 2,
       "version_minor": 0
      },
      "text/plain": [
       "  0%|          | 0/1 [00:00<?, ?it/s]"
      ]
     },
     "metadata": {},
     "output_type": "display_data"
    },
    {
     "data": {
      "application/vnd.jupyter.widget-view+json": {
       "model_id": "",
       "version_major": 2,
       "version_minor": 0
      },
      "text/plain": [
       "  0%|          | 0/105 [00:00<?, ?it/s]"
      ]
     },
     "metadata": {},
     "output_type": "display_data"
    },
    {
     "data": {
      "application/vnd.jupyter.widget-view+json": {
       "model_id": "",
       "version_major": 2,
       "version_minor": 0
      },
      "text/plain": [
       "  0%|          | 0/1 [00:00<?, ?it/s]"
      ]
     },
     "metadata": {},
     "output_type": "display_data"
    },
    {
     "data": {
      "application/vnd.jupyter.widget-view+json": {
       "model_id": "",
       "version_major": 2,
       "version_minor": 0
      },
      "text/plain": [
       "  0%|          | 0/105 [00:00<?, ?it/s]"
      ]
     },
     "metadata": {},
     "output_type": "display_data"
    },
    {
     "data": {
      "application/vnd.jupyter.widget-view+json": {
       "model_id": "",
       "version_major": 2,
       "version_minor": 0
      },
      "text/plain": [
       "  0%|          | 0/1 [00:00<?, ?it/s]"
      ]
     },
     "metadata": {},
     "output_type": "display_data"
    },
    {
     "data": {
      "application/vnd.jupyter.widget-view+json": {
       "model_id": "",
       "version_major": 2,
       "version_minor": 0
      },
      "text/plain": [
       "  0%|          | 0/105 [00:00<?, ?it/s]"
      ]
     },
     "metadata": {},
     "output_type": "display_data"
    },
    {
     "data": {
      "application/vnd.jupyter.widget-view+json": {
       "model_id": "",
       "version_major": 2,
       "version_minor": 0
      },
      "text/plain": [
       "  0%|          | 0/1 [00:00<?, ?it/s]"
      ]
     },
     "metadata": {},
     "output_type": "display_data"
    },
    {
     "data": {
      "application/vnd.jupyter.widget-view+json": {
       "model_id": "",
       "version_major": 2,
       "version_minor": 0
      },
      "text/plain": [
       "  0%|          | 0/105 [00:00<?, ?it/s]"
      ]
     },
     "metadata": {},
     "output_type": "display_data"
    },
    {
     "data": {
      "application/vnd.jupyter.widget-view+json": {
       "model_id": "",
       "version_major": 2,
       "version_minor": 0
      },
      "text/plain": [
       "  0%|          | 0/1 [00:00<?, ?it/s]"
      ]
     },
     "metadata": {},
     "output_type": "display_data"
    }
   ],
   "source": [
    "net, mean_losses = train_model(X_train, y_train, X_test, y_test, config, force_train=False)"
   ]
  },
  {
   "cell_type": "code",
   "execution_count": 10,
   "metadata": {},
   "outputs": [],
   "source": [
    "torch.cuda.empty_cache()"
   ]
  }
 ],
 "metadata": {
  "kernelspec": {
   "display_name": "Python 3",
   "language": "python",
   "name": "python3"
  },
  "language_info": {
   "codemirror_mode": {
    "name": "ipython",
    "version": 3
   },
   "file_extension": ".py",
   "mimetype": "text/x-python",
   "name": "python",
   "nbconvert_exporter": "python",
   "pygments_lexer": "ipython3",
   "version": "3.8.5"
  }
 },
 "nbformat": 4,
 "nbformat_minor": 4
}
