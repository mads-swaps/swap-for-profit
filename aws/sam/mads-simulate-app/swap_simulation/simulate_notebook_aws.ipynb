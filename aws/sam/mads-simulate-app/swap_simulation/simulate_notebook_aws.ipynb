{
 "cells": [
  {
   "cell_type": "code",
   "execution_count": 1,
   "metadata": {},
   "outputs": [],
   "source": [
    "import psycopg2\n",
    "import psycopg2.extras as extras\n",
    "import pandas as pd\n",
    "import hidden\n",
    "import json\n",
    "import numpy as np\n",
    "import re\n",
    "from datetime import datetime\n",
    "import pytz\n",
    "import re\n",
    "from operator import itemgetter\n",
    "import trade_models"
   ]
  },
  {
   "cell_type": "code",
   "execution_count": 2,
   "metadata": {},
   "outputs": [
    {
     "name": "stdout",
     "output_type": "stream",
     "text": [
      "PostgreSQL connection data taken from hidden.py\n"
     ]
    }
   ],
   "source": [
    "sql_string = hidden.psycopg2(hidden.secrets())\n",
    "print('PostgreSQL connection data taken from hidden.py')\n",
    "\n",
    "# Make the connection and cursor\n",
    "conn = psycopg2.connect(sql_string, connect_timeout=3)"
   ]
  },
  {
   "cell_type": "code",
   "execution_count": 3,
   "metadata": {},
   "outputs": [],
   "source": [
    "VALID_FEATURES = [\n",
    "    'pair_id','open_time','close_time','dow','tod',\n",
    "    'open','high','low','close',\n",
    "    'number_of_trades','volume','quote_asset_volume','taker_buy_base_asset_volume','taker_buy_quote_asset_volume',\n",
    "    'ma14','ma30','ma90',\n",
    "    'sup14','sup30','sup90',\n",
    "    'res14','res30','res90',\n",
    "    'atr','atr_diff','atr_ma14',\n",
    "    'rsi','rsi_diff','rsi_ma14',\n",
    "    'trend_up','trend_up3','trend_up14','trend_up30',\n",
    "    'cs_ss','cs_ssr','cs_hm','cs_hmr','cs_brh','cs_buh','cs_ebu','cs_ebr'\n",
    "]\n",
    "\n",
    "config_keys = ['simulation_id', 'strategy_name', 'model', 'pair_id', 'start_time', 'max_batch_size', 'extra_rows', 'starting_funds', 'trading_fees_percent', 'trading_fees_buy', 'trading_fees_sell']"
   ]
  },
  {
   "cell_type": "code",
   "execution_count": 4,
   "metadata": {},
   "outputs": [],
   "source": [
    "def get_state(config):\n",
    "    sql = f\"\"\"\n",
    "    select * from simulation_record where open_time = (select max(open_time) from simulation_record sr where simulation_id = {config['simulation_id']}) and simulation_id = {config['simulation_id']}\n",
    "    \"\"\"\n",
    "    latest_record = pd.read_sql_query(sql, conn)\n",
    "    if len(latest_record) > 0:\n",
    "        return (\n",
    "            latest_record['open_time'][0] + pd.to_timedelta(1,'s'),\n",
    "            latest_record['fund1'][0],\n",
    "            latest_record['fund2'][0]\n",
    "        )\n",
    "    else:\n",
    "        return (config['start_time'], config['starting_funds'], 0)"
   ]
  },
  {
   "cell_type": "code",
   "execution_count": 5,
   "metadata": {},
   "outputs": [],
   "source": [
    "def get_batch_data(pair_id, start_time, columns, batch_size=10000, extra_rows=0):\n",
    "    column_info = [(x,) + re.match('^(?P<feature>[a-z][a-z0-9]*(?:_[a-z][a-z0-9]*)*)(?:_(?P<shift>[0-9]{1,3}))?$',x).groups() for x in columns]\n",
    "    max_lookback = max([(0 if x==None else int(x)) for _,_,x in column_info])\n",
    "    sql = f\"\"\"\n",
    "select\n",
    "    f.*, open_time, open, high, low, close, volume, close_time, quote_asset_volume, number_of_trades, taker_buy_base_asset_volume, taker_buy_quote_asset_volume\t\n",
    "from\n",
    "    (\n",
    "        (select * from candlestick_15m where pair_id = {pair_id} and close_time notnull and open_time < '{start_time}' order by open_time desc limit {max_lookback + extra_rows})\n",
    "            union all\n",
    "        (select * from candlestick_15m where pair_id = {pair_id} and close_time notnull and open_time > '{start_time}' order by open_time limit {batch_size})\n",
    "    ) cm\n",
    "inner join \n",
    "    features f on f.pair_id = cm.pair_id and f.candle_open_time = cm.open_time\n",
    "order by\n",
    "    open_time desc\n",
    "\"\"\"\n",
    "    base_df = pd.read_sql_query(sql, conn)\n",
    "    df = base_df[['candle_open_time']].copy()\n",
    "    for name, feature, shift in column_info:\n",
    "        assert feature in VALID_FEATURES, f\"Invalid feature: {feature} for {name}\"\n",
    "        df[name] = base_df[feature].shift((0 if shift==None else -int(shift)))\n",
    "        \n",
    "    if extra_rows == 0:\n",
    "        extra_df = None\n",
    "    else:\n",
    "        extra_df = df.copy()\n",
    "        extra_df['is_extra'] = ~(extra_df['candle_open_time'] >= start_time)\n",
    "        extra_df = extra_df.set_index('candle_open_time').sort_index()\n",
    "        \n",
    "    df = df[df['candle_open_time'] >= start_time]\n",
    "    df = df.set_index('candle_open_time').sort_index()\n",
    "\n",
    "    ref_df = base_df[['open_time','open', 'high', 'low', 'close']].copy()\n",
    "    ref_df = ref_df[ref_df['open_time'] >= start_time]\n",
    "    ref_df = ref_df.set_index('open_time').sort_index()\n",
    "\n",
    "    batch_close_time = base_df['close_time'].max()\n",
    "\n",
    "    return df, ref_df, extra_df, batch_close_time"
   ]
  },
  {
   "cell_type": "code",
   "execution_count": 6,
   "metadata": {},
   "outputs": [],
   "source": [
    "def execute_values(conn, df, table):\n",
    "    \"\"\"\n",
    "    Using psycopg2.extras.execute_values() to insert the dataframe\n",
    "    \"\"\"\n",
    "    # Create a list of tupples from the dataframe values\n",
    "    tuples = [tuple(x) for x in df.to_numpy()]\n",
    "    # Comma-separated dataframe columns\n",
    "    cols = ','.join(list(df.columns))\n",
    "    # SQL quert to execute\n",
    "    query  = \"INSERT INTO %s(%s) VALUES %%s\" % (table, cols)\n",
    "    cursor = conn.cursor()\n",
    "    try:\n",
    "        extras.execute_values(cursor, query, tuples)\n",
    "        conn.commit()\n",
    "    except (Exception, psycopg2.DatabaseError) as error:\n",
    "        print(\"Error: %s\" % error)\n",
    "        conn.rollback()\n",
    "        cursor.close()\n",
    "        return 1\n",
    "    print(\"execute_values() done\")\n",
    "    cursor.close()"
   ]
  },
  {
   "cell_type": "code",
   "execution_count": 7,
   "metadata": {},
   "outputs": [
    {
     "name": "stdout",
     "output_type": "stream",
     "text": [
      "Current batch:  2021-04-04 20:45:01\n",
      "...Simulating actions...\n",
      "execute_values() done\n"
     ]
    }
   ],
   "source": [
    "sim_id=2\n",
    "\n",
    "sql = f\"\"\"select si.id as simulation_id, st.strategy_name, st.model, st.max_batch_size, st.extra_rows, st.parameters, si.info_dict, e.starting_funds, e.trading_fees_percent, e.trading_fees_buy, e.trading_fees_sell, e.pair_id, to_char(e.starting_timestamp :: date, 'yyyy-mm-dd') as start_time from simulation si inner join strategy st on si.strategy_id = st.id inner join environment e on si.environment_id = e.id where si.id = {sim_id}\"\"\"\n",
    "simulation_info = pd.read_sql_query(sql, conn).iloc[0]\n",
    "\n",
    "config = {}\n",
    "for k in config_keys:\n",
    "    config[k] = simulation_info[k]\n",
    "config = {**config, **simulation_info['parameters']}\n",
    "config = {**config, **simulation_info['info_dict']}\n",
    "\n",
    "# validate inputs and portfolio parameters\n",
    "def validate(date_text):\n",
    "    try:\n",
    "        datetime.strptime(date_text, '%Y-%m-%d')\n",
    "    except ValueError:\n",
    "        raise ValueError(\"Incorrect data format, should be YYYY-MM-DD\")\n",
    "        \n",
    "# validate start / end string format input to protect against injection\n",
    "validate(config['start_time'])\n",
    "\n",
    "# validate starting funds\n",
    "assert config['starting_funds'] > 0, \"Starting funds for must be > 0\"\n",
    "\n",
    "# validate fees\n",
    "assert config['trading_fees_percent'] >= 0, \"Trading Fees % for must be >= 0%\"\n",
    "assert config['trading_fees_percent'] < 100, \"Trading Fees % for must be < 100%\"\n",
    "assert config['trading_fees_buy'] >= 0, \"Trading Fees (buy) for must be >= 0\"\n",
    "assert config['trading_fees_sell'] >= 0, \"Trading Fees (sell) for must be >= 0\"\n",
    "\n",
    "# validate batch size\n",
    "assert config['max_batch_size'] > 0, f\"{config['max_batch_size']} is not a valid batch size\"\n",
    "\n",
    "t,f1,f2 = get_state(config)\n",
    "cur_funds = [f1,f2]\n",
    "current_batch_start_time = t\n",
    "\n",
    "\n",
    "fee_multiplier = 1.0 - config['trading_fees_percent'] / 100\n",
    "\n",
    "\n",
    "model = trade_models.__dict__[config['model']]\n",
    "columns = model.columns(config)\n",
    "\n",
    "print(\"Current batch: \", current_batch_start_time)\n",
    "\n",
    "batch_data, results, extra_data, batch_close_time = get_batch_data(config['pair_id'], current_batch_start_time, columns, config['max_batch_size'], config['extra_rows'])\n",
    "\n",
    "# Replace any boolean or object columns as int\n",
    "for col in batch_data.columns:\n",
    "    if batch_data[col].dtype.kind in ['b','O']:\n",
    "        batch_data[col] = batch_data[col].astype(int)\n",
    "\n",
    "batch_model_decision, batch_execute_price = model.make_decision(batch_data[columns], extra_data, config)\n",
    "\n",
    "results['trade_model_decision'] = batch_model_decision.values\n",
    "results['execute_price'] = batch_execute_price.values\n",
    "\n",
    "results[['actual_action','fund1','fund2']] = np.nan\n",
    "results.iloc[0, results.columns.get_loc('fund1')] = cur_funds[0]\n",
    "results.iloc[0, results.columns.get_loc('fund2')] = cur_funds[1]\n",
    "\n",
    "print(\"...Simulating actions...\")\n",
    "\n",
    "for x,r in results.iterrows():\n",
    "    if cur_funds[0] > 0 and cur_funds[1] == 0:\n",
    "        if r['trade_model_decision'] > 0:\n",
    "            cur_funds[1] = ((cur_funds[0]-config['trading_fees_buy']) * r['execute_price']) * fee_multiplier\n",
    "            cur_funds[0] = 0\n",
    "            results.loc[x,'fund1'] = cur_funds[0]\n",
    "            results.loc[x,'fund2'] = cur_funds[1]\n",
    "            results.loc[x,'actual_action'] = 'buy'\n",
    "    elif cur_funds[1] > 0 and cur_funds[0] == 0:\n",
    "        if r['trade_model_decision'] < 0:\n",
    "            cur_funds[0] = ((cur_funds[1]-config['trading_fees_sell']) / r['execute_price']) * fee_multiplier\n",
    "            cur_funds[1] = 0\n",
    "            results.loc[x,'fund1'] = cur_funds[0]\n",
    "            results.loc[x,'fund2'] = cur_funds[1]\n",
    "            results.loc[x,'actual_action'] = 'sell'\n",
    "    else:\n",
    "        # you have run out of money!\n",
    "        pass\n",
    "    \n",
    "results[['fund1','fund2']] = results[['fund1','fund2']].ffill()\n",
    "results['total_value'] = results['fund1'] + results['fund2'] / results['close']\n",
    "results['actual_action'] = results['actual_action'].fillna('none')\n",
    "records = results.reset_index()[['open_time', 'execute_price', 'actual_action', 'fund1', 'fund2', 'total_value']]\n",
    "records = records.rename(columns={'actual_action':'trade_action'})\n",
    "records['simulation_id'] = sim_id\n",
    "execute_values(conn, records, 'simulation_record')\n",
    "\n",
    "cursor = conn.cursor()\n",
    "info_dict = {k:v for k,v in config.items() if k not in config_keys}\n",
    "cursor.execute(f\"update simulation set info_dict='{json.dumps(info_dict)}' where id={config['simulation_id']}\")\n",
    "conn.commit()\n",
    "cursor.close()"
   ]
  },
  {
   "cell_type": "code",
   "execution_count": null,
   "metadata": {},
   "outputs": [],
   "source": []
  },
  {
   "cell_type": "code",
   "execution_count": null,
   "metadata": {},
   "outputs": [],
   "source": []
  },
  {
   "cell_type": "code",
   "execution_count": 8,
   "metadata": {},
   "outputs": [
    {
     "data": {
      "text/plain": [
       "<AxesSubplot:title={'center':\"Tim's Dummy\"}, xlabel='open_time'>"
      ]
     },
     "execution_count": 8,
     "metadata": {},
     "output_type": "execute_result"
    },
    {
     "data": {
      "image/png": "[encoded data removed]",
      "text/plain": [
       "<Figure size 432x288 with 1 Axes>"
      ]
     },
     "metadata": {},
     "output_type": "display_data"
    }
   ],
   "source": [
    "import matplotlib.pyplot as plt\n",
    "\n",
    "fig, ax = plt.subplots()\n",
    "fig.patch.set_facecolor('white')\n",
    "ax.set_title(config['strategy_name'])\n",
    "results.total_value.plot(figure=fig)"
   ]
  },
  {
   "cell_type": "code",
   "execution_count": 9,
   "metadata": {
    "scrolled": false
   },
   "outputs": [
    {
     "data": {
      "text/plain": [
       "open_time\n",
       "2021-04-05    0.778328\n",
       "2021-04-06    0.778328\n",
       "2021-04-07    0.778328\n",
       "2021-04-08    0.778328\n",
       "2021-04-09    0.778328\n",
       "2021-04-10    0.778328\n",
       "2021-04-11    0.778328\n",
       "2021-04-12    0.778328\n",
       "2021-04-13    0.778328\n",
       "2021-04-14    0.778328\n",
       "2021-04-15    0.769795\n",
       "2021-04-16    0.769795\n",
       "2021-04-17    0.762211\n",
       "2021-04-18    0.762211\n",
       "2021-04-19    0.748574\n",
       "2021-04-20    0.752588\n",
       "2021-04-21    0.733567\n",
       "2021-04-22    0.733567\n",
       "2021-04-23    0.724950\n",
       "2021-04-24    0.718957\n",
       "2021-04-25    0.716034\n",
       "2021-04-26    0.716034\n",
       "2021-04-27    0.712400\n",
       "2021-04-28    0.712400\n",
       "2021-04-29    0.699688\n",
       "2021-04-30    0.699688\n",
       "2021-05-01    0.697545\n",
       "2021-05-02    0.691559\n",
       "2021-05-03    0.691559\n",
       "2021-05-04    0.680360\n",
       "2021-05-05    0.678744\n",
       "2021-05-06    0.687457\n",
       "Name: total_value, dtype: float64"
      ]
     },
     "execution_count": 9,
     "metadata": {},
     "output_type": "execute_result"
    }
   ],
   "source": [
    "# Daily value\n",
    "results[results.index.hour + results.index.minute == 0]['total_value']"
   ]
  }
 ],
 "metadata": {
  "kernelspec": {
   "display_name": "Python 3",
   "language": "python",
   "name": "python3"
  },
  "language_info": {
   "codemirror_mode": {
    "name": "ipython",
    "version": 3
   },
   "file_extension": ".py",
   "mimetype": "text/x-python",
   "name": "python",
   "nbconvert_exporter": "python",
   "pygments_lexer": "ipython3",
   "version": "3.8.5"
  }
 },
 "nbformat": 4,
 "nbformat_minor": 4
}
