{
 "cells": [
  {
   "cell_type": "code",
   "execution_count": 1,
   "metadata": {},
   "outputs": [],
   "source": [
    "buy_decision_model = 'dummy'\n",
    "price_decision_model = 'dummy'\n",
    "start_simulation = '2017-10-01' #YYYY-MM-DD\n",
    "end_simulation = '2021-12-31' #YYYY-MM-DD\n",
    "symbol = 'ETHBTC'\n",
    "max_batch_size = 5000 # purely for lambda memory considerations\n",
    "starting_funds = 1"
   ]
  },
  {
   "cell_type": "code",
   "execution_count": 2,
   "metadata": {},
   "outputs": [],
   "source": [
    "import psycopg2\n",
    "import pandas as pd\n",
    "import numpy as np\n",
    "import re\n",
    "\n",
    "# models\n",
    "import buy_decision\n",
    "import price_decision"
   ]
  },
  {
   "cell_type": "code",
   "execution_count": 3,
   "metadata": {},
   "outputs": [
    {
     "name": "stdout",
     "output_type": "stream",
     "text": [
      "PostgreSQL connection data taken from hidden.py\n"
     ]
    }
   ],
   "source": [
    "# local only\n",
    "import hidden\n",
    "sql_string = hidden.psycopg2(hidden.secrets())\n",
    "print('PostgreSQL connection data taken from hidden.py')\n",
    "\n",
    "# Make the connection and cursor\n",
    "conn = psycopg2.connect(sql_string, connect_timeout=3)"
   ]
  },
  {
   "cell_type": "code",
   "execution_count": 4,
   "metadata": {},
   "outputs": [],
   "source": [
    "import datetime\n",
    "def validate(date_text):\n",
    "    try:\n",
    "        datetime.datetime.strptime(date_text, '%Y-%m-%d')\n",
    "    except ValueError:\n",
    "        raise ValueError(\"Incorrect data format, should be YYYY-MM-DD\")\n",
    "        \n",
    "# validate start / end string format input to protect against injection\n",
    "validate(start_simulation)\n",
    "validate(end_simulation)\n",
    "\n",
    "# validate symbol\n",
    "assert re.match('^[A-Z]{2,}$', symbol), f\"{symbol} is invalid symbol\"\n",
    "\n",
    "# validate starting funds\n",
    "assert starting_funds > 0, \"Starting funds for must be > 0\"\n",
    "\n",
    "# validate batch size\n",
    "assert (isinstance(max_batch_size, int) and max_batch_size > 0), f\"{max_batch_size} is not a valid batch size\"\n",
    "\n",
    "# validate model names too!\n",
    "# TODO: validate model names"
   ]
  },
  {
   "cell_type": "code",
   "execution_count": 5,
   "metadata": {},
   "outputs": [],
   "source": [
    "def get_batch_data(pair_symbol, start_time, end_time, batch_size):\n",
    "    # TODO: this needs to be expanded to include engineered features\n",
    "    sql = f\"\"\"\n",
    "    select * from candlestick_15m cm \n",
    "    inner join pairs p on cm.pair_id = p.id \n",
    "    where\n",
    "        p.symbol = '{pair_symbol}'\n",
    "        and cm.close_time notnull\n",
    "        and cm.open_time between '{start_time}' and '{end_time}'\n",
    "    order by cm.open_time limit {batch_size}\n",
    "    \"\"\"\n",
    "    df = pd.read_sql_query(sql, conn)\n",
    "    return df"
   ]
  },
  {
   "cell_type": "code",
   "execution_count": 6,
   "metadata": {},
   "outputs": [],
   "source": [
    "# initialization\n",
    "\n",
    "buy_model = buy_decision.__dict__[buy_decision_model]\n",
    "price_model = price_decision.__dict__[price_decision_model]\n",
    "buy_columns = buy_model.columns()\n",
    "price_columns = price_model.columns()\n",
    "stop_loss_trigger = None\n",
    "target_trigger = None"
   ]
  },
  {
   "cell_type": "code",
   "execution_count": 7,
   "metadata": {
    "scrolled": false
   },
   "outputs": [],
   "source": [
    "current_time = start_simulation\n",
    "all_output = []\n",
    "\n",
    "while True:\n",
    "    # this batch data should also include feature engineering\n",
    "    batch_data = get_batch_data(symbol, current_time, end_simulation, max_batch_size)\n",
    "    \n",
    "    if len(batch_data) == 0:\n",
    "        break\n",
    "    \n",
    "    batch_buy_decision = buy_decision.__dict__[buy_decision_model].make_decision(batch_data[buy_columns].values)\n",
    "    batch_price_decision = price_decision.__dict__[price_decision_model].stop_loss_target_range(batch_data[price_columns].values)\n",
    "\n",
    "    output = batch_data[['open_time','open', 'high', 'low', 'close']].copy()\n",
    "    output['buy_decision'] = batch_buy_decision\n",
    "    output[['stop-loss_price', 'target_price']] = batch_price_decision\n",
    "    \n",
    "    all_output.append(output)\n",
    "    current_time = batch_data['close_time'].max()\n",
    "\n",
    "results = pd.concat(all_output).set_index('open_time')"
   ]
  },
  {
   "cell_type": "code",
   "execution_count": 8,
   "metadata": {},
   "outputs": [],
   "source": [
    "results[['fund1','fund2']] = np.nan\n",
    "cur_funds = [starting_funds,0]\n",
    "results.iloc[0, results.columns.get_loc('fund1')] = starting_funds\n",
    "results.iloc[0, results.columns.get_loc('fund2')] = 0\n",
    "\n",
    "for x,r in results.iterrows():\n",
    "    if cur_funds[0] > 0:\n",
    "        if r['buy_decision'] == True:\n",
    "            cur_funds[1] = cur_funds[0] * r['close']\n",
    "            cur_funds[0] = 0\n",
    "            results.loc[x,'fund1'] = cur_funds[0]\n",
    "            results.loc[x,'fund2'] = cur_funds[1]\n",
    "            stop_loss_trigger = r['stop-loss_price']\n",
    "            target_trigger = r['target_price']\n",
    "    else:\n",
    "        if r['high'] >= target_trigger:\n",
    "            cur_funds[0] = cur_funds[1] / target_trigger\n",
    "            cur_funds[1] = 0\n",
    "            results.loc[x,'fund1'] = cur_funds[0]\n",
    "            results.loc[x,'fund2'] = cur_funds[1]\n",
    "        elif r['low'] <= stop_loss_trigger:\n",
    "            cur_funds[0] = cur_funds[1] / stop_loss_trigger\n",
    "            cur_funds[1] = 0\n",
    "            results.loc[x,'fund1'] = cur_funds[0]\n",
    "            results.loc[x,'fund2'] = cur_funds[1]\n",
    "results['total_value'] = results['fund1'] + results['fund2'] / results['close']\n",
    "results = results.ffill()"
   ]
  },
  {
   "cell_type": "code",
   "execution_count": 9,
   "metadata": {},
   "outputs": [
    {
     "name": "stdout",
     "output_type": "stream",
     "text": [
      "Relative ETH value of portfolio\n"
     ]
    },
    {
     "data": {
      "text/plain": [
       "<AxesSubplot:xlabel='open_time'>"
      ]
     },
     "execution_count": 9,
     "metadata": {},
     "output_type": "execute_result"
    },
    {
     "data": {
      "image/png": "[encoded data removed]",
      "text/plain": [
       "<Figure size 432x288 with 1 Axes>"
      ]
     },
     "metadata": {
      "needs_background": "light"
     },
     "output_type": "display_data"
    }
   ],
   "source": [
    "print(\"Relative ETH value of portfolio\")\n",
    "results.total_value.plot()"
   ]
  }
 ],
 "metadata": {
  "kernelspec": {
   "display_name": "Python 3",
   "language": "python",
   "name": "python3"
  },
  "language_info": {
   "codemirror_mode": {
    "name": "ipython",
    "version": 3
   },
   "file_extension": ".py",
   "mimetype": "text/x-python",
   "name": "python",
   "nbconvert_exporter": "python",
   "pygments_lexer": "ipython3",
   "version": "3.8.5"
  }
 },
 "nbformat": 4,
 "nbformat_minor": 4
}
