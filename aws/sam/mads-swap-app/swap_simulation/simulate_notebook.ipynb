{
 "cells": [
  {
   "cell_type": "code",
   "execution_count": 8,
   "metadata": {},
   "outputs": [],
   "source": [
    "buy_decision_model = 'dummy'\n",
    "price_decision_model = 'dummy'\n",
    "start_simulation = '2018-10-01' #YYYY-MM-DD\n",
    "end_simulation = '2018-12-31' #YYYY-MM-DD\n",
    "symbol = 'ETHBTC'\n",
    "max_batch_size = 1000 # purely for lambda memory considerations\n",
    "funds = (1,0) # in pair order"
   ]
  },
  {
   "cell_type": "code",
   "execution_count": 2,
   "metadata": {},
   "outputs": [],
   "source": [
    "import psycopg2\n",
    "import pandas as pd\n",
    "import numpy as np\n",
    "import re\n",
    "\n",
    "# models\n",
    "import buy_decision\n",
    "import price_decision"
   ]
  },
  {
   "cell_type": "code",
   "execution_count": 3,
   "metadata": {},
   "outputs": [
    {
     "name": "stdout",
     "output_type": "stream",
     "text": [
      "PostgreSQL connection data taken from hidden.py\n"
     ]
    }
   ],
   "source": [
    "# local only\n",
    "import hidden\n",
    "sql_string = hidden.psycopg2(hidden.secrets())\n",
    "print('PostgreSQL connection data taken from hidden.py')\n",
    "\n",
    "# Make the connection and cursor\n",
    "conn = psycopg2.connect(sql_string, connect_timeout=3)"
   ]
  },
  {
   "cell_type": "code",
   "execution_count": 9,
   "metadata": {},
   "outputs": [],
   "source": [
    "import datetime\n",
    "def validate(date_text):\n",
    "    try:\n",
    "        datetime.datetime.strptime(date_text, '%Y-%m-%d')\n",
    "    except ValueError:\n",
    "        raise ValueError(\"Incorrect data format, should be YYYY-MM-DD\")\n",
    "        \n",
    "# validate start / end string format input to protect against injection\n",
    "validate(start_simulation)\n",
    "validate(end_simulation)\n",
    "\n",
    "# validate symbol\n",
    "assert re.match('^[A-Z]{2,}$', symbol), f\"{symbol} is invalid symbol\"\n",
    "\n",
    "# validate starting funds\n",
    "assert funds[0] > 0, \"Starting funds for coin 1 must be > 0, since we always buy first\"\n",
    "\n",
    "# validate batch size\n",
    "assert (isinstance(max_batch_size, int) and max_batch_size > 0), f\"{max_batch_size} is not a valid batch size\"\n",
    "\n",
    "# validate model names too!\n",
    "# TODO: validate model names"
   ]
  },
  {
   "cell_type": "code",
   "execution_count": 10,
   "metadata": {},
   "outputs": [],
   "source": [
    "def get_batch_data(pair_symbol, start_time, end_time, batch_size):\n",
    "    # TODO: this needs to be expanded to include engineered features\n",
    "    sql = f\"\"\"\n",
    "    select * from candlestick_15m cm \n",
    "    inner join pairs p on cm.pair_id = p.id \n",
    "    where\n",
    "        p.symbol = '{pair_symbol}'\n",
    "        and cm.close_time notnull\n",
    "        and cm.open_time between '{start_time}' and '{end_time}'\n",
    "    order by cm.open_time limit {batch_size}\n",
    "    \"\"\"\n",
    "    df = pd.read_sql_query(sql, conn)\n",
    "    return df"
   ]
  },
  {
   "cell_type": "code",
   "execution_count": 11,
   "metadata": {},
   "outputs": [],
   "source": [
    "# initialization\n",
    "\n",
    "buy_model = buy_decision.__dict__[buy_decision_model]\n",
    "price_model = price_decision.__dict__[price_decision_model]\n",
    "buy_columns = buy_model.columns()\n",
    "price_columns = price_model.columns()"
   ]
  },
  {
   "cell_type": "code",
   "execution_count": 12,
   "metadata": {
    "scrolled": false
   },
   "outputs": [],
   "source": [
    "current_time = start_simulation\n",
    "all_output = []\n",
    "while True:\n",
    "    # this batch data should also include feature engineering\n",
    "    batch_data = get_batch_data(symbol, current_time, end_simulation, max_batch_size)\n",
    "    \n",
    "    if len(batch_data) == 0:\n",
    "        break\n",
    "    \n",
    "    batch_buy_decision = buy_decision.__dict__[buy_decision_model].make_decision(batch_data[buy_columns].values)\n",
    "    batch_price_decision = price_decision.__dict__[price_decision_model].stop_loss_target_range(batch_data[price_columns].values)\n",
    "\n",
    "    output = batch_data[['open_time']].copy()\n",
    "    output['buy_decision'] = batch_buy_decision\n",
    "    output[['stop-loss_price', 'target_price']] = batch_price_decision\n",
    "    \n",
    "    all_output.append(output)\n",
    "    current_time = batch_data['close_time'].max()\n",
    "\n",
    "results = pd.concat(all_output)"
   ]
  },
  {
   "cell_type": "code",
   "execution_count": 13,
   "metadata": {},
   "outputs": [
    {
     "data": {
      "text/html": [
       "<div>\n",
       "<style scoped>\n",
       "    .dataframe tbody tr th:only-of-type {\n",
       "        vertical-align: middle;\n",
       "    }\n",
       "\n",
       "    .dataframe tbody tr th {\n",
       "        vertical-align: top;\n",
       "    }\n",
       "\n",
       "    .dataframe thead th {\n",
       "        text-align: right;\n",
       "    }\n",
       "</style>\n",
       "<table border=\"1\" class=\"dataframe\">\n",
       "  <thead>\n",
       "    <tr style=\"text-align: right;\">\n",
       "      <th></th>\n",
       "      <th>open_time</th>\n",
       "      <th>buy_decision</th>\n",
       "      <th>stop-loss_price</th>\n",
       "      <th>target_price</th>\n",
       "    </tr>\n",
       "  </thead>\n",
       "  <tbody>\n",
       "    <tr>\n",
       "      <th>0</th>\n",
       "      <td>2018-10-01 00:00:00</td>\n",
       "      <td>False</td>\n",
       "      <td>0.033416</td>\n",
       "      <td>0.036934</td>\n",
       "    </tr>\n",
       "    <tr>\n",
       "      <th>1</th>\n",
       "      <td>2018-10-01 00:15:00</td>\n",
       "      <td>False</td>\n",
       "      <td>0.033453</td>\n",
       "      <td>0.036975</td>\n",
       "    </tr>\n",
       "    <tr>\n",
       "      <th>2</th>\n",
       "      <td>2018-10-01 00:30:00</td>\n",
       "      <td>False</td>\n",
       "      <td>0.033450</td>\n",
       "      <td>0.036972</td>\n",
       "    </tr>\n",
       "    <tr>\n",
       "      <th>3</th>\n",
       "      <td>2018-10-01 00:45:00</td>\n",
       "      <td>False</td>\n",
       "      <td>0.033468</td>\n",
       "      <td>0.036991</td>\n",
       "    </tr>\n",
       "    <tr>\n",
       "      <th>4</th>\n",
       "      <td>2018-10-01 01:00:00</td>\n",
       "      <td>False</td>\n",
       "      <td>0.033375</td>\n",
       "      <td>0.036889</td>\n",
       "    </tr>\n",
       "    <tr>\n",
       "      <th>...</th>\n",
       "      <td>...</td>\n",
       "      <td>...</td>\n",
       "      <td>...</td>\n",
       "      <td>...</td>\n",
       "    </tr>\n",
       "    <tr>\n",
       "      <th>690</th>\n",
       "      <td>2018-12-30 23:00:00</td>\n",
       "      <td>False</td>\n",
       "      <td>0.034324</td>\n",
       "      <td>0.037938</td>\n",
       "    </tr>\n",
       "    <tr>\n",
       "      <th>691</th>\n",
       "      <td>2018-12-30 23:15:00</td>\n",
       "      <td>False</td>\n",
       "      <td>0.034379</td>\n",
       "      <td>0.037997</td>\n",
       "    </tr>\n",
       "    <tr>\n",
       "      <th>692</th>\n",
       "      <td>2018-12-30 23:30:00</td>\n",
       "      <td>False</td>\n",
       "      <td>0.034350</td>\n",
       "      <td>0.037966</td>\n",
       "    </tr>\n",
       "    <tr>\n",
       "      <th>693</th>\n",
       "      <td>2018-12-30 23:45:00</td>\n",
       "      <td>False</td>\n",
       "      <td>0.034341</td>\n",
       "      <td>0.037955</td>\n",
       "    </tr>\n",
       "    <tr>\n",
       "      <th>694</th>\n",
       "      <td>2018-12-31 00:00:00</td>\n",
       "      <td>False</td>\n",
       "      <td>0.034422</td>\n",
       "      <td>0.038046</td>\n",
       "    </tr>\n",
       "  </tbody>\n",
       "</table>\n",
       "<p>8695 rows × 4 columns</p>\n",
       "</div>"
      ],
      "text/plain": [
       "              open_time  buy_decision  stop-loss_price  target_price\n",
       "0   2018-10-01 00:00:00         False         0.033416      0.036934\n",
       "1   2018-10-01 00:15:00         False         0.033453      0.036975\n",
       "2   2018-10-01 00:30:00         False         0.033450      0.036972\n",
       "3   2018-10-01 00:45:00         False         0.033468      0.036991\n",
       "4   2018-10-01 01:00:00         False         0.033375      0.036889\n",
       "..                  ...           ...              ...           ...\n",
       "690 2018-12-30 23:00:00         False         0.034324      0.037938\n",
       "691 2018-12-30 23:15:00         False         0.034379      0.037997\n",
       "692 2018-12-30 23:30:00         False         0.034350      0.037966\n",
       "693 2018-12-30 23:45:00         False         0.034341      0.037955\n",
       "694 2018-12-31 00:00:00         False         0.034422      0.038046\n",
       "\n",
       "[8695 rows x 4 columns]"
      ]
     },
     "execution_count": 13,
     "metadata": {},
     "output_type": "execute_result"
    }
   ],
   "source": [
    "results"
   ]
  },
  {
   "cell_type": "code",
   "execution_count": null,
   "metadata": {},
   "outputs": [],
   "source": []
  }
 ],
 "metadata": {
  "kernelspec": {
   "display_name": "Python 3",
   "language": "python",
   "name": "python3"
  },
  "language_info": {
   "codemirror_mode": {
    "name": "ipython",
    "version": 3
   },
   "file_extension": ".py",
   "mimetype": "text/x-python",
   "name": "python",
   "nbconvert_exporter": "python",
   "pygments_lexer": "ipython3",
   "version": "3.8.5"
  }
 },
 "nbformat": 4,
 "nbformat_minor": 4
}
