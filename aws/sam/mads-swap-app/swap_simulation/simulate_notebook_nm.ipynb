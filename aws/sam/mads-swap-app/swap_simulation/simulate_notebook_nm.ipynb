{
 "cells": [
  {
   "cell_type": "markdown",
   "metadata": {},
   "source": [
    "# Instructions for getting dataframe from RDS\n",
    "\n",
    "```\n",
    "get_batch_data(\n",
    "    base_coin='ETH',\n",
    "    quote_coin='BTC',\n",
    "    start_time='2021-01-01',                  #YYYY-MM-DD\n",
    "    end_time='2021-07-01',                    #YYYY-MM-DD\n",
    "    columns=['close','close_30','close_100'], # any valid features with `_x` suffix support\n",
    "    batch_size=1000000,                       # Large number to get everything\n",
    "    extra_rows=10,                            # Fetch extra rows for custom feature engineering\n",
    "    use_cache=False,                          # Cache can be used when current time > end_time\n",
    ")\n",
    "\n",
    "VALID_FEATURES = [\n",
    "    'pair_id','open_time','close_time','dow','tod',\n",
    "    'open','high','low','close',\n",
    "    'number_of_trades','volume','quote_asset_volume','taker_buy_base_asset_volume','taker_buy_quote_asset_volume',\n",
    "    'ma14','ma30','ma90',\n",
    "    'sup14','sup30','sup90',\n",
    "    'res14','res30','res90',\n",
    "    'atr','atr_diff','atr_ma14',\n",
    "    'rsi','rsi_diff','rsi_ma14',\n",
    "    'trend_up','trend_up3','trend_up14','trend_up30',\n",
    "    'cs_ss','cs_ssr','cs_hm','cs_hmr','cs_brh','cs_buh','cs_ebu','cs_ebr'\n",
    "]\n",
    "```"
   ]
  },
  {
   "cell_type": "markdown",
   "metadata": {},
   "source": [
    "# Instructions for Manual Simulation\n",
    "\n",
    "1. Decide on a name for your model.  Add first letter of your name and numbers as prefix  For example: `t0_dummy`.\n",
    "2. Create a `.py` file with the name of your model in the `trade_models` directory (`./trade_models/t0_dummy.py`)\n",
    "3. Import your model in `./trade_models/__init__.py` by adding `from . import t0_dummy`\n",
    "4. Place any pre-trained models or scalers into the `./trade_models/assets/` directory with your model name as prefix.\n",
    "5. Configure portfolio in the following cells.\n",
    "    1. For `max_batch_size`, it is purely for memory considerations.  It does an SQL query per batch, so don't make it too small.\n",
    "    2. Parameters inside portfolios are accessible inside the trade models\n",
    "6. Run all\n",
    "\n",
    "Sample portfolio (all fields must exist)\n",
    "```\n",
    "    {\n",
    "        # Common parameters\n",
    "        'portfolio_name' : f'ETH <-> BTC t0_dummy no fees',\n",
    "        'trade_model' : 't0_dummy',      # name of the model to use\n",
    "        'starting_coin' : 'ETH',         # aka the \"base\" coin\n",
    "        'pair_coin' : 'BTC',             # aka the \"quote\" coin\n",
    "        'max_batch_size' : 10000,        # how many entries to process per batch\n",
    "        'starting_funds' : 16,           # amount of funds for starting coin\n",
    "        'trading_fees_percent' : 0.1,    # trading fees in percent (0.1%)\n",
    "        'trading_fees_buy' : 0.005,      # (0.005 ETH transaction fee to buy BTC)\n",
    "        'trading_fees_sell' : 0.0004,    # (0.0004 BTC transaction fee to sell back to ETC)\n",
    "\n",
    "        # Optional model specific parameteres\n",
    "        'parameter_sample' : 'test',     # these variables are accessible in your model\n",
    "    }\n",
    "```"
   ]
  },
  {
   "cell_type": "code",
   "execution_count": 1,
   "metadata": {},
   "outputs": [],
   "source": [
    "start_simulation = '2021-01-01' #YYYY-MM-DD\n",
    "end_simulation = '2021-07-27' #YYYY-MM-DD\n",
    "\n",
    "portfolios = [\n",
    "    {\n",
    "        'portfolio_name' : f'NM_ETHBTC_GradBoost_alpha1',\n",
    "        'trade_model' : 'n0_alpha1',\n",
    "        'model_filepath': 'trade_models/assets/nm_grad_boost_ethbtc_2107261356.pkl',\n",
    "        'starting_coin' : 'ETH',\n",
    "        'pair_coin' : 'BTC',\n",
    "        'max_batch_size' : 10000,\n",
    "        'extra_rows' : 0,\n",
    "        'starting_funds' : 1,\n",
    "        'trading_fees_percent' : 0.1,\n",
    "        'trading_fees_buy' : 0,\n",
    "        'trading_fees_sell' : 0,\n",
    "    },\n",
    "    {\n",
    "        'portfolio_name' : f'NM_ETHBTC_XGBoost_alpha1',\n",
    "        'trade_model' : 'n0_alpha1',\n",
    "        'model_filepath': 'trade_models/assets/nm_xgb_ethbtc_2107271617.pkl',\n",
    "        'starting_coin' : 'ETH',\n",
    "        'pair_coin' : 'BTC',\n",
    "        'max_batch_size' : 10000,\n",
    "        'extra_rows' : 0,\n",
    "        'starting_funds' : 1,\n",
    "        'trading_fees_percent' : 0.1,\n",
    "        'trading_fees_buy' : 0,\n",
    "        'trading_fees_sell' : 0,\n",
    "    },\n",
    "#     {\n",
    "#         'portfolio_name' : f'ETH <-> BTC XGBoost',\n",
    "#         'trade_model' : 'n0_alpha2',\n",
    "#         'model_filepath': 'trade_models/assets/nm_xgb_ethbtc_2107271617.pkl',\n",
    "#         'starting_coin' : 'ETH',\n",
    "#         'pair_coin' : 'BTC',\n",
    "#         'max_batch_size' : 10000,\n",
    "#         'extra_rows' : 0,\n",
    "#         'starting_funds' : 1,\n",
    "#         'trading_fees_percent' : 0.1,\n",
    "#         'trading_fees_buy' : 0,\n",
    "#         'trading_fees_sell' : 0,\n",
    "#     },\n",
    "]"
   ]
  },
  {
   "cell_type": "markdown",
   "metadata": {},
   "source": [
    "# STOP\n",
    "\n",
    "You shouldn't need to modify anything below this cell\n",
    "\n",
    "# CODE FOR SIMULATION STARTS"
   ]
  },
  {
   "cell_type": "code",
   "execution_count": 2,
   "metadata": {},
   "outputs": [],
   "source": [
    "import psycopg2\n",
    "import pandas as pd\n",
    "import numpy as np\n",
    "import re\n",
    "from datetime import datetime\n",
    "import pytz\n",
    "import re\n",
    "from operator import itemgetter\n",
    "\n",
    "# models\n",
    "import trade_models\n",
    "\n",
    "VALID_FEATURES = [\n",
    "    'pair_id','open_time','close_time','dow','tod',\n",
    "    'open','high','low','close',\n",
    "    'number_of_trades','volume','quote_asset_volume','taker_buy_base_asset_volume','taker_buy_quote_asset_volume',\n",
    "    'ma14','ma30','ma90',\n",
    "    'sup14','sup30','sup90',\n",
    "    'res14','res30','res90',\n",
    "    'atr','atr_diff','atr_ma14',\n",
    "    'rsi','rsi_diff','rsi_ma14',\n",
    "    'trend_up','trend_up3','trend_up14','trend_up30',\n",
    "    'cs_ss','cs_ssr','cs_hm','cs_hmr','cs_brh','cs_buh','cs_ebu','cs_ebr'\n",
    "]"
   ]
  },
  {
   "cell_type": "code",
   "execution_count": 4,
   "metadata": {},
   "outputs": [
    {
     "name": "stdout",
     "output_type": "stream",
     "text": [
      "PostgreSQL connection data taken from hidden.py\n"
     ]
    }
   ],
   "source": [
    "# local postgres connection only\n",
    "import hidden\n",
    "sql_string = hidden.psycopg2(hidden.secrets())\n",
    "print('PostgreSQL connection data taken from hidden.py')\n",
    "\n",
    "# Make the connection and cursor\n",
    "conn = psycopg2.connect(sql_string, connect_timeout=3)"
   ]
  },
  {
   "cell_type": "code",
   "execution_count": 5,
   "metadata": {},
   "outputs": [],
   "source": [
    "# validate inputs and portfolio parameters\n",
    "\n",
    "def validate(date_text):\n",
    "    try:\n",
    "        datetime.strptime(date_text, '%Y-%m-%d')\n",
    "    except ValueError:\n",
    "        raise ValueError(\"Incorrect data format, should be YYYY-MM-DD\")\n",
    "        \n",
    "# validate start / end string format input to protect against injection\n",
    "validate(start_simulation)\n",
    "validate(end_simulation)\n",
    "\n",
    "for p in portfolios:\n",
    "    # validate symbol\n",
    "    assert re.match('^[A-Z]{2,}$', p['starting_coin']), f\"{p['starting_coin']} is invalid starting coin\"\n",
    "    assert re.match('^[A-Z]{2,}$', p['pair_coin']), f\"{p['pair_coin']} is invalid pair coin\"\n",
    "\n",
    "    # validate starting funds\n",
    "    assert p['starting_funds'] > 0, \"Starting funds for must be > 0\"\n",
    "\n",
    "    # validate fees\n",
    "    assert p['trading_fees_percent'] >= 0, \"Trading Fees % for must be >= 0%\"\n",
    "    assert p['trading_fees_percent'] < 100, \"Trading Fees % for must be < 100%\"\n",
    "    assert p['trading_fees_buy'] >= 0, \"Trading Fees (buy) for must be >= 0\"\n",
    "    assert p['trading_fees_sell'] >= 0, \"Trading Fees (sell) for must be >= 0\"\n",
    "\n",
    "    # validate batch size\n",
    "    assert (isinstance(p['max_batch_size'], int) and p['max_batch_size'] > 0), f\"{p['max_batch_size']} is not a valid batch size\"\n",
    "\n",
    "    # maybe we should validate model names too!\n",
    "    # TODO: validate model names"
   ]
  },
  {
   "cell_type": "code",
   "execution_count": 6,
   "metadata": {},
   "outputs": [],
   "source": [
    "# These are only used for caching\n",
    "import hashlib\n",
    "import pickle\n",
    "\n",
    "def get_batch_data(base_coin, quote_coin, start_time, end_time, columns, batch_size=10000, extra_rows=0, use_cache=True):\n",
    "    column_info = [(x,) + re.match('^(?P<feature>[a-z][a-z0-9]*(?:_[a-z][a-z0-9]*)*)(?:_(?P<shift>[0-9]{1,3}))?$',x).groups() for x in columns]\n",
    "    max_lookback = max([(0 if x==None else int(x)) for _,_,x in column_info])\n",
    "    s = base_coin+quote_coin+f\"{start_time}\"+f\"{end_time}\"+\"\".join(columns)+str(batch_size)+str(extra_rows)\n",
    "    h = hashlib.md5(s.encode('utf-8')).hexdigest()\n",
    "    should_use_cache = use_cache and (datetime.strptime(end_time, '%Y-%m-%d') < datetime.now(pytz.timezone('UTC')).replace(tzinfo=None))\n",
    "    if should_use_cache:\n",
    "        # Can use cache\n",
    "        try:\n",
    "            with open(f'./cache_data/{h}.pkl', 'rb') as fp:\n",
    "                print(f\"Using cache file: ./cache_data/{h}.pkl\")\n",
    "                return pickle.load(fp)\n",
    "        except:\n",
    "            print(f\"No cache found\")\n",
    "            pass\n",
    "\n",
    "    sql = f\"\"\"\n",
    "select\n",
    "    f.*, open_time, open, high, low, close, volume, close_time, quote_asset_volume, number_of_trades, taker_buy_base_asset_volume, taker_buy_quote_asset_volume\t\n",
    "from\n",
    "    (\n",
    "        (select * from (select id as the_pair from pairs p where p.coin1='{base_coin}' and p.coin2='{quote_coin}') z inner join candlestick_15m on the_pair=pair_id where close_time notnull and open_time < '{start_time}' order by open_time desc limit {max_lookback + extra_rows})\n",
    "            union all\n",
    "        (select * from (select id as the_pair from pairs p where p.coin1='{base_coin}' and p.coin2='{quote_coin}') z inner join candlestick_15m on the_pair=pair_id where close_time notnull and open_time between '{start_time}' and '{end_time}' order by open_time limit {batch_size})\n",
    "    ) cm\n",
    "inner join \n",
    "    features f on f.pair_id = cm.pair_id and f.candle_open_time = cm.open_time\n",
    "order by\n",
    "    open_time desc\n",
    "\"\"\"\n",
    "    base_df = pd.read_sql_query(sql, conn)\n",
    "    df = base_df[['candle_open_time']].copy()\n",
    "    for name, feature, shift in column_info:\n",
    "        assert feature in VALID_FEATURES, f\"Invalid feature: {feature} for {name}\"\n",
    "        df[name] = base_df[feature].shift((0 if shift==None else -int(shift)))\n",
    "        \n",
    "    if extra_rows == 0:\n",
    "        extra_df = None\n",
    "    else:\n",
    "        extra_df = df.copy()\n",
    "        extra_df['is_extra'] = ~extra_df['candle_open_time'].between(start_time, end_time)\n",
    "        extra_df = extra_df.set_index('candle_open_time').sort_index()\n",
    "        \n",
    "    df = df[df['candle_open_time'].between(start_time, end_time)]\n",
    "    df = df.set_index('candle_open_time').sort_index()\n",
    "\n",
    "    ref_df = base_df[['open_time','open', 'high', 'low', 'close']].copy()\n",
    "    ref_df = ref_df[ref_df['open_time'].between(start_time, end_time)]\n",
    "    ref_df = ref_df.set_index('open_time').sort_index()\n",
    "\n",
    "    batch_close_time = base_df['close_time'].max()\n",
    "    \n",
    "    if should_use_cache:\n",
    "        with open(f'./cache_data/{h}.pkl', 'wb') as fp:\n",
    "            print(f\"Saving cache to: ./cache_data/{h}.pkl\")\n",
    "            pickle.dump((df, ref_df, extra_df, batch_close_time), fp, protocol=4)\n",
    "\n",
    "    return df, ref_df, extra_df, batch_close_time"
   ]
  },
  {
   "cell_type": "code",
   "execution_count": 35,
   "metadata": {},
   "outputs": [],
   "source": [
    "def simulate_portfolio(start_time, end_time, portfolio):\n",
    "    portfolio_name = portfolio['portfolio_name']\n",
    "    trade_model = portfolio['trade_model']\n",
    "    starting_coin = portfolio['starting_coin']\n",
    "    pair_coin = portfolio['pair_coin']\n",
    "    max_batch_size = portfolio['max_batch_size']\n",
    "    extra_rows = portfolio['extra_rows']\n",
    "    starting_funds = portfolio['starting_funds']\n",
    "    fee_multiplier = 1.0 - portfolio['trading_fees_percent'] / 100\n",
    "    trading_fees_buy = portfolio['trading_fees_buy']\n",
    "    trading_fees_sell = portfolio['trading_fees_sell']\n",
    "    \n",
    "    model = trade_models.__dict__[trade_model]\n",
    "    columns = model.columns()\n",
    "\n",
    "    current_time = start_time\n",
    "    all_output = []\n",
    "    \n",
    "    info_dict = {'portfolio':portfolio}\n",
    "\n",
    "    while True:\n",
    "        # this batch data should also include feature engineering\n",
    "        print(\"next batch: \", current_time, end=\": \")\n",
    "        batch_data, ref_data, extra_data, batch_close_time = get_batch_data(starting_coin, pair_coin, current_time, end_time, columns, max_batch_size, extra_rows, True)\n",
    "        if len(batch_data) == 0:\n",
    "            break\n",
    "\n",
    "        batch_model_decision = model.make_decision(batch_data[columns], extra_data, info_dict)\n",
    "\n",
    "        ref_data['trade_decision'] = batch_model_decision\n",
    "\n",
    "        all_output.append(ref_data)\n",
    "        current_time = batch_close_time\n",
    "\n",
    "    results = pd.concat(all_output)\n",
    "    \n",
    "    results[['fund1','fund2','action']] = np.nan\n",
    "    cur_funds = [starting_funds,0]\n",
    "    results.iloc[0, results.columns.get_loc('fund1')] = starting_funds\n",
    "    results.iloc[0, results.columns.get_loc('fund2')] = 0\n",
    "\n",
    "    print(\"...Simulating actions...\")\n",
    "    \n",
    "    for x,r in results.iterrows():\n",
    "        if cur_funds[0] > 0:\n",
    "            if r['trade_decision'] == 1:\n",
    "                cur_funds[1] = ((cur_funds[0]-trading_fees_buy) * r['close']) * fee_multiplier\n",
    "                cur_funds[0] = 0\n",
    "                results.loc[x,'fund1'] = cur_funds[0]\n",
    "                results.loc[x,'fund2'] = cur_funds[1]\n",
    "                results.loc[x,'action'] = 'buy'\n",
    "        else:\n",
    "            if r['trade_decision'] == -1:\n",
    "                cur_funds[0] = ((cur_funds[1]-trading_fees_sell) / r['open']) * fee_multiplier\n",
    "                cur_funds[1] = 0\n",
    "                results.loc[x,'fund1'] = cur_funds[0]\n",
    "                results.loc[x,'fund2'] = cur_funds[1]\n",
    "                results.loc[x,'action'] = 'sell'\n",
    "    results[['fund1','fund2']] = results[['fund1','fund2']].ffill()\n",
    "    results['total_value'] = results['fund1'] + results['fund2'] / results['close']\n",
    "    results['action'] = results['action'].fillna('none')\n",
    "    return portfolio_name, results"
   ]
  },
  {
   "cell_type": "markdown",
   "metadata": {},
   "source": [
    "# START OF SIMULATION"
   ]
  },
  {
   "cell_type": "code",
   "execution_count": 36,
   "metadata": {
    "scrolled": false
   },
   "outputs": [
    {
     "name": "stdout",
     "output_type": "stream",
     "text": [
      "\"NM_ETHBTC_GradBoost_alpha1\"\n",
      "next batch:  2021-01-01: Using cache file: ./cache_data/584434beddf4517121aaa4f401e16bad.pkl\n",
      "next batch:  2021-04-15 06:44:59.999000: Using cache file: ./cache_data/29e42daed725ce092b0017597272ebe3.pkl\n",
      "next batch:  2021-07-27 00:14:59: Using cache file: ./cache_data/fb0d546e080e9b823f0922a8534b0689.pkl\n",
      "...Simulating actions...\n",
      "Wall time: 2.01 s\n",
      "Final value: 1.0\n",
      "\n",
      "\n",
      "\"NM_ETHBTC_XGBoost_alpha1\"\n",
      "next batch:  2021-01-01: Using cache file: ./cache_data/584434beddf4517121aaa4f401e16bad.pkl\n",
      "next batch:  2021-04-15 06:44:59.999000: Using cache file: ./cache_data/29e42daed725ce092b0017597272ebe3.pkl\n",
      "next batch:  2021-07-27 00:14:59: Using cache file: ./cache_data/fb0d546e080e9b823f0922a8534b0689.pkl\n",
      "...Simulating actions...\n",
      "Wall time: 2.01 s\n",
      "Final value: 1.0\n",
      "\n",
      "\n"
     ]
    }
   ],
   "source": [
    "simulation_results = {}\n",
    "\n",
    "for p in portfolios:\n",
    "    print(f\"\\\"{p['portfolio_name']}\\\"\")\n",
    "    %time name, res = simulate_portfolio(start_simulation, end_simulation, p)\n",
    "    simulation_results[name] = res\n",
    "    print(f\"Final value: {res.iloc[-1,-1]}\\n\\n\")"
   ]
  },
  {
   "cell_type": "markdown",
   "metadata": {},
   "source": [
    "# END OF SIMULATION"
   ]
  },
  {
   "cell_type": "code",
   "execution_count": 9,
   "metadata": {
    "scrolled": false
   },
   "outputs": [
    {
     "name": "stdout",
     "output_type": "stream",
     "text": [
      "NM_ETHBTC_GradBoost_alpha1\n",
      "Portfolio simulation for 1 ETH trading against BTC\n"
     ]
    },
    {
     "data": {
      "text/html": [
       "<div>\n",
       "<style scoped>\n",
       "    .dataframe tbody tr th:only-of-type {\n",
       "        vertical-align: middle;\n",
       "    }\n",
       "\n",
       "    .dataframe tbody tr th {\n",
       "        vertical-align: top;\n",
       "    }\n",
       "\n",
       "    .dataframe thead th {\n",
       "        text-align: right;\n",
       "    }\n",
       "</style>\n",
       "<table border=\"1\" class=\"dataframe\">\n",
       "  <thead>\n",
       "    <tr style=\"text-align: right;\">\n",
       "      <th></th>\n",
       "      <th>open</th>\n",
       "      <th>high</th>\n",
       "      <th>low</th>\n",
       "      <th>close</th>\n",
       "      <th>trade_decision</th>\n",
       "      <th>fund1</th>\n",
       "      <th>fund2</th>\n",
       "      <th>action</th>\n",
       "      <th>total_value</th>\n",
       "    </tr>\n",
       "    <tr>\n",
       "      <th>open_time</th>\n",
       "      <th></th>\n",
       "      <th></th>\n",
       "      <th></th>\n",
       "      <th></th>\n",
       "      <th></th>\n",
       "      <th></th>\n",
       "      <th></th>\n",
       "      <th></th>\n",
       "      <th></th>\n",
       "    </tr>\n",
       "  </thead>\n",
       "  <tbody>\n",
       "  </tbody>\n",
       "</table>\n",
       "</div>"
      ],
      "text/plain": [
       "Empty DataFrame\n",
       "Columns: [open, high, low, close, trade_decision, fund1, fund2, action, total_value]\n",
       "Index: []"
      ]
     },
     "metadata": {},
     "output_type": "display_data"
    },
    {
     "data": {
      "text/plain": [
       "none    19825\n",
       "Name: action, dtype: int64"
      ]
     },
     "metadata": {},
     "output_type": "display_data"
    },
    {
     "name": "stdout",
     "output_type": "stream",
     "text": [
      "NM_ETHBTC_XGBoost_alpha1\n",
      "Portfolio simulation for 1 ETH trading against BTC\n"
     ]
    },
    {
     "data": {
      "text/html": [
       "<div>\n",
       "<style scoped>\n",
       "    .dataframe tbody tr th:only-of-type {\n",
       "        vertical-align: middle;\n",
       "    }\n",
       "\n",
       "    .dataframe tbody tr th {\n",
       "        vertical-align: top;\n",
       "    }\n",
       "\n",
       "    .dataframe thead th {\n",
       "        text-align: right;\n",
       "    }\n",
       "</style>\n",
       "<table border=\"1\" class=\"dataframe\">\n",
       "  <thead>\n",
       "    <tr style=\"text-align: right;\">\n",
       "      <th></th>\n",
       "      <th>open</th>\n",
       "      <th>high</th>\n",
       "      <th>low</th>\n",
       "      <th>close</th>\n",
       "      <th>trade_decision</th>\n",
       "      <th>fund1</th>\n",
       "      <th>fund2</th>\n",
       "      <th>action</th>\n",
       "      <th>total_value</th>\n",
       "    </tr>\n",
       "    <tr>\n",
       "      <th>open_time</th>\n",
       "      <th></th>\n",
       "      <th></th>\n",
       "      <th></th>\n",
       "      <th></th>\n",
       "      <th></th>\n",
       "      <th></th>\n",
       "      <th></th>\n",
       "      <th></th>\n",
       "      <th></th>\n",
       "    </tr>\n",
       "  </thead>\n",
       "  <tbody>\n",
       "  </tbody>\n",
       "</table>\n",
       "</div>"
      ],
      "text/plain": [
       "Empty DataFrame\n",
       "Columns: [open, high, low, close, trade_decision, fund1, fund2, action, total_value]\n",
       "Index: []"
      ]
     },
     "metadata": {},
     "output_type": "display_data"
    },
    {
     "data": {
      "text/plain": [
       "none    19825\n",
       "Name: action, dtype: int64"
      ]
     },
     "metadata": {},
     "output_type": "display_data"
    }
   ],
   "source": [
    "for k,v in simulation_results.items():\n",
    "    print(k)\n",
    "    print(f\"Portfolio simulation for {p['starting_funds']} {p['starting_coin']} trading against {p['pair_coin']}\")\n",
    "    display(v[v['action']!='none'])\n",
    "    display(v['action'].value_counts())"
   ]
  },
  {
   "cell_type": "code",
   "execution_count": 10,
   "metadata": {},
   "outputs": [
    {
     "data": {
      "image/png": "[encoded data removed]",
      "text/plain": [
       "<Figure size 432x288 with 1 Axes>"
      ]
     },
     "metadata": {
      "needs_background": "light"
     },
     "output_type": "display_data"
    },
    {
     "data": {
      "image/png": "[encoded data removed]",
      "text/plain": [
       "<Figure size 432x288 with 1 Axes>"
      ]
     },
     "metadata": {
      "needs_background": "light"
     },
     "output_type": "display_data"
    }
   ],
   "source": [
    "import matplotlib.pyplot as plt\n",
    "for k,v in simulation_results.items():\n",
    "    v[v['action']!='none'].to_csv(f'./results/{k}.csv')\n",
    "    fig, ax = plt.subplots()\n",
    "    ax.set_title(k)\n",
    "    v.total_value.plot(figure=fig)"
   ]
  }
 ],
 "metadata": {
  "kernelspec": {
   "display_name": "Python 3",
   "language": "python",
   "name": "python3"
  },
  "language_info": {
   "codemirror_mode": {
    "name": "ipython",
    "version": 3
   },
   "file_extension": ".py",
   "mimetype": "text/x-python",
   "name": "python",
   "nbconvert_exporter": "python",
   "pygments_lexer": "ipython3",
   "version": "3.8.5"
  }
 },
 "nbformat": 4,
 "nbformat_minor": 4
}
